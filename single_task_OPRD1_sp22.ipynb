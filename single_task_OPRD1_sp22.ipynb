{
 "cells": [
  {
   "cell_type": "code",
   "execution_count": 1,
   "id": "c272642b-fffa-4740-b4a7-f703d6b8a914",
   "metadata": {
    "pycharm": {
     "name": "#%%\n"
    }
   },
   "outputs": [
    {
     "name": "stderr",
     "output_type": "stream",
     "text": [
      "2022-01-27 12:24:48.682273: W tensorflow/stream_executor/platform/default/dso_loader.cc:64] Could not load dynamic library 'libcudart.so.11.0'; dlerror: libcudart.so.11.0: cannot open shared object file: No such file or directory; LD_LIBRARY_PATH: /apps/spack/brown/apps/proj/5.2.0-gcc-4.8.5-usib7od/lib:/apps/spack/brown/apps/geos/3.7.2-gcc-4.8.5-3vanyva/lib:/apps/spack/brown/apps/gdal/2.4.2-gcc-4.8.5-uj736h3/lib:/apps/spack/brown/apps/netcdf/4.5.0-gcc-6.3.0-d6fczmr/lib:/apps/spack/brown/apps/libtiff/4.0.10-gcc-6.3.0-6p5trqs/lib:/apps/spack/brown/apps/hdf5/1.8.16-gcc-6.3.0-7q7ndrz/lib:/apps/spack/brown/apps/hdf/4.2.14-gcc-6.3.0-2xg7pyg/lib:/scratch/brown/kamstut/tdm/apps/jupyter/kernels/llnl/.venv/lib:/apps/spack/brown/apps/r/4.0.0-gcc-6.3.0-hrvmcqp/rlib/R/lib:/apps/spack/brown/apps/openblas/0.3.7-gcc-6.3.0-qk24sho/lib:/apps/spack/brown/apps/tk/8.6.8-gcc-6.3.0-6qaesqb/lib:/apps/spack/brown/apps/tcl/8.6.8-gcc-6.3.0-n6mxabo/lib:/apps/spack/brown/apps/zlib/1.2.11-gcc-4.8.5-pkmj6e7/lib:/apps/spack/brown/apps/gcc/6.3.0-gcc-4.8.5-234aoxy/lib64:/apps/spack/brown/apps/gcc/6.3.0-gcc-4.8.5-234aoxy/lib:/apps/spack/brown/apps/mpc/1.1.0-gcc-4.8.5-eogmmao/lib:/apps/spack/brown/apps/mpfr/3.1.6-gcc-4.8.5-nsgsjfy/lib:/apps/spack/brown/apps/gmp/6.1.2-gcc-4.8.5-zn55wh7/lib:/scratch/brown/kamstut/tdm/opt/libffi-3.4.2/build/lib64:/usr/lib64\n",
      "2022-01-27 12:24:48.682354: I tensorflow/stream_executor/cuda/cudart_stub.cc:29] Ignore above cudart dlerror if you do not have a GPU set up on your machine.\n",
      "WARNING: You are using pip version 21.2.4; however, version 21.3.1 is available.\n",
      "You should consider upgrading via the '/scratch/brown/kamstut/tdm/apps/jupyter/kernels/llnl/.venv/bin/python -m pip install --upgrade pip' command.\n",
      "2022-01-27 12:25:42,264 Model tracker client not supported in your environment; will save models in filesystem only.\n",
      "2022-01-27 12:25:43,968 Model tracker client not supported in your environment; can look at models in filesystem only.\n"
     ]
    }
   ],
   "source": [
    "import pandas as pd\n",
    "import numpy as np\n",
    "import atomsci.ddm.pipeline.model_pipeline as mp\n",
    "import atomsci.ddm.pipeline.parameter_parser as parse\n",
    "import atomsci.ddm.utils.curate_data as curate_data\n",
    "import atomsci.ddm.utils.struct_utils as struct_utils\n",
    "from atomsci.ddm.pipeline import perf_plots as pp\n",
    "from atomsci.ddm.pipeline import perf_data\n",
    "from atomsci.ddm.pipeline import compare_models as cm\n",
    "\n",
    "\n",
    "import os, json, sys, glob, pickle\n",
    "import matplotlib.pyplot as plt\n",
    "import seaborn as sns\n",
    "from hyperopt import fmin, tpe, hp, Trials, STATUS_OK"
   ]
  },
  {
   "cell_type": "code",
   "execution_count": 2,
   "id": "1094e623-b7df-4e75-9674-ba070bea5f1b",
   "metadata": {
    "pycharm": {
     "name": "#%%\n"
    }
   },
   "outputs": [],
   "source": [
    "split_uuid = '/home/pmoulik/OPRD1sp22/OPRD1_sp22_train_valid_test_scaffold_ebfd92e1-3ad0-43e4-9139-7e215ca55a45'\n",
    "response_col = \"target_OPRD1_standard_value\"\n",
    "train_file = '/home/pmoulik/OPRD1_sp22.csv'\n",
    "df=pd.read_csv(train_file)\n",
    "df.rename(columns={'compound_id' : 'SMILES'},inplace=True)\n",
    "df['compound_id']=df.index\n",
    "ofile='/home/pmoulik/OPRD1_sp22.csv'\n",
    "df.to_csv(ofile,index=False)\n",
    "train_file=ofile\n",
    "compound_id = \"compound_id\"\n",
    "smiles_col = \"SMILES\"\n",
    "\n",
    "params = {\n",
    "        \"system\": \"LC\",\n",
    "        \"lc_account\": 'None',\n",
    "        \"datastore\": \"False\",\n",
    "        \"save_results\": \"False\",\n",
    "        \"prediction_type\": \"regression\",\n",
    "        \"dataset_key\": train_file,\n",
    "        \"id_col\": compound_id,\n",
    "        \"smiles_col\": smiles_col,\n",
    "        \"response_cols\": response_col,\n",
    "        \"split_uuid\": split_uuid,\n",
    "        \"previously_split\": \"False\",\n",
    "        \"featurizer\": \"ecfp\",\n",
    "        \"descriptor_type\": \"rdkit_raw\",\n",
    "        \"model_type\": \"RF\", # different model type \n",
    "        \"verbose\": \"True\",\n",
    "        \"transformers\": \"True\",\n",
    "        'max_epochs': '70',\n",
    "        \"rerun\": \"False\",\n",
    "        \"result_dir\": \"/home/pmoulik/RF_sp22/rdkit-raw/\"\n",
    "    }"
   ]
  },
  {
   "cell_type": "code",
   "execution_count": 3,
   "id": "e85d576f-1444-4554-b8b1-cee86f8767fb",
   "metadata": {
    "pycharm": {
     "name": "#%%\n"
    }
   },
   "outputs": [
    {
     "name": "stderr",
     "output_type": "stream",
     "text": [
      "2022-01-27 12:27:05,811 Created a dataset hash 'e0ad2cf61651f72b9c351ac059c34b72' from dataset_key '/home/pmoulik/OPRD1_sp22.csv'\n",
      "2022-01-27 12:27:05,820 previously_split is set False; ignoring split_uuid passed as parameter\n",
      "2022-01-27 12:27:05,822 Attempting to load featurized dataset\n",
      "2022-01-27 12:27:05,865 Exception when trying to load featurized data:\n",
      "DynamicFeaturization doesn't support get_featurized_dset_name()\n",
      "2022-01-27 12:27:05,870 Featurized dataset not previously saved for dataset OPRD1_sp22, creating new\n",
      "2022-01-27 12:27:06,200 Featurizing sample 0\n",
      "2022-01-27 12:27:09,423 Featurizing sample 1000\n",
      "2022-01-27 12:27:12,493 Featurizing sample 2000\n",
      "2022-01-27 12:27:15,567 Featurizing sample 3000\n",
      "2022-01-27 12:27:16,232 Splitting data by scaffold\n"
     ]
    },
    {
     "name": "stdout",
     "output_type": "stream",
     "text": [
      "number of features: 1024\n"
     ]
    },
    {
     "name": "stderr",
     "output_type": "stream",
     "text": [
      "2022-01-27 12:27:18,627 Dataset split table saved to /home/pmoulik/OPRD1_sp22_train_valid_test_scaffold_c9ca62a1-6fb6-4621-8223-e117eda9e842.csv\n",
      "2022-01-27 12:27:18,674 Wrote transformers to /home/pmoulik/RF_sp22/rdkit-raw/OPRD1_sp22/RF_ecfp_scaffold_regression/858ec84e-a24a-48e8-b3e8-ea31f1c0141f/transformers.pkl\n",
      "2022-01-27 12:27:18,676 Transforming response data\n",
      "2022-01-27 12:27:18,716 Transforming response data\n",
      "2022-01-27 12:27:18,727 Transforming response data\n",
      "2022-01-27 12:27:18,737 Fitting random forest model\n",
      "2022-01-27 12:27:26,465 Fold 0: training r2_score = 0.965, validation r2_score = 0.747, test r2_score = 0.694\n",
      "2022-01-27 12:27:28,809 Wrote model tarball to /home/pmoulik/RF_sp22/rdkit-raw/OPRD1_sp22_model_858ec84e-a24a-48e8-b3e8-ea31f1c0141f.tar.gz\n"
     ]
    }
   ],
   "source": [
    "rd_param = parse.wrapper(params)\n",
    "rd = mp.ModelPipeline(rd_param)\n",
    "rd.train_model()"
   ]
  },
  {
   "cell_type": "code",
   "execution_count": 4,
   "id": "8c226ef5-7810-4866-ab00-8c5d894ef6a9",
   "metadata": {
    "pycharm": {
     "name": "#%%\n"
    }
   },
   "outputs": [
    {
     "name": "stderr",
     "output_type": "stream",
     "text": [
      "2022-01-27 12:28:18,775 Created a dataset hash 'e0ad2cf61651f72b9c351ac059c34b72' from dataset_key '/home/pmoulik/OPRD1_sp22.csv'\n",
      "2022-01-27 12:28:18,785 previously_split is set False; ignoring split_uuid passed as parameter\n",
      "2022-01-27 12:28:18,788 Attempting to load featurized dataset\n",
      "2022-01-27 12:28:18,801 Exception when trying to load featurized data:\n",
      "DynamicFeaturization doesn't support get_featurized_dset_name()\n",
      "2022-01-27 12:28:18,804 Featurized dataset not previously saved for dataset OPRD1_sp22, creating new\n",
      "2022-01-27 12:28:18,817 Featurizing sample 0\n",
      "2022-01-27 12:28:21,967 Featurizing sample 1000\n",
      "2022-01-27 12:28:25,040 Featurizing sample 2000\n",
      "2022-01-27 12:28:28,083 Featurizing sample 3000\n",
      "2022-01-27 12:28:28,736 Splitting data by scaffold\n"
     ]
    },
    {
     "name": "stdout",
     "output_type": "stream",
     "text": [
      "number of features: 1024\n"
     ]
    },
    {
     "name": "stderr",
     "output_type": "stream",
     "text": [
      "2022-01-27 12:28:30,772 Dataset split table saved to /home/pmoulik/OPRD1_sp22_train_valid_test_scaffold_205d324e-6d5d-44f1-8a12-b85c2c542f37.csv\n",
      "2022-01-27 12:28:30,816 Wrote transformers to /home/pmoulik/RF_sp22/rdkit-raw/OPRD1_sp22/RF_ecfp_scaffold_regression/343ad0e5-c5bc-49a8-aea7-b601e9f729ec/transformers.pkl\n",
      "2022-01-27 12:28:30,818 Transforming response data\n",
      "2022-01-27 12:28:30,849 Transforming response data\n",
      "2022-01-27 12:28:30,860 Transforming response data\n",
      "2022-01-27 12:28:30,871 Fitting random forest model\n",
      "2022-01-27 12:28:31,059 Fold 0: training r2_score = 0.871, validation r2_score = 0.683, test r2_score = 0.617\n",
      "2022-01-27 12:28:31,112 Wrote model tarball to /home/pmoulik/RF_sp22/rdkit-raw/OPRD1_sp22_model_343ad0e5-c5bc-49a8-aea7-b601e9f729ec.tar.gz\n",
      "2022-01-27 12:28:31,154 Created a dataset hash 'e0ad2cf61651f72b9c351ac059c34b72' from dataset_key '/home/pmoulik/OPRD1_sp22.csv'\n",
      "2022-01-27 12:28:31,161 previously_split is set False; ignoring split_uuid passed as parameter\n",
      "2022-01-27 12:28:31,163 Attempting to load featurized dataset\n",
      "2022-01-27 12:28:31,171 Exception when trying to load featurized data:\n",
      "DynamicFeaturization doesn't support get_featurized_dset_name()\n",
      "2022-01-27 12:28:31,173 Featurized dataset not previously saved for dataset OPRD1_sp22, creating new\n",
      "2022-01-27 12:28:31,182 Featurizing sample 0\n"
     ]
    },
    {
     "name": "stdout",
     "output_type": "stream",
     "text": [
      "rf_estimators: 16, rf_max_depth: 16, rf_max_features: 16, valid_r2: 0.6826156755448965\n"
     ]
    },
    {
     "name": "stderr",
     "output_type": "stream",
     "text": [
      "2022-01-27 12:28:34,209 Featurizing sample 1000\n",
      "2022-01-27 12:28:37,267 Featurizing sample 2000\n",
      "2022-01-27 12:28:40,433 Featurizing sample 3000\n",
      "2022-01-27 12:28:41,084 Splitting data by scaffold\n"
     ]
    },
    {
     "name": "stdout",
     "output_type": "stream",
     "text": [
      "number of features: 1024\n"
     ]
    },
    {
     "name": "stderr",
     "output_type": "stream",
     "text": [
      "2022-01-27 12:28:43,046 Dataset split table saved to /home/pmoulik/OPRD1_sp22_train_valid_test_scaffold_6876b3ec-fe21-45d2-8a85-65e8f965da36.csv\n",
      "2022-01-27 12:28:43,095 Wrote transformers to /home/pmoulik/RF_sp22/rdkit-raw/OPRD1_sp22/RF_ecfp_scaffold_regression/480f5940-7c8b-493b-8ec4-19d6b3d06a28/transformers.pkl\n",
      "2022-01-27 12:28:43,097 Transforming response data\n",
      "2022-01-27 12:28:43,135 Transforming response data\n",
      "2022-01-27 12:28:43,146 Transforming response data\n",
      "2022-01-27 12:28:43,157 Fitting random forest model\n",
      "2022-01-27 12:28:43,374 Fold 0: training r2_score = 0.908, validation r2_score = 0.715, test r2_score = 0.668\n",
      "2022-01-27 12:28:43,440 Wrote model tarball to /home/pmoulik/RF_sp22/rdkit-raw/OPRD1_sp22_model_480f5940-7c8b-493b-8ec4-19d6b3d06a28.tar.gz\n",
      "2022-01-27 12:28:43,482 Created a dataset hash 'e0ad2cf61651f72b9c351ac059c34b72' from dataset_key '/home/pmoulik/OPRD1_sp22.csv'\n",
      "2022-01-27 12:28:43,488 previously_split is set False; ignoring split_uuid passed as parameter\n",
      "2022-01-27 12:28:43,489 Attempting to load featurized dataset\n",
      "2022-01-27 12:28:43,499 Exception when trying to load featurized data:\n",
      "DynamicFeaturization doesn't support get_featurized_dset_name()\n",
      "2022-01-27 12:28:43,500 Featurized dataset not previously saved for dataset OPRD1_sp22, creating new\n",
      "2022-01-27 12:28:43,511 Featurizing sample 0\n"
     ]
    },
    {
     "name": "stdout",
     "output_type": "stream",
     "text": [
      "rf_estimators: 16, rf_max_depth: 16, rf_max_features: 32, valid_r2: 0.7148416421651164\n"
     ]
    },
    {
     "name": "stderr",
     "output_type": "stream",
     "text": [
      "2022-01-27 12:28:46,547 Featurizing sample 1000\n",
      "2022-01-27 12:28:49,611 Featurizing sample 2000\n",
      "2022-01-27 12:28:52,772 Featurizing sample 3000\n",
      "2022-01-27 12:28:53,419 Splitting data by scaffold\n"
     ]
    },
    {
     "name": "stdout",
     "output_type": "stream",
     "text": [
      "number of features: 1024\n"
     ]
    },
    {
     "name": "stderr",
     "output_type": "stream",
     "text": [
      "2022-01-27 12:28:55,384 Dataset split table saved to /home/pmoulik/OPRD1_sp22_train_valid_test_scaffold_a1962428-d57f-4f4f-bcde-a102817fc388.csv\n",
      "2022-01-27 12:28:55,441 Wrote transformers to /home/pmoulik/RF_sp22/rdkit-raw/OPRD1_sp22/RF_ecfp_scaffold_regression/829c2357-7cb1-44fa-8862-2ba82718b799/transformers.pkl\n",
      "2022-01-27 12:28:55,442 Transforming response data\n",
      "2022-01-27 12:28:55,480 Transforming response data\n",
      "2022-01-27 12:28:55,490 Transforming response data\n",
      "2022-01-27 12:28:55,500 Fitting random forest model\n",
      "2022-01-27 12:28:55,775 Fold 0: training r2_score = 0.922, validation r2_score = 0.715, test r2_score = 0.642\n",
      "2022-01-27 12:28:55,838 Wrote model tarball to /home/pmoulik/RF_sp22/rdkit-raw/OPRD1_sp22_model_829c2357-7cb1-44fa-8862-2ba82718b799.tar.gz\n",
      "2022-01-27 12:28:55,882 Created a dataset hash 'e0ad2cf61651f72b9c351ac059c34b72' from dataset_key '/home/pmoulik/OPRD1_sp22.csv'\n",
      "2022-01-27 12:28:55,888 previously_split is set False; ignoring split_uuid passed as parameter\n",
      "2022-01-27 12:28:55,890 Attempting to load featurized dataset\n",
      "2022-01-27 12:28:55,899 Exception when trying to load featurized data:\n",
      "DynamicFeaturization doesn't support get_featurized_dset_name()\n",
      "2022-01-27 12:28:55,901 Featurized dataset not previously saved for dataset OPRD1_sp22, creating new\n",
      "2022-01-27 12:28:55,910 Featurizing sample 0\n"
     ]
    },
    {
     "name": "stdout",
     "output_type": "stream",
     "text": [
      "rf_estimators: 16, rf_max_depth: 16, rf_max_features: 64, valid_r2: 0.7148413641317424\n"
     ]
    },
    {
     "name": "stderr",
     "output_type": "stream",
     "text": [
      "2022-01-27 12:28:58,961 Featurizing sample 1000\n",
      "2022-01-27 12:29:02,125 Featurizing sample 2000\n",
      "2022-01-27 12:29:05,177 Featurizing sample 3000\n",
      "2022-01-27 12:29:05,827 Splitting data by scaffold\n"
     ]
    },
    {
     "name": "stdout",
     "output_type": "stream",
     "text": [
      "number of features: 1024\n"
     ]
    },
    {
     "name": "stderr",
     "output_type": "stream",
     "text": [
      "2022-01-27 12:29:07,793 Dataset split table saved to /home/pmoulik/OPRD1_sp22_train_valid_test_scaffold_03debbfa-b768-4fd8-8289-1dde42da870c.csv\n",
      "2022-01-27 12:29:07,845 Wrote transformers to /home/pmoulik/RF_sp22/rdkit-raw/OPRD1_sp22/RF_ecfp_scaffold_regression/be717d6b-243a-420d-93cb-251d3a410232/transformers.pkl\n",
      "2022-01-27 12:29:07,847 Transforming response data\n",
      "2022-01-27 12:29:07,883 Transforming response data\n",
      "2022-01-27 12:29:07,893 Transforming response data\n",
      "2022-01-27 12:29:07,904 Fitting random forest model\n",
      "2022-01-27 12:29:08,293 Fold 0: training r2_score = 0.931, validation r2_score = 0.740, test r2_score = 0.665\n",
      "2022-01-27 12:29:08,358 Wrote model tarball to /home/pmoulik/RF_sp22/rdkit-raw/OPRD1_sp22_model_be717d6b-243a-420d-93cb-251d3a410232.tar.gz\n",
      "2022-01-27 12:29:08,401 Created a dataset hash 'e0ad2cf61651f72b9c351ac059c34b72' from dataset_key '/home/pmoulik/OPRD1_sp22.csv'\n",
      "2022-01-27 12:29:08,408 previously_split is set False; ignoring split_uuid passed as parameter\n",
      "2022-01-27 12:29:08,410 Attempting to load featurized dataset\n",
      "2022-01-27 12:29:08,420 Exception when trying to load featurized data:\n",
      "DynamicFeaturization doesn't support get_featurized_dset_name()\n",
      "2022-01-27 12:29:08,422 Featurized dataset not previously saved for dataset OPRD1_sp22, creating new\n",
      "2022-01-27 12:29:08,433 Featurizing sample 0\n"
     ]
    },
    {
     "name": "stdout",
     "output_type": "stream",
     "text": [
      "rf_estimators: 16, rf_max_depth: 16, rf_max_features: 128, valid_r2: 0.7401887097706386\n"
     ]
    },
    {
     "name": "stderr",
     "output_type": "stream",
     "text": [
      "2022-01-27 12:29:11,638 Featurizing sample 1000\n",
      "2022-01-27 12:29:14,694 Featurizing sample 2000\n",
      "2022-01-27 12:29:17,753 Featurizing sample 3000\n",
      "2022-01-27 12:29:18,402 Splitting data by scaffold\n"
     ]
    },
    {
     "name": "stdout",
     "output_type": "stream",
     "text": [
      "number of features: 1024\n"
     ]
    },
    {
     "name": "stderr",
     "output_type": "stream",
     "text": [
      "2022-01-27 12:29:20,364 Dataset split table saved to /home/pmoulik/OPRD1_sp22_train_valid_test_scaffold_dd6a1a96-d58c-43a9-b461-6a651388cc8b.csv\n",
      "2022-01-27 12:29:20,416 Wrote transformers to /home/pmoulik/RF_sp22/rdkit-raw/OPRD1_sp22/RF_ecfp_scaffold_regression/9fe15953-f0fd-407d-87c9-a84f253bceb3/transformers.pkl\n",
      "2022-01-27 12:29:20,418 Transforming response data\n",
      "2022-01-27 12:29:20,453 Transforming response data\n",
      "2022-01-27 12:29:20,464 Transforming response data\n",
      "2022-01-27 12:29:20,474 Fitting random forest model\n",
      "2022-01-27 12:29:20,734 Fold 0: training r2_score = 0.952, validation r2_score = 0.719, test r2_score = 0.630\n",
      "2022-01-27 12:29:20,826 Wrote model tarball to /home/pmoulik/RF_sp22/rdkit-raw/OPRD1_sp22_model_9fe15953-f0fd-407d-87c9-a84f253bceb3.tar.gz\n",
      "2022-01-27 12:29:20,867 Created a dataset hash 'e0ad2cf61651f72b9c351ac059c34b72' from dataset_key '/home/pmoulik/OPRD1_sp22.csv'\n",
      "2022-01-27 12:29:20,873 previously_split is set False; ignoring split_uuid passed as parameter\n",
      "2022-01-27 12:29:20,875 Attempting to load featurized dataset\n",
      "2022-01-27 12:29:20,885 Exception when trying to load featurized data:\n",
      "DynamicFeaturization doesn't support get_featurized_dset_name()\n",
      "2022-01-27 12:29:20,886 Featurized dataset not previously saved for dataset OPRD1_sp22, creating new\n",
      "2022-01-27 12:29:20,897 Featurizing sample 0\n"
     ]
    },
    {
     "name": "stdout",
     "output_type": "stream",
     "text": [
      "rf_estimators: 16, rf_max_depth: 32, rf_max_features: 16, valid_r2: 0.7191286341605946\n"
     ]
    },
    {
     "name": "stderr",
     "output_type": "stream",
     "text": [
      "2022-01-27 12:29:24,045 Featurizing sample 1000\n",
      "2022-01-27 12:29:27,106 Featurizing sample 2000\n",
      "2022-01-27 12:29:30,167 Featurizing sample 3000\n",
      "2022-01-27 12:29:30,817 Splitting data by scaffold\n"
     ]
    },
    {
     "name": "stdout",
     "output_type": "stream",
     "text": [
      "number of features: 1024\n"
     ]
    },
    {
     "name": "stderr",
     "output_type": "stream",
     "text": [
      "2022-01-27 12:29:32,915 Dataset split table saved to /home/pmoulik/OPRD1_sp22_train_valid_test_scaffold_bdd5ba15-8d24-41cb-a6b3-0de84757fcf8.csv\n",
      "2022-01-27 12:29:32,969 Wrote transformers to /home/pmoulik/RF_sp22/rdkit-raw/OPRD1_sp22/RF_ecfp_scaffold_regression/503511af-af01-41a4-b01f-b67ab9dfc36b/transformers.pkl\n",
      "2022-01-27 12:29:32,971 Transforming response data\n",
      "2022-01-27 12:29:33,010 Transforming response data\n",
      "2022-01-27 12:29:33,021 Transforming response data\n",
      "2022-01-27 12:29:33,031 Fitting random forest model\n",
      "2022-01-27 12:29:33,325 Fold 0: training r2_score = 0.955, validation r2_score = 0.724, test r2_score = 0.666\n",
      "2022-01-27 12:29:33,416 Wrote model tarball to /home/pmoulik/RF_sp22/rdkit-raw/OPRD1_sp22_model_503511af-af01-41a4-b01f-b67ab9dfc36b.tar.gz\n",
      "2022-01-27 12:29:33,459 Created a dataset hash 'e0ad2cf61651f72b9c351ac059c34b72' from dataset_key '/home/pmoulik/OPRD1_sp22.csv'\n",
      "2022-01-27 12:29:33,465 previously_split is set False; ignoring split_uuid passed as parameter\n",
      "2022-01-27 12:29:33,467 Attempting to load featurized dataset\n",
      "2022-01-27 12:29:33,476 Exception when trying to load featurized data:\n",
      "DynamicFeaturization doesn't support get_featurized_dset_name()\n",
      "2022-01-27 12:29:33,478 Featurized dataset not previously saved for dataset OPRD1_sp22, creating new\n",
      "2022-01-27 12:29:33,488 Featurizing sample 0\n"
     ]
    },
    {
     "name": "stdout",
     "output_type": "stream",
     "text": [
      "rf_estimators: 16, rf_max_depth: 32, rf_max_features: 32, valid_r2: 0.7240797933668105\n"
     ]
    },
    {
     "name": "stderr",
     "output_type": "stream",
     "text": [
      "2022-01-27 12:29:36,524 Featurizing sample 1000\n",
      "2022-01-27 12:29:39,583 Featurizing sample 2000\n",
      "2022-01-27 12:29:42,734 Featurizing sample 3000\n",
      "2022-01-27 12:29:43,387 Splitting data by scaffold\n"
     ]
    },
    {
     "name": "stdout",
     "output_type": "stream",
     "text": [
      "number of features: 1024\n"
     ]
    },
    {
     "name": "stderr",
     "output_type": "stream",
     "text": [
      "2022-01-27 12:29:45,350 Dataset split table saved to /home/pmoulik/OPRD1_sp22_train_valid_test_scaffold_19af409b-3c80-41ac-b780-6951906adf8b.csv\n",
      "2022-01-27 12:29:45,402 Wrote transformers to /home/pmoulik/RF_sp22/rdkit-raw/OPRD1_sp22/RF_ecfp_scaffold_regression/fe6aa300-08d5-4490-bf4c-6a732ccbd808/transformers.pkl\n",
      "2022-01-27 12:29:45,404 Transforming response data\n",
      "2022-01-27 12:29:45,439 Transforming response data\n",
      "2022-01-27 12:29:45,450 Transforming response data\n",
      "2022-01-27 12:29:45,461 Fitting random forest model\n",
      "2022-01-27 12:29:45,822 Fold 0: training r2_score = 0.956, validation r2_score = 0.737, test r2_score = 0.683\n",
      "2022-01-27 12:29:45,912 Wrote model tarball to /home/pmoulik/RF_sp22/rdkit-raw/OPRD1_sp22_model_fe6aa300-08d5-4490-bf4c-6a732ccbd808.tar.gz\n",
      "2022-01-27 12:29:45,954 Created a dataset hash 'e0ad2cf61651f72b9c351ac059c34b72' from dataset_key '/home/pmoulik/OPRD1_sp22.csv'\n",
      "2022-01-27 12:29:45,961 previously_split is set False; ignoring split_uuid passed as parameter\n",
      "2022-01-27 12:29:45,963 Attempting to load featurized dataset\n",
      "2022-01-27 12:29:45,972 Exception when trying to load featurized data:\n",
      "DynamicFeaturization doesn't support get_featurized_dset_name()\n",
      "2022-01-27 12:29:45,974 Featurized dataset not previously saved for dataset OPRD1_sp22, creating new\n",
      "2022-01-27 12:29:45,983 Featurizing sample 0\n"
     ]
    },
    {
     "name": "stdout",
     "output_type": "stream",
     "text": [
      "rf_estimators: 16, rf_max_depth: 32, rf_max_features: 64, valid_r2: 0.7368783175934857\n"
     ]
    },
    {
     "name": "stderr",
     "output_type": "stream",
     "text": [
      "2022-01-27 12:29:49,031 Featurizing sample 1000\n",
      "2022-01-27 12:29:52,102 Featurizing sample 2000\n",
      "2022-01-27 12:29:55,261 Featurizing sample 3000\n",
      "2022-01-27 12:29:55,915 Splitting data by scaffold\n"
     ]
    },
    {
     "name": "stdout",
     "output_type": "stream",
     "text": [
      "number of features: 1024\n"
     ]
    },
    {
     "name": "stderr",
     "output_type": "stream",
     "text": [
      "2022-01-27 12:29:57,896 Dataset split table saved to /home/pmoulik/OPRD1_sp22_train_valid_test_scaffold_4dd80d09-de39-46f2-889b-6ad6ddbb5651.csv\n",
      "2022-01-27 12:29:57,947 Wrote transformers to /home/pmoulik/RF_sp22/rdkit-raw/OPRD1_sp22/RF_ecfp_scaffold_regression/ecbce5bf-f8a6-448f-bae9-ebec469e003b/transformers.pkl\n",
      "2022-01-27 12:29:57,949 Transforming response data\n",
      "2022-01-27 12:29:57,984 Transforming response data\n",
      "2022-01-27 12:29:57,995 Transforming response data\n",
      "2022-01-27 12:29:58,004 Fitting random forest model\n",
      "2022-01-27 12:29:58,476 Fold 0: training r2_score = 0.958, validation r2_score = 0.742, test r2_score = 0.685\n",
      "2022-01-27 12:29:58,567 Wrote model tarball to /home/pmoulik/RF_sp22/rdkit-raw/OPRD1_sp22_model_ecbce5bf-f8a6-448f-bae9-ebec469e003b.tar.gz\n",
      "2022-01-27 12:29:58,607 Created a dataset hash 'e0ad2cf61651f72b9c351ac059c34b72' from dataset_key '/home/pmoulik/OPRD1_sp22.csv'\n",
      "2022-01-27 12:29:58,613 previously_split is set False; ignoring split_uuid passed as parameter\n",
      "2022-01-27 12:29:58,615 Attempting to load featurized dataset\n",
      "2022-01-27 12:29:58,624 Exception when trying to load featurized data:\n",
      "DynamicFeaturization doesn't support get_featurized_dset_name()\n",
      "2022-01-27 12:29:58,625 Featurized dataset not previously saved for dataset OPRD1_sp22, creating new\n",
      "2022-01-27 12:29:58,635 Featurizing sample 0\n"
     ]
    },
    {
     "name": "stdout",
     "output_type": "stream",
     "text": [
      "rf_estimators: 16, rf_max_depth: 32, rf_max_features: 128, valid_r2: 0.7415158452043988\n"
     ]
    },
    {
     "name": "stderr",
     "output_type": "stream",
     "text": [
      "2022-01-27 12:30:01,669 Featurizing sample 1000\n",
      "2022-01-27 12:30:04,832 Featurizing sample 2000\n",
      "2022-01-27 12:30:08,012 Featurizing sample 3000\n",
      "2022-01-27 12:30:08,662 Splitting data by scaffold\n"
     ]
    },
    {
     "name": "stdout",
     "output_type": "stream",
     "text": [
      "number of features: 1024\n"
     ]
    },
    {
     "name": "stderr",
     "output_type": "stream",
     "text": [
      "2022-01-27 12:30:10,833 Dataset split table saved to /home/pmoulik/OPRD1_sp22_train_valid_test_scaffold_0a5aedf7-45cd-47b1-82de-0b65870a96a3.csv\n",
      "2022-01-27 12:30:10,885 Wrote transformers to /home/pmoulik/RF_sp22/rdkit-raw/OPRD1_sp22/RF_ecfp_scaffold_regression/30333590-81e7-4152-adfd-744b9b027c82/transformers.pkl\n",
      "2022-01-27 12:30:10,887 Transforming response data\n",
      "2022-01-27 12:30:10,922 Transforming response data\n",
      "2022-01-27 12:30:10,933 Transforming response data\n",
      "2022-01-27 12:30:10,943 Fitting random forest model\n",
      "2022-01-27 12:30:11,215 Fold 0: training r2_score = 0.956, validation r2_score = 0.717, test r2_score = 0.671\n",
      "2022-01-27 12:30:11,309 Wrote model tarball to /home/pmoulik/RF_sp22/rdkit-raw/OPRD1_sp22_model_30333590-81e7-4152-adfd-744b9b027c82.tar.gz\n",
      "2022-01-27 12:30:11,352 Created a dataset hash 'e0ad2cf61651f72b9c351ac059c34b72' from dataset_key '/home/pmoulik/OPRD1_sp22.csv'\n",
      "2022-01-27 12:30:11,358 previously_split is set False; ignoring split_uuid passed as parameter\n",
      "2022-01-27 12:30:11,360 Attempting to load featurized dataset\n",
      "2022-01-27 12:30:11,370 Exception when trying to load featurized data:\n",
      "DynamicFeaturization doesn't support get_featurized_dset_name()\n",
      "2022-01-27 12:30:11,372 Featurized dataset not previously saved for dataset OPRD1_sp22, creating new\n",
      "2022-01-27 12:30:11,383 Featurizing sample 0\n"
     ]
    },
    {
     "name": "stdout",
     "output_type": "stream",
     "text": [
      "rf_estimators: 16, rf_max_depth: 64, rf_max_features: 16, valid_r2: 0.7171553464629163\n"
     ]
    },
    {
     "name": "stderr",
     "output_type": "stream",
     "text": [
      "2022-01-27 12:30:14,415 Featurizing sample 1000\n",
      "2022-01-27 12:30:17,617 Featurizing sample 2000\n",
      "2022-01-27 12:30:20,658 Featurizing sample 3000\n",
      "2022-01-27 12:30:21,298 Splitting data by scaffold\n"
     ]
    },
    {
     "name": "stdout",
     "output_type": "stream",
     "text": [
      "number of features: 1024\n"
     ]
    },
    {
     "name": "stderr",
     "output_type": "stream",
     "text": [
      "2022-01-27 12:30:23,256 Dataset split table saved to /home/pmoulik/OPRD1_sp22_train_valid_test_scaffold_c9115f2a-e994-478e-99aa-035eedaa7c81.csv\n",
      "2022-01-27 12:30:23,307 Wrote transformers to /home/pmoulik/RF_sp22/rdkit-raw/OPRD1_sp22/RF_ecfp_scaffold_regression/b7430140-4d09-4206-861f-6398baf2591c/transformers.pkl\n",
      "2022-01-27 12:30:23,309 Transforming response data\n",
      "2022-01-27 12:30:23,345 Transforming response data\n",
      "2022-01-27 12:30:23,356 Transforming response data\n",
      "2022-01-27 12:30:23,367 Fitting random forest model\n",
      "2022-01-27 12:30:23,669 Fold 0: training r2_score = 0.958, validation r2_score = 0.715, test r2_score = 0.686\n",
      "2022-01-27 12:30:23,763 Wrote model tarball to /home/pmoulik/RF_sp22/rdkit-raw/OPRD1_sp22_model_b7430140-4d09-4206-861f-6398baf2591c.tar.gz\n",
      "2022-01-27 12:30:23,805 Created a dataset hash 'e0ad2cf61651f72b9c351ac059c34b72' from dataset_key '/home/pmoulik/OPRD1_sp22.csv'\n",
      "2022-01-27 12:30:23,817 previously_split is set False; ignoring split_uuid passed as parameter\n",
      "2022-01-27 12:30:23,819 Attempting to load featurized dataset\n",
      "2022-01-27 12:30:23,829 Exception when trying to load featurized data:\n",
      "DynamicFeaturization doesn't support get_featurized_dset_name()\n",
      "2022-01-27 12:30:23,830 Featurized dataset not previously saved for dataset OPRD1_sp22, creating new\n",
      "2022-01-27 12:30:23,840 Featurizing sample 0\n"
     ]
    },
    {
     "name": "stdout",
     "output_type": "stream",
     "text": [
      "rf_estimators: 16, rf_max_depth: 64, rf_max_features: 32, valid_r2: 0.7148537294465417\n"
     ]
    },
    {
     "name": "stderr",
     "output_type": "stream",
     "text": [
      "2022-01-27 12:30:26,992 Featurizing sample 1000\n",
      "2022-01-27 12:30:30,052 Featurizing sample 2000\n",
      "2022-01-27 12:30:33,106 Featurizing sample 3000\n",
      "2022-01-27 12:30:33,753 Splitting data by scaffold\n"
     ]
    },
    {
     "name": "stdout",
     "output_type": "stream",
     "text": [
      "number of features: 1024\n"
     ]
    },
    {
     "name": "stderr",
     "output_type": "stream",
     "text": [
      "2022-01-27 12:30:35,718 Dataset split table saved to /home/pmoulik/OPRD1_sp22_train_valid_test_scaffold_acfc5cad-2b91-4df0-bafd-0970eda4b882.csv\n",
      "2022-01-27 12:30:35,769 Wrote transformers to /home/pmoulik/RF_sp22/rdkit-raw/OPRD1_sp22/RF_ecfp_scaffold_regression/883ae441-d0c8-49ae-adc5-acc5600194e7/transformers.pkl\n",
      "2022-01-27 12:30:35,771 Transforming response data\n",
      "2022-01-27 12:30:35,807 Transforming response data\n",
      "2022-01-27 12:30:35,818 Transforming response data\n",
      "2022-01-27 12:30:35,828 Fitting random forest model\n",
      "2022-01-27 12:30:36,200 Fold 0: training r2_score = 0.957, validation r2_score = 0.743, test r2_score = 0.687\n",
      "2022-01-27 12:30:36,293 Wrote model tarball to /home/pmoulik/RF_sp22/rdkit-raw/OPRD1_sp22_model_883ae441-d0c8-49ae-adc5-acc5600194e7.tar.gz\n",
      "2022-01-27 12:30:36,335 Created a dataset hash 'e0ad2cf61651f72b9c351ac059c34b72' from dataset_key '/home/pmoulik/OPRD1_sp22.csv'\n",
      "2022-01-27 12:30:36,345 previously_split is set False; ignoring split_uuid passed as parameter\n",
      "2022-01-27 12:30:36,347 Attempting to load featurized dataset\n",
      "2022-01-27 12:30:36,356 Exception when trying to load featurized data:\n",
      "DynamicFeaturization doesn't support get_featurized_dset_name()\n",
      "2022-01-27 12:30:36,358 Featurized dataset not previously saved for dataset OPRD1_sp22, creating new\n",
      "2022-01-27 12:30:36,368 Featurizing sample 0\n"
     ]
    },
    {
     "name": "stdout",
     "output_type": "stream",
     "text": [
      "rf_estimators: 16, rf_max_depth: 64, rf_max_features: 64, valid_r2: 0.7425330957316554\n"
     ]
    },
    {
     "name": "stderr",
     "output_type": "stream",
     "text": [
      "2022-01-27 12:30:39,532 Featurizing sample 1000\n",
      "2022-01-27 12:30:42,592 Featurizing sample 2000\n",
      "2022-01-27 12:30:45,637 Featurizing sample 3000\n",
      "2022-01-27 12:30:46,287 Splitting data by scaffold\n"
     ]
    },
    {
     "name": "stdout",
     "output_type": "stream",
     "text": [
      "number of features: 1024\n"
     ]
    },
    {
     "name": "stderr",
     "output_type": "stream",
     "text": [
      "2022-01-27 12:30:48,351 Dataset split table saved to /home/pmoulik/OPRD1_sp22_train_valid_test_scaffold_6de8e3c5-9c13-4f22-afbd-ecb9e2f5fc0b.csv\n",
      "2022-01-27 12:30:48,403 Wrote transformers to /home/pmoulik/RF_sp22/rdkit-raw/OPRD1_sp22/RF_ecfp_scaffold_regression/03dc0af9-f783-4b6c-ac96-8403d8552da5/transformers.pkl\n",
      "2022-01-27 12:30:48,405 Transforming response data\n",
      "2022-01-27 12:30:48,440 Transforming response data\n",
      "2022-01-27 12:30:48,451 Transforming response data\n",
      "2022-01-27 12:30:48,461 Fitting random forest model\n",
      "2022-01-27 12:30:48,954 Fold 0: training r2_score = 0.959, validation r2_score = 0.732, test r2_score = 0.685\n",
      "2022-01-27 12:30:49,046 Wrote model tarball to /home/pmoulik/RF_sp22/rdkit-raw/OPRD1_sp22_model_03dc0af9-f783-4b6c-ac96-8403d8552da5.tar.gz\n",
      "2022-01-27 12:30:49,089 Created a dataset hash 'e0ad2cf61651f72b9c351ac059c34b72' from dataset_key '/home/pmoulik/OPRD1_sp22.csv'\n",
      "2022-01-27 12:30:49,094 previously_split is set False; ignoring split_uuid passed as parameter\n",
      "2022-01-27 12:30:49,096 Attempting to load featurized dataset\n",
      "2022-01-27 12:30:49,105 Exception when trying to load featurized data:\n",
      "DynamicFeaturization doesn't support get_featurized_dset_name()\n",
      "2022-01-27 12:30:49,107 Featurized dataset not previously saved for dataset OPRD1_sp22, creating new\n",
      "2022-01-27 12:30:49,117 Featurizing sample 0\n"
     ]
    },
    {
     "name": "stdout",
     "output_type": "stream",
     "text": [
      "rf_estimators: 16, rf_max_depth: 64, rf_max_features: 128, valid_r2: 0.7324415158941855\n"
     ]
    },
    {
     "name": "stderr",
     "output_type": "stream",
     "text": [
      "2022-01-27 12:30:52,153 Featurizing sample 1000\n",
      "2022-01-27 12:30:55,220 Featurizing sample 2000\n",
      "2022-01-27 12:30:58,390 Featurizing sample 3000\n",
      "2022-01-27 12:30:59,047 Splitting data by scaffold\n"
     ]
    },
    {
     "name": "stdout",
     "output_type": "stream",
     "text": [
      "number of features: 1024\n"
     ]
    },
    {
     "name": "stderr",
     "output_type": "stream",
     "text": [
      "2022-01-27 12:31:01,022 Dataset split table saved to /home/pmoulik/OPRD1_sp22_train_valid_test_scaffold_4c95fa94-6177-4bb8-8ec4-11b182a49505.csv\n",
      "2022-01-27 12:31:01,070 Wrote transformers to /home/pmoulik/RF_sp22/rdkit-raw/OPRD1_sp22/RF_ecfp_scaffold_regression/ac0b2ab3-ab39-42c7-badb-68a6eed362f9/transformers.pkl\n",
      "2022-01-27 12:31:01,072 Transforming response data\n",
      "2022-01-27 12:31:01,117 Transforming response data\n",
      "2022-01-27 12:31:01,129 Transforming response data\n",
      "2022-01-27 12:31:01,140 Fitting random forest model\n",
      "2022-01-27 12:31:01,415 Fold 0: training r2_score = 0.956, validation r2_score = 0.717, test r2_score = 0.671\n",
      "2022-01-27 12:31:01,510 Wrote model tarball to /home/pmoulik/RF_sp22/rdkit-raw/OPRD1_sp22_model_ac0b2ab3-ab39-42c7-badb-68a6eed362f9.tar.gz\n",
      "2022-01-27 12:31:01,552 Created a dataset hash 'e0ad2cf61651f72b9c351ac059c34b72' from dataset_key '/home/pmoulik/OPRD1_sp22.csv'\n",
      "2022-01-27 12:31:01,558 previously_split is set False; ignoring split_uuid passed as parameter\n",
      "2022-01-27 12:31:01,560 Attempting to load featurized dataset\n",
      "2022-01-27 12:31:01,570 Exception when trying to load featurized data:\n",
      "DynamicFeaturization doesn't support get_featurized_dset_name()\n",
      "2022-01-27 12:31:01,572 Featurized dataset not previously saved for dataset OPRD1_sp22, creating new\n",
      "2022-01-27 12:31:01,583 Featurizing sample 0\n"
     ]
    },
    {
     "name": "stdout",
     "output_type": "stream",
     "text": [
      "rf_estimators: 16, rf_max_depth: 128, rf_max_features: 16, valid_r2: 0.7171553464629163\n"
     ]
    },
    {
     "name": "stderr",
     "output_type": "stream",
     "text": [
      "2022-01-27 12:31:04,624 Featurizing sample 1000\n",
      "2022-01-27 12:31:07,674 Featurizing sample 2000\n",
      "2022-01-27 12:31:10,828 Featurizing sample 3000\n",
      "2022-01-27 12:31:11,488 Splitting data by scaffold\n"
     ]
    },
    {
     "name": "stdout",
     "output_type": "stream",
     "text": [
      "number of features: 1024\n"
     ]
    },
    {
     "name": "stderr",
     "output_type": "stream",
     "text": [
      "2022-01-27 12:31:13,502 Dataset split table saved to /home/pmoulik/OPRD1_sp22_train_valid_test_scaffold_c692f787-3163-4770-9357-d9848a69b5fc.csv\n",
      "2022-01-27 12:31:13,559 Wrote transformers to /home/pmoulik/RF_sp22/rdkit-raw/OPRD1_sp22/RF_ecfp_scaffold_regression/789e2208-ec86-4635-9ecf-d07cf788fe42/transformers.pkl\n",
      "2022-01-27 12:31:13,561 Transforming response data\n",
      "2022-01-27 12:31:13,602 Transforming response data\n",
      "2022-01-27 12:31:13,613 Transforming response data\n",
      "2022-01-27 12:31:13,623 Fitting random forest model\n",
      "2022-01-27 12:31:13,929 Fold 0: training r2_score = 0.958, validation r2_score = 0.719, test r2_score = 0.684\n",
      "2022-01-27 12:31:14,023 Wrote model tarball to /home/pmoulik/RF_sp22/rdkit-raw/OPRD1_sp22_model_789e2208-ec86-4635-9ecf-d07cf788fe42.tar.gz\n",
      "2022-01-27 12:31:14,065 Created a dataset hash 'e0ad2cf61651f72b9c351ac059c34b72' from dataset_key '/home/pmoulik/OPRD1_sp22.csv'\n",
      "2022-01-27 12:31:14,071 previously_split is set False; ignoring split_uuid passed as parameter\n",
      "2022-01-27 12:31:14,072 Attempting to load featurized dataset\n",
      "2022-01-27 12:31:14,082 Exception when trying to load featurized data:\n",
      "DynamicFeaturization doesn't support get_featurized_dset_name()\n",
      "2022-01-27 12:31:14,084 Featurized dataset not previously saved for dataset OPRD1_sp22, creating new\n",
      "2022-01-27 12:31:14,094 Featurizing sample 0\n"
     ]
    },
    {
     "name": "stdout",
     "output_type": "stream",
     "text": [
      "rf_estimators: 16, rf_max_depth: 128, rf_max_features: 32, valid_r2: 0.7189033953015893\n"
     ]
    },
    {
     "name": "stderr",
     "output_type": "stream",
     "text": [
      "2022-01-27 12:31:17,130 Featurizing sample 1000\n",
      "2022-01-27 12:31:20,351 Featurizing sample 2000\n",
      "2022-01-27 12:31:23,398 Featurizing sample 3000\n",
      "2022-01-27 12:31:24,054 Splitting data by scaffold\n"
     ]
    },
    {
     "name": "stdout",
     "output_type": "stream",
     "text": [
      "number of features: 1024\n"
     ]
    },
    {
     "name": "stderr",
     "output_type": "stream",
     "text": [
      "2022-01-27 12:31:26,041 Dataset split table saved to /home/pmoulik/OPRD1_sp22_train_valid_test_scaffold_bf2c3fc0-a2fe-4bc1-9281-8d4bcf5c716a.csv\n",
      "2022-01-27 12:31:26,110 Wrote transformers to /home/pmoulik/RF_sp22/rdkit-raw/OPRD1_sp22/RF_ecfp_scaffold_regression/c9c70206-bc41-469d-a4c2-67d061dc2882/transformers.pkl\n",
      "2022-01-27 12:31:26,112 Transforming response data\n",
      "2022-01-27 12:31:26,148 Transforming response data\n",
      "2022-01-27 12:31:26,158 Transforming response data\n",
      "2022-01-27 12:31:26,168 Fitting random forest model\n",
      "2022-01-27 12:31:26,538 Fold 0: training r2_score = 0.957, validation r2_score = 0.743, test r2_score = 0.687\n",
      "2022-01-27 12:31:26,630 Wrote model tarball to /home/pmoulik/RF_sp22/rdkit-raw/OPRD1_sp22_model_c9c70206-bc41-469d-a4c2-67d061dc2882.tar.gz\n",
      "2022-01-27 12:31:26,673 Created a dataset hash 'e0ad2cf61651f72b9c351ac059c34b72' from dataset_key '/home/pmoulik/OPRD1_sp22.csv'\n",
      "2022-01-27 12:31:26,679 previously_split is set False; ignoring split_uuid passed as parameter\n",
      "2022-01-27 12:31:26,680 Attempting to load featurized dataset\n",
      "2022-01-27 12:31:26,690 Exception when trying to load featurized data:\n",
      "DynamicFeaturization doesn't support get_featurized_dset_name()\n",
      "2022-01-27 12:31:26,691 Featurized dataset not previously saved for dataset OPRD1_sp22, creating new\n",
      "2022-01-27 12:31:26,702 Featurizing sample 0\n"
     ]
    },
    {
     "name": "stdout",
     "output_type": "stream",
     "text": [
      "rf_estimators: 16, rf_max_depth: 128, rf_max_features: 64, valid_r2: 0.7425330957316554\n"
     ]
    },
    {
     "name": "stderr",
     "output_type": "stream",
     "text": [
      "2022-01-27 12:31:29,834 Featurizing sample 1000\n",
      "2022-01-27 12:31:32,886 Featurizing sample 2000\n",
      "2022-01-27 12:31:35,929 Featurizing sample 3000\n",
      "2022-01-27 12:31:36,589 Splitting data by scaffold\n"
     ]
    },
    {
     "name": "stdout",
     "output_type": "stream",
     "text": [
      "number of features: 1024\n"
     ]
    },
    {
     "name": "stderr",
     "output_type": "stream",
     "text": [
      "2022-01-27 12:31:38,606 Dataset split table saved to /home/pmoulik/OPRD1_sp22_train_valid_test_scaffold_9322184f-2b65-4d9d-ae4e-4f74de5e5f20.csv\n",
      "2022-01-27 12:31:38,678 Wrote transformers to /home/pmoulik/RF_sp22/rdkit-raw/OPRD1_sp22/RF_ecfp_scaffold_regression/4640db18-32e1-42b5-b784-e34e053301db/transformers.pkl\n",
      "2022-01-27 12:31:38,680 Transforming response data\n",
      "2022-01-27 12:31:38,716 Transforming response data\n",
      "2022-01-27 12:31:38,727 Transforming response data\n",
      "2022-01-27 12:31:38,737 Fitting random forest model\n",
      "2022-01-27 12:31:39,233 Fold 0: training r2_score = 0.959, validation r2_score = 0.732, test r2_score = 0.685\n",
      "2022-01-27 12:31:39,323 Wrote model tarball to /home/pmoulik/RF_sp22/rdkit-raw/OPRD1_sp22_model_4640db18-32e1-42b5-b784-e34e053301db.tar.gz\n",
      "2022-01-27 12:31:39,365 Created a dataset hash 'e0ad2cf61651f72b9c351ac059c34b72' from dataset_key '/home/pmoulik/OPRD1_sp22.csv'\n",
      "2022-01-27 12:31:39,371 previously_split is set False; ignoring split_uuid passed as parameter\n",
      "2022-01-27 12:31:39,373 Attempting to load featurized dataset\n",
      "2022-01-27 12:31:39,383 Exception when trying to load featurized data:\n",
      "DynamicFeaturization doesn't support get_featurized_dset_name()\n",
      "2022-01-27 12:31:39,384 Featurized dataset not previously saved for dataset OPRD1_sp22, creating new\n",
      "2022-01-27 12:31:39,394 Featurizing sample 0\n"
     ]
    },
    {
     "name": "stdout",
     "output_type": "stream",
     "text": [
      "rf_estimators: 16, rf_max_depth: 128, rf_max_features: 128, valid_r2: 0.7324415158941855\n"
     ]
    },
    {
     "name": "stderr",
     "output_type": "stream",
     "text": [
      "2022-01-27 12:31:42,559 Featurizing sample 1000\n",
      "2022-01-27 12:31:45,609 Featurizing sample 2000\n",
      "2022-01-27 12:31:48,671 Featurizing sample 3000\n",
      "2022-01-27 12:31:49,320 Splitting data by scaffold\n"
     ]
    },
    {
     "name": "stdout",
     "output_type": "stream",
     "text": [
      "number of features: 1024\n"
     ]
    },
    {
     "name": "stderr",
     "output_type": "stream",
     "text": [
      "2022-01-27 12:31:51,425 Dataset split table saved to /home/pmoulik/OPRD1_sp22_train_valid_test_scaffold_ebed0f6e-1ac4-48b0-b671-c925d536ec0b.csv\n",
      "2022-01-27 12:31:51,491 Wrote transformers to /home/pmoulik/RF_sp22/rdkit-raw/OPRD1_sp22/RF_ecfp_scaffold_regression/7030867d-3856-4247-9220-961a37217b3f/transformers.pkl\n",
      "2022-01-27 12:31:51,493 Transforming response data\n",
      "2022-01-27 12:31:51,531 Transforming response data\n",
      "2022-01-27 12:31:51,542 Transforming response data\n",
      "2022-01-27 12:31:51,552 Fitting random forest model\n",
      "2022-01-27 12:31:51,837 Fold 0: training r2_score = 0.873, validation r2_score = 0.686, test r2_score = 0.615\n",
      "2022-01-27 12:31:51,931 Wrote model tarball to /home/pmoulik/RF_sp22/rdkit-raw/OPRD1_sp22_model_7030867d-3856-4247-9220-961a37217b3f.tar.gz\n",
      "2022-01-27 12:31:51,974 Created a dataset hash 'e0ad2cf61651f72b9c351ac059c34b72' from dataset_key '/home/pmoulik/OPRD1_sp22.csv'\n",
      "2022-01-27 12:31:51,979 previously_split is set False; ignoring split_uuid passed as parameter\n",
      "2022-01-27 12:31:51,981 Attempting to load featurized dataset\n",
      "2022-01-27 12:31:51,990 Exception when trying to load featurized data:\n",
      "DynamicFeaturization doesn't support get_featurized_dset_name()\n",
      "2022-01-27 12:31:51,992 Featurized dataset not previously saved for dataset OPRD1_sp22, creating new\n",
      "2022-01-27 12:31:52,002 Featurizing sample 0\n"
     ]
    },
    {
     "name": "stdout",
     "output_type": "stream",
     "text": [
      "rf_estimators: 32, rf_max_depth: 16, rf_max_features: 16, valid_r2: 0.6856327609922875\n"
     ]
    },
    {
     "name": "stderr",
     "output_type": "stream",
     "text": [
      "2022-01-27 12:31:55,057 Featurizing sample 1000\n",
      "2022-01-27 12:31:58,129 Featurizing sample 2000\n",
      "2022-01-27 12:32:01,300 Featurizing sample 3000\n",
      "2022-01-27 12:32:01,961 Splitting data by scaffold\n"
     ]
    },
    {
     "name": "stdout",
     "output_type": "stream",
     "text": [
      "number of features: 1024\n"
     ]
    },
    {
     "name": "stderr",
     "output_type": "stream",
     "text": [
      "2022-01-27 12:32:03,953 Dataset split table saved to /home/pmoulik/OPRD1_sp22_train_valid_test_scaffold_ed814731-6302-4bed-90b4-7be27093ad84.csv\n",
      "2022-01-27 12:32:04,021 Wrote transformers to /home/pmoulik/RF_sp22/rdkit-raw/OPRD1_sp22/RF_ecfp_scaffold_regression/54a4d22f-1fa7-41b4-82f4-83f71d2b1ccf/transformers.pkl\n",
      "2022-01-27 12:32:04,023 Transforming response data\n",
      "2022-01-27 12:32:04,059 Transforming response data\n",
      "2022-01-27 12:32:04,070 Transforming response data\n",
      "2022-01-27 12:32:04,080 Fitting random forest model\n",
      "2022-01-27 12:32:04,438 Fold 0: training r2_score = 0.910, validation r2_score = 0.717, test r2_score = 0.668\n",
      "2022-01-27 12:32:04,536 Wrote model tarball to /home/pmoulik/RF_sp22/rdkit-raw/OPRD1_sp22_model_54a4d22f-1fa7-41b4-82f4-83f71d2b1ccf.tar.gz\n",
      "2022-01-27 12:32:04,579 Created a dataset hash 'e0ad2cf61651f72b9c351ac059c34b72' from dataset_key '/home/pmoulik/OPRD1_sp22.csv'\n",
      "2022-01-27 12:32:04,592 previously_split is set False; ignoring split_uuid passed as parameter\n",
      "2022-01-27 12:32:04,594 Attempting to load featurized dataset\n",
      "2022-01-27 12:32:04,604 Exception when trying to load featurized data:\n",
      "DynamicFeaturization doesn't support get_featurized_dset_name()\n",
      "2022-01-27 12:32:04,605 Featurized dataset not previously saved for dataset OPRD1_sp22, creating new\n",
      "2022-01-27 12:32:04,615 Featurizing sample 0\n"
     ]
    },
    {
     "name": "stdout",
     "output_type": "stream",
     "text": [
      "rf_estimators: 32, rf_max_depth: 16, rf_max_features: 32, valid_r2: 0.7169814680822695\n"
     ]
    },
    {
     "name": "stderr",
     "output_type": "stream",
     "text": [
      "2022-01-27 12:32:07,803 Featurizing sample 1000\n",
      "2022-01-27 12:32:10,856 Featurizing sample 2000\n",
      "2022-01-27 12:32:13,924 Featurizing sample 3000\n",
      "2022-01-27 12:32:14,580 Splitting data by scaffold\n"
     ]
    },
    {
     "name": "stdout",
     "output_type": "stream",
     "text": [
      "number of features: 1024\n"
     ]
    },
    {
     "name": "stderr",
     "output_type": "stream",
     "text": [
      "2022-01-27 12:32:16,674 Dataset split table saved to /home/pmoulik/OPRD1_sp22_train_valid_test_scaffold_712f23fa-1b6e-480b-8e23-b38eddd6c7a9.csv\n",
      "2022-01-27 12:32:16,742 Wrote transformers to /home/pmoulik/RF_sp22/rdkit-raw/OPRD1_sp22/RF_ecfp_scaffold_regression/48c3afad-10f3-422c-8b82-c6a85170a784/transformers.pkl\n",
      "2022-01-27 12:32:16,743 Transforming response data\n",
      "2022-01-27 12:32:16,779 Transforming response data\n",
      "2022-01-27 12:32:16,789 Transforming response data\n",
      "2022-01-27 12:32:16,800 Fitting random forest model\n",
      "2022-01-27 12:32:17,280 Fold 0: training r2_score = 0.925, validation r2_score = 0.724, test r2_score = 0.663\n",
      "2022-01-27 12:32:17,382 Wrote model tarball to /home/pmoulik/RF_sp22/rdkit-raw/OPRD1_sp22_model_48c3afad-10f3-422c-8b82-c6a85170a784.tar.gz\n",
      "2022-01-27 12:32:17,425 Created a dataset hash 'e0ad2cf61651f72b9c351ac059c34b72' from dataset_key '/home/pmoulik/OPRD1_sp22.csv'\n",
      "2022-01-27 12:32:17,430 previously_split is set False; ignoring split_uuid passed as parameter\n",
      "2022-01-27 12:32:17,432 Attempting to load featurized dataset\n",
      "2022-01-27 12:32:17,441 Exception when trying to load featurized data:\n",
      "DynamicFeaturization doesn't support get_featurized_dset_name()\n",
      "2022-01-27 12:32:17,443 Featurized dataset not previously saved for dataset OPRD1_sp22, creating new\n",
      "2022-01-27 12:32:17,453 Featurizing sample 0\n"
     ]
    },
    {
     "name": "stdout",
     "output_type": "stream",
     "text": [
      "rf_estimators: 32, rf_max_depth: 16, rf_max_features: 64, valid_r2: 0.7238436111500356\n"
     ]
    },
    {
     "name": "stderr",
     "output_type": "stream",
     "text": [
      "2022-01-27 12:32:20,500 Featurizing sample 1000\n",
      "2022-01-27 12:32:23,555 Featurizing sample 2000\n",
      "2022-01-27 12:32:26,616 Featurizing sample 3000\n",
      "2022-01-27 12:32:27,282 Splitting data by scaffold\n"
     ]
    },
    {
     "name": "stdout",
     "output_type": "stream",
     "text": [
      "number of features: 1024\n"
     ]
    },
    {
     "name": "stderr",
     "output_type": "stream",
     "text": [
      "2022-01-27 12:32:29,423 Dataset split table saved to /home/pmoulik/OPRD1_sp22_train_valid_test_scaffold_a5ff21fe-3563-44d9-b56c-a8afeb668a58.csv\n",
      "2022-01-27 12:32:29,490 Wrote transformers to /home/pmoulik/RF_sp22/rdkit-raw/OPRD1_sp22/RF_ecfp_scaffold_regression/6f0f2bde-783e-4a68-a804-b972d8fe8420/transformers.pkl\n",
      "2022-01-27 12:32:29,492 Transforming response data\n",
      "2022-01-27 12:32:29,527 Transforming response data\n",
      "2022-01-27 12:32:29,538 Transforming response data\n",
      "2022-01-27 12:32:29,549 Fitting random forest model\n",
      "2022-01-27 12:32:30,244 Fold 0: training r2_score = 0.934, validation r2_score = 0.754, test r2_score = 0.679\n",
      "2022-01-27 12:32:30,348 Wrote model tarball to /home/pmoulik/RF_sp22/rdkit-raw/OPRD1_sp22_model_6f0f2bde-783e-4a68-a804-b972d8fe8420.tar.gz\n",
      "2022-01-27 12:32:30,390 Created a dataset hash 'e0ad2cf61651f72b9c351ac059c34b72' from dataset_key '/home/pmoulik/OPRD1_sp22.csv'\n",
      "2022-01-27 12:32:30,396 previously_split is set False; ignoring split_uuid passed as parameter\n",
      "2022-01-27 12:32:30,397 Attempting to load featurized dataset\n",
      "2022-01-27 12:32:30,407 Exception when trying to load featurized data:\n",
      "DynamicFeaturization doesn't support get_featurized_dset_name()\n",
      "2022-01-27 12:32:30,409 Featurized dataset not previously saved for dataset OPRD1_sp22, creating new\n",
      "2022-01-27 12:32:30,419 Featurizing sample 0\n"
     ]
    },
    {
     "name": "stdout",
     "output_type": "stream",
     "text": [
      "rf_estimators: 32, rf_max_depth: 16, rf_max_features: 128, valid_r2: 0.7539942653246028\n"
     ]
    },
    {
     "name": "stderr",
     "output_type": "stream",
     "text": [
      "2022-01-27 12:32:33,449 Featurizing sample 1000\n",
      "2022-01-27 12:32:36,507 Featurizing sample 2000\n",
      "2022-01-27 12:32:39,670 Featurizing sample 3000\n",
      "2022-01-27 12:32:40,325 Splitting data by scaffold\n"
     ]
    },
    {
     "name": "stdout",
     "output_type": "stream",
     "text": [
      "number of features: 1024\n"
     ]
    },
    {
     "name": "stderr",
     "output_type": "stream",
     "text": [
      "2022-01-27 12:32:42,315 Dataset split table saved to /home/pmoulik/OPRD1_sp22_train_valid_test_scaffold_594b9666-6e6e-4152-9721-ca8de6209c2a.csv\n",
      "2022-01-27 12:32:42,382 Wrote transformers to /home/pmoulik/RF_sp22/rdkit-raw/OPRD1_sp22/RF_ecfp_scaffold_regression/a83cb4f9-ed4f-4594-9cb3-b24ae42f0879/transformers.pkl\n",
      "2022-01-27 12:32:42,384 Transforming response data\n",
      "2022-01-27 12:32:42,420 Transforming response data\n",
      "2022-01-27 12:32:42,430 Transforming response data\n",
      "2022-01-27 12:32:42,440 Fitting random forest model\n",
      "2022-01-27 12:32:42,885 Fold 0: training r2_score = 0.955, validation r2_score = 0.721, test r2_score = 0.659\n",
      "2022-01-27 12:32:43,039 Wrote model tarball to /home/pmoulik/RF_sp22/rdkit-raw/OPRD1_sp22_model_a83cb4f9-ed4f-4594-9cb3-b24ae42f0879.tar.gz\n",
      "2022-01-27 12:32:43,081 Created a dataset hash 'e0ad2cf61651f72b9c351ac059c34b72' from dataset_key '/home/pmoulik/OPRD1_sp22.csv'\n",
      "2022-01-27 12:32:43,086 previously_split is set False; ignoring split_uuid passed as parameter\n",
      "2022-01-27 12:32:43,088 Attempting to load featurized dataset\n",
      "2022-01-27 12:32:43,097 Exception when trying to load featurized data:\n",
      "DynamicFeaturization doesn't support get_featurized_dset_name()\n",
      "2022-01-27 12:32:43,098 Featurized dataset not previously saved for dataset OPRD1_sp22, creating new\n",
      "2022-01-27 12:32:43,108 Featurizing sample 0\n"
     ]
    },
    {
     "name": "stdout",
     "output_type": "stream",
     "text": [
      "rf_estimators: 32, rf_max_depth: 32, rf_max_features: 16, valid_r2: 0.721133997545462\n"
     ]
    },
    {
     "name": "stderr",
     "output_type": "stream",
     "text": [
      "2022-01-27 12:32:46,149 Featurizing sample 1000\n",
      "2022-01-27 12:32:49,325 Featurizing sample 2000\n",
      "2022-01-27 12:32:52,375 Featurizing sample 3000\n",
      "2022-01-27 12:32:53,031 Splitting data by scaffold\n"
     ]
    },
    {
     "name": "stdout",
     "output_type": "stream",
     "text": [
      "number of features: 1024\n"
     ]
    },
    {
     "name": "stderr",
     "output_type": "stream",
     "text": [
      "2022-01-27 12:32:55,021 Dataset split table saved to /home/pmoulik/OPRD1_sp22_train_valid_test_scaffold_eed2794d-6984-4ae0-af5c-0cce6e6749dd.csv\n",
      "2022-01-27 12:32:55,094 Wrote transformers to /home/pmoulik/RF_sp22/rdkit-raw/OPRD1_sp22/RF_ecfp_scaffold_regression/6ace3498-5f25-44c1-8266-564fe9f1f895/transformers.pkl\n",
      "2022-01-27 12:32:55,096 Transforming response data\n",
      "2022-01-27 12:32:55,132 Transforming response data\n",
      "2022-01-27 12:32:55,143 Transforming response data\n",
      "2022-01-27 12:32:55,154 Fitting random forest model\n",
      "2022-01-27 12:32:55,670 Fold 0: training r2_score = 0.958, validation r2_score = 0.739, test r2_score = 0.672\n",
      "2022-01-27 12:32:55,845 Wrote model tarball to /home/pmoulik/RF_sp22/rdkit-raw/OPRD1_sp22_model_6ace3498-5f25-44c1-8266-564fe9f1f895.tar.gz\n",
      "2022-01-27 12:32:55,887 Created a dataset hash 'e0ad2cf61651f72b9c351ac059c34b72' from dataset_key '/home/pmoulik/OPRD1_sp22.csv'\n",
      "2022-01-27 12:32:55,897 previously_split is set False; ignoring split_uuid passed as parameter\n",
      "2022-01-27 12:32:55,899 Attempting to load featurized dataset\n",
      "2022-01-27 12:32:55,908 Exception when trying to load featurized data:\n",
      "DynamicFeaturization doesn't support get_featurized_dset_name()\n",
      "2022-01-27 12:32:55,910 Featurized dataset not previously saved for dataset OPRD1_sp22, creating new\n",
      "2022-01-27 12:32:55,920 Featurizing sample 0\n"
     ]
    },
    {
     "name": "stdout",
     "output_type": "stream",
     "text": [
      "rf_estimators: 32, rf_max_depth: 32, rf_max_features: 32, valid_r2: 0.738812013797852\n"
     ]
    },
    {
     "name": "stderr",
     "output_type": "stream",
     "text": [
      "2022-01-27 12:32:59,064 Featurizing sample 1000\n",
      "2022-01-27 12:33:02,143 Featurizing sample 2000\n",
      "2022-01-27 12:33:05,207 Featurizing sample 3000\n",
      "2022-01-27 12:33:05,866 Splitting data by scaffold\n"
     ]
    },
    {
     "name": "stdout",
     "output_type": "stream",
     "text": [
      "number of features: 1024\n"
     ]
    },
    {
     "name": "stderr",
     "output_type": "stream",
     "text": [
      "2022-01-27 12:33:07,878 Dataset split table saved to /home/pmoulik/OPRD1_sp22_train_valid_test_scaffold_c4c7c5fa-c1fa-4c20-9cf6-a9b3bb4c0cd2.csv\n",
      "2022-01-27 12:33:07,931 Wrote transformers to /home/pmoulik/RF_sp22/rdkit-raw/OPRD1_sp22/RF_ecfp_scaffold_regression/b23d641c-9aaf-4a13-810a-c19d40e89cff/transformers.pkl\n",
      "2022-01-27 12:33:07,933 Transforming response data\n",
      "2022-01-27 12:33:07,973 Transforming response data\n",
      "2022-01-27 12:33:07,985 Transforming response data\n",
      "2022-01-27 12:33:07,995 Fitting random forest model\n",
      "2022-01-27 12:33:08,649 Fold 0: training r2_score = 0.959, validation r2_score = 0.733, test r2_score = 0.686\n",
      "2022-01-27 12:33:08,831 Wrote model tarball to /home/pmoulik/RF_sp22/rdkit-raw/OPRD1_sp22_model_b23d641c-9aaf-4a13-810a-c19d40e89cff.tar.gz\n",
      "2022-01-27 12:33:08,874 Created a dataset hash 'e0ad2cf61651f72b9c351ac059c34b72' from dataset_key '/home/pmoulik/OPRD1_sp22.csv'\n",
      "2022-01-27 12:33:08,880 previously_split is set False; ignoring split_uuid passed as parameter\n",
      "2022-01-27 12:33:08,882 Attempting to load featurized dataset\n",
      "2022-01-27 12:33:08,892 Exception when trying to load featurized data:\n",
      "DynamicFeaturization doesn't support get_featurized_dset_name()\n",
      "2022-01-27 12:33:08,893 Featurized dataset not previously saved for dataset OPRD1_sp22, creating new\n",
      "2022-01-27 12:33:08,904 Featurizing sample 0\n"
     ]
    },
    {
     "name": "stdout",
     "output_type": "stream",
     "text": [
      "rf_estimators: 32, rf_max_depth: 32, rf_max_features: 64, valid_r2: 0.732618833176412\n"
     ]
    },
    {
     "name": "stderr",
     "output_type": "stream",
     "text": [
      "2022-01-27 12:33:12,042 Featurizing sample 1000\n",
      "2022-01-27 12:33:15,099 Featurizing sample 2000\n",
      "2022-01-27 12:33:18,161 Featurizing sample 3000\n",
      "2022-01-27 12:33:18,809 Splitting data by scaffold\n"
     ]
    },
    {
     "name": "stdout",
     "output_type": "stream",
     "text": [
      "number of features: 1024\n"
     ]
    },
    {
     "name": "stderr",
     "output_type": "stream",
     "text": [
      "2022-01-27 12:33:20,889 Dataset split table saved to /home/pmoulik/OPRD1_sp22_train_valid_test_scaffold_200afa14-8b10-4f0e-8363-97dcf1b92a7a.csv\n",
      "2022-01-27 12:33:20,957 Wrote transformers to /home/pmoulik/RF_sp22/rdkit-raw/OPRD1_sp22/RF_ecfp_scaffold_regression/291ad839-9ad7-4fb9-919a-d025ece62674/transformers.pkl\n",
      "2022-01-27 12:33:20,959 Transforming response data\n",
      "2022-01-27 12:33:20,995 Transforming response data\n",
      "2022-01-27 12:33:21,006 Transforming response data\n",
      "2022-01-27 12:33:21,016 Fitting random forest model\n",
      "2022-01-27 12:33:21,919 Fold 0: training r2_score = 0.961, validation r2_score = 0.739, test r2_score = 0.692\n",
      "2022-01-27 12:33:22,092 Wrote model tarball to /home/pmoulik/RF_sp22/rdkit-raw/OPRD1_sp22_model_291ad839-9ad7-4fb9-919a-d025ece62674.tar.gz\n",
      "2022-01-27 12:33:22,136 Created a dataset hash 'e0ad2cf61651f72b9c351ac059c34b72' from dataset_key '/home/pmoulik/OPRD1_sp22.csv'\n",
      "2022-01-27 12:33:22,142 previously_split is set False; ignoring split_uuid passed as parameter\n",
      "2022-01-27 12:33:22,143 Attempting to load featurized dataset\n",
      "2022-01-27 12:33:22,153 Exception when trying to load featurized data:\n",
      "DynamicFeaturization doesn't support get_featurized_dset_name()\n",
      "2022-01-27 12:33:22,154 Featurized dataset not previously saved for dataset OPRD1_sp22, creating new\n",
      "2022-01-27 12:33:22,164 Featurizing sample 0\n"
     ]
    },
    {
     "name": "stdout",
     "output_type": "stream",
     "text": [
      "rf_estimators: 32, rf_max_depth: 32, rf_max_features: 128, valid_r2: 0.7386914978452197\n"
     ]
    },
    {
     "name": "stderr",
     "output_type": "stream",
     "text": [
      "2022-01-27 12:33:25,210 Featurizing sample 1000\n",
      "2022-01-27 12:33:28,276 Featurizing sample 2000\n",
      "2022-01-27 12:33:31,494 Featurizing sample 3000\n",
      "2022-01-27 12:33:32,150 Splitting data by scaffold\n"
     ]
    },
    {
     "name": "stdout",
     "output_type": "stream",
     "text": [
      "number of features: 1024\n"
     ]
    },
    {
     "name": "stderr",
     "output_type": "stream",
     "text": [
      "2022-01-27 12:33:34,150 Dataset split table saved to /home/pmoulik/OPRD1_sp22_train_valid_test_scaffold_f2db2f31-bb43-490a-986b-8c83e28c89a9.csv\n",
      "2022-01-27 12:33:34,218 Wrote transformers to /home/pmoulik/RF_sp22/rdkit-raw/OPRD1_sp22/RF_ecfp_scaffold_regression/d7133698-f16d-48aa-87d2-8bfea57acec5/transformers.pkl\n",
      "2022-01-27 12:33:34,220 Transforming response data\n",
      "2022-01-27 12:33:34,256 Transforming response data\n",
      "2022-01-27 12:33:34,267 Transforming response data\n",
      "2022-01-27 12:33:34,277 Fitting random forest model\n",
      "2022-01-27 12:33:34,747 Fold 0: training r2_score = 0.960, validation r2_score = 0.736, test r2_score = 0.669\n",
      "2022-01-27 12:33:34,937 Wrote model tarball to /home/pmoulik/RF_sp22/rdkit-raw/OPRD1_sp22_model_d7133698-f16d-48aa-87d2-8bfea57acec5.tar.gz\n",
      "2022-01-27 12:33:34,979 Created a dataset hash 'e0ad2cf61651f72b9c351ac059c34b72' from dataset_key '/home/pmoulik/OPRD1_sp22.csv'\n",
      "2022-01-27 12:33:34,991 previously_split is set False; ignoring split_uuid passed as parameter\n",
      "2022-01-27 12:33:34,993 Attempting to load featurized dataset\n",
      "2022-01-27 12:33:35,002 Exception when trying to load featurized data:\n",
      "DynamicFeaturization doesn't support get_featurized_dset_name()\n",
      "2022-01-27 12:33:35,004 Featurized dataset not previously saved for dataset OPRD1_sp22, creating new\n",
      "2022-01-27 12:33:35,014 Featurizing sample 0\n"
     ]
    },
    {
     "name": "stdout",
     "output_type": "stream",
     "text": [
      "rf_estimators: 32, rf_max_depth: 64, rf_max_features: 16, valid_r2: 0.7364167005389268\n"
     ]
    },
    {
     "name": "stderr",
     "output_type": "stream",
     "text": [
      "2022-01-27 12:33:38,058 Featurizing sample 1000\n",
      "2022-01-27 12:33:41,228 Featurizing sample 2000\n",
      "2022-01-27 12:33:44,280 Featurizing sample 3000\n",
      "2022-01-27 12:33:44,934 Splitting data by scaffold\n"
     ]
    },
    {
     "name": "stdout",
     "output_type": "stream",
     "text": [
      "number of features: 1024\n"
     ]
    },
    {
     "name": "stderr",
     "output_type": "stream",
     "text": [
      "2022-01-27 12:33:46,931 Dataset split table saved to /home/pmoulik/OPRD1_sp22_train_valid_test_scaffold_7831d05e-7550-41de-8ef2-5a4dc11b14d4.csv\n",
      "2022-01-27 12:33:47,003 Wrote transformers to /home/pmoulik/RF_sp22/rdkit-raw/OPRD1_sp22/RF_ecfp_scaffold_regression/d8aaf9f0-9dfe-489d-9c07-badef928d0dd/transformers.pkl\n",
      "2022-01-27 12:33:47,005 Transforming response data\n",
      "2022-01-27 12:33:47,040 Transforming response data\n",
      "2022-01-27 12:33:47,051 Transforming response data\n",
      "2022-01-27 12:33:47,061 Fitting random forest model\n",
      "2022-01-27 12:33:47,600 Fold 0: training r2_score = 0.961, validation r2_score = 0.724, test r2_score = 0.686\n",
      "2022-01-27 12:33:47,782 Wrote model tarball to /home/pmoulik/RF_sp22/rdkit-raw/OPRD1_sp22_model_d8aaf9f0-9dfe-489d-9c07-badef928d0dd.tar.gz\n",
      "2022-01-27 12:33:47,823 Created a dataset hash 'e0ad2cf61651f72b9c351ac059c34b72' from dataset_key '/home/pmoulik/OPRD1_sp22.csv'\n",
      "2022-01-27 12:33:47,829 previously_split is set False; ignoring split_uuid passed as parameter\n",
      "2022-01-27 12:33:47,831 Attempting to load featurized dataset\n",
      "2022-01-27 12:33:47,840 Exception when trying to load featurized data:\n",
      "DynamicFeaturization doesn't support get_featurized_dset_name()\n",
      "2022-01-27 12:33:47,841 Featurized dataset not previously saved for dataset OPRD1_sp22, creating new\n",
      "2022-01-27 12:33:47,852 Featurizing sample 0\n"
     ]
    },
    {
     "name": "stdout",
     "output_type": "stream",
     "text": [
      "rf_estimators: 32, rf_max_depth: 64, rf_max_features: 32, valid_r2: 0.7241416231987685\n"
     ]
    },
    {
     "name": "stderr",
     "output_type": "stream",
     "text": [
      "2022-01-27 12:33:50,893 Featurizing sample 1000\n",
      "2022-01-27 12:33:54,084 Featurizing sample 2000\n",
      "2022-01-27 12:33:57,146 Featurizing sample 3000\n",
      "2022-01-27 12:33:57,801 Splitting data by scaffold\n"
     ]
    },
    {
     "name": "stdout",
     "output_type": "stream",
     "text": [
      "number of features: 1024\n"
     ]
    },
    {
     "name": "stderr",
     "output_type": "stream",
     "text": [
      "2022-01-27 12:33:59,803 Dataset split table saved to /home/pmoulik/OPRD1_sp22_train_valid_test_scaffold_4c370c07-21b0-49e4-9835-c4e55a8adf67.csv\n",
      "2022-01-27 12:33:59,857 Wrote transformers to /home/pmoulik/RF_sp22/rdkit-raw/OPRD1_sp22/RF_ecfp_scaffold_regression/ef74d011-d0b9-4c1f-909a-c48f5ea50516/transformers.pkl\n",
      "2022-01-27 12:33:59,859 Transforming response data\n",
      "2022-01-27 12:33:59,898 Transforming response data\n",
      "2022-01-27 12:33:59,910 Transforming response data\n",
      "2022-01-27 12:33:59,921 Fitting random forest model\n",
      "2022-01-27 12:34:00,595 Fold 0: training r2_score = 0.961, validation r2_score = 0.744, test r2_score = 0.686\n",
      "2022-01-27 12:34:00,766 Wrote model tarball to /home/pmoulik/RF_sp22/rdkit-raw/OPRD1_sp22_model_ef74d011-d0b9-4c1f-909a-c48f5ea50516.tar.gz\n",
      "2022-01-27 12:34:00,810 Created a dataset hash 'e0ad2cf61651f72b9c351ac059c34b72' from dataset_key '/home/pmoulik/OPRD1_sp22.csv'\n",
      "2022-01-27 12:34:00,816 previously_split is set False; ignoring split_uuid passed as parameter\n",
      "2022-01-27 12:34:00,818 Attempting to load featurized dataset\n",
      "2022-01-27 12:34:00,827 Exception when trying to load featurized data:\n",
      "DynamicFeaturization doesn't support get_featurized_dset_name()\n",
      "2022-01-27 12:34:00,829 Featurized dataset not previously saved for dataset OPRD1_sp22, creating new\n",
      "2022-01-27 12:34:00,839 Featurizing sample 0\n"
     ]
    },
    {
     "name": "stdout",
     "output_type": "stream",
     "text": [
      "rf_estimators: 32, rf_max_depth: 64, rf_max_features: 64, valid_r2: 0.7439316938470957\n"
     ]
    },
    {
     "name": "stderr",
     "output_type": "stream",
     "text": [
      "2022-01-27 12:34:04,013 Featurizing sample 1000\n",
      "2022-01-27 12:34:07,236 Featurizing sample 2000\n",
      "2022-01-27 12:34:10,285 Featurizing sample 3000\n",
      "2022-01-27 12:34:10,942 Splitting data by scaffold\n"
     ]
    },
    {
     "name": "stdout",
     "output_type": "stream",
     "text": [
      "number of features: 1024\n"
     ]
    },
    {
     "name": "stderr",
     "output_type": "stream",
     "text": [
      "2022-01-27 12:34:12,926 Dataset split table saved to /home/pmoulik/OPRD1_sp22_train_valid_test_scaffold_a44bd30f-6e0c-4c55-976c-ecd15f5b9660.csv\n",
      "2022-01-27 12:34:12,993 Wrote transformers to /home/pmoulik/RF_sp22/rdkit-raw/OPRD1_sp22/RF_ecfp_scaffold_regression/4a914496-5322-4937-8aec-b4aaff71a002/transformers.pkl\n",
      "2022-01-27 12:34:12,995 Transforming response data\n",
      "2022-01-27 12:34:13,031 Transforming response data\n",
      "2022-01-27 12:34:13,042 Transforming response data\n",
      "2022-01-27 12:34:13,051 Fitting random forest model\n",
      "2022-01-27 12:34:13,978 Fold 0: training r2_score = 0.962, validation r2_score = 0.748, test r2_score = 0.697\n",
      "2022-01-27 12:34:14,155 Wrote model tarball to /home/pmoulik/RF_sp22/rdkit-raw/OPRD1_sp22_model_4a914496-5322-4937-8aec-b4aaff71a002.tar.gz\n",
      "2022-01-27 12:34:14,198 Created a dataset hash 'e0ad2cf61651f72b9c351ac059c34b72' from dataset_key '/home/pmoulik/OPRD1_sp22.csv'\n",
      "2022-01-27 12:34:14,204 previously_split is set False; ignoring split_uuid passed as parameter\n",
      "2022-01-27 12:34:14,206 Attempting to load featurized dataset\n",
      "2022-01-27 12:34:14,215 Exception when trying to load featurized data:\n",
      "DynamicFeaturization doesn't support get_featurized_dset_name()\n",
      "2022-01-27 12:34:14,217 Featurized dataset not previously saved for dataset OPRD1_sp22, creating new\n",
      "2022-01-27 12:34:14,227 Featurizing sample 0\n"
     ]
    },
    {
     "name": "stdout",
     "output_type": "stream",
     "text": [
      "rf_estimators: 32, rf_max_depth: 64, rf_max_features: 128, valid_r2: 0.7475755432320391\n"
     ]
    },
    {
     "name": "stderr",
     "output_type": "stream",
     "text": [
      "2022-01-27 12:34:17,361 Featurizing sample 1000\n",
      "2022-01-27 12:34:20,426 Featurizing sample 2000\n",
      "2022-01-27 12:34:23,487 Featurizing sample 3000\n",
      "2022-01-27 12:34:24,144 Splitting data by scaffold\n"
     ]
    },
    {
     "name": "stdout",
     "output_type": "stream",
     "text": [
      "number of features: 1024\n"
     ]
    },
    {
     "name": "stderr",
     "output_type": "stream",
     "text": [
      "2022-01-27 12:34:26,136 Dataset split table saved to /home/pmoulik/OPRD1_sp22_train_valid_test_scaffold_a705d624-e8ac-40d2-9dee-a61855d99ded.csv\n",
      "2022-01-27 12:34:26,205 Wrote transformers to /home/pmoulik/RF_sp22/rdkit-raw/OPRD1_sp22/RF_ecfp_scaffold_regression/b38d412e-0c27-43e3-99b5-7cd73f4d5e04/transformers.pkl\n",
      "2022-01-27 12:34:26,207 Transforming response data\n",
      "2022-01-27 12:34:26,243 Transforming response data\n",
      "2022-01-27 12:34:26,253 Transforming response data\n",
      "2022-01-27 12:34:26,264 Fitting random forest model\n",
      "2022-01-27 12:34:26,731 Fold 0: training r2_score = 0.960, validation r2_score = 0.736, test r2_score = 0.669\n",
      "2022-01-27 12:34:26,900 Wrote model tarball to /home/pmoulik/RF_sp22/rdkit-raw/OPRD1_sp22_model_b38d412e-0c27-43e3-99b5-7cd73f4d5e04.tar.gz\n",
      "2022-01-27 12:34:26,943 Created a dataset hash 'e0ad2cf61651f72b9c351ac059c34b72' from dataset_key '/home/pmoulik/OPRD1_sp22.csv'\n",
      "2022-01-27 12:34:26,949 previously_split is set False; ignoring split_uuid passed as parameter\n",
      "2022-01-27 12:34:26,951 Attempting to load featurized dataset\n",
      "2022-01-27 12:34:26,960 Exception when trying to load featurized data:\n",
      "DynamicFeaturization doesn't support get_featurized_dset_name()\n",
      "2022-01-27 12:34:26,962 Featurized dataset not previously saved for dataset OPRD1_sp22, creating new\n",
      "2022-01-27 12:34:26,972 Featurizing sample 0\n"
     ]
    },
    {
     "name": "stdout",
     "output_type": "stream",
     "text": [
      "rf_estimators: 32, rf_max_depth: 128, rf_max_features: 16, valid_r2: 0.7364167005389268\n"
     ]
    },
    {
     "name": "stderr",
     "output_type": "stream",
     "text": [
      "2022-01-27 12:34:30,121 Featurizing sample 1000\n",
      "2022-01-27 12:34:33,190 Featurizing sample 2000\n",
      "2022-01-27 12:34:36,238 Featurizing sample 3000\n",
      "2022-01-27 12:34:36,892 Splitting data by scaffold\n"
     ]
    },
    {
     "name": "stdout",
     "output_type": "stream",
     "text": [
      "number of features: 1024\n"
     ]
    },
    {
     "name": "stderr",
     "output_type": "stream",
     "text": [
      "2022-01-27 12:34:39,052 Dataset split table saved to /home/pmoulik/OPRD1_sp22_train_valid_test_scaffold_a0e778a2-9597-4db3-856b-287c4dbfd420.csv\n",
      "2022-01-27 12:34:39,107 Wrote transformers to /home/pmoulik/RF_sp22/rdkit-raw/OPRD1_sp22/RF_ecfp_scaffold_regression/a2fee277-2652-45d0-af0d-4c63c1fc354c/transformers.pkl\n",
      "2022-01-27 12:34:39,109 Transforming response data\n",
      "2022-01-27 12:34:39,149 Transforming response data\n",
      "2022-01-27 12:34:39,159 Transforming response data\n",
      "2022-01-27 12:34:39,171 Fitting random forest model\n",
      "2022-01-27 12:34:39,709 Fold 0: training r2_score = 0.961, validation r2_score = 0.725, test r2_score = 0.684\n",
      "2022-01-27 12:34:39,871 Wrote model tarball to /home/pmoulik/RF_sp22/rdkit-raw/OPRD1_sp22_model_a2fee277-2652-45d0-af0d-4c63c1fc354c.tar.gz\n",
      "2022-01-27 12:34:39,914 Created a dataset hash 'e0ad2cf61651f72b9c351ac059c34b72' from dataset_key '/home/pmoulik/OPRD1_sp22.csv'\n",
      "2022-01-27 12:34:39,920 previously_split is set False; ignoring split_uuid passed as parameter\n",
      "2022-01-27 12:34:39,921 Attempting to load featurized dataset\n",
      "2022-01-27 12:34:39,931 Exception when trying to load featurized data:\n",
      "DynamicFeaturization doesn't support get_featurized_dset_name()\n",
      "2022-01-27 12:34:39,933 Featurized dataset not previously saved for dataset OPRD1_sp22, creating new\n",
      "2022-01-27 12:34:39,944 Featurizing sample 0\n"
     ]
    },
    {
     "name": "stdout",
     "output_type": "stream",
     "text": [
      "rf_estimators: 32, rf_max_depth: 128, rf_max_features: 32, valid_r2: 0.7246852927380658\n"
     ]
    },
    {
     "name": "stderr",
     "output_type": "stream",
     "text": [
      "2022-01-27 12:34:42,991 Featurizing sample 1000\n",
      "2022-01-27 12:34:46,047 Featurizing sample 2000\n",
      "2022-01-27 12:34:49,197 Featurizing sample 3000\n",
      "2022-01-27 12:34:49,849 Splitting data by scaffold\n"
     ]
    },
    {
     "name": "stdout",
     "output_type": "stream",
     "text": [
      "number of features: 1024\n"
     ]
    },
    {
     "name": "stderr",
     "output_type": "stream",
     "text": [
      "2022-01-27 12:34:51,830 Dataset split table saved to /home/pmoulik/OPRD1_sp22_train_valid_test_scaffold_9ebdaaa4-0b74-41b1-9296-e5e46e06d589.csv\n",
      "2022-01-27 12:34:51,898 Wrote transformers to /home/pmoulik/RF_sp22/rdkit-raw/OPRD1_sp22/RF_ecfp_scaffold_regression/f6c9f5f6-f43d-47e4-9017-52b10d81d1c6/transformers.pkl\n",
      "2022-01-27 12:34:51,900 Transforming response data\n",
      "2022-01-27 12:34:51,936 Transforming response data\n",
      "2022-01-27 12:34:51,947 Transforming response data\n",
      "2022-01-27 12:34:51,956 Fitting random forest model\n",
      "2022-01-27 12:34:52,631 Fold 0: training r2_score = 0.961, validation r2_score = 0.744, test r2_score = 0.686\n",
      "2022-01-27 12:34:52,803 Wrote model tarball to /home/pmoulik/RF_sp22/rdkit-raw/OPRD1_sp22_model_f6c9f5f6-f43d-47e4-9017-52b10d81d1c6.tar.gz\n",
      "2022-01-27 12:34:52,848 Created a dataset hash 'e0ad2cf61651f72b9c351ac059c34b72' from dataset_key '/home/pmoulik/OPRD1_sp22.csv'\n",
      "2022-01-27 12:34:52,854 previously_split is set False; ignoring split_uuid passed as parameter\n",
      "2022-01-27 12:34:52,856 Attempting to load featurized dataset\n",
      "2022-01-27 12:34:52,866 Exception when trying to load featurized data:\n",
      "DynamicFeaturization doesn't support get_featurized_dset_name()\n",
      "2022-01-27 12:34:52,868 Featurized dataset not previously saved for dataset OPRD1_sp22, creating new\n",
      "2022-01-27 12:34:52,878 Featurizing sample 0\n"
     ]
    },
    {
     "name": "stdout",
     "output_type": "stream",
     "text": [
      "rf_estimators: 32, rf_max_depth: 128, rf_max_features: 64, valid_r2: 0.7439316938470957\n"
     ]
    },
    {
     "name": "stderr",
     "output_type": "stream",
     "text": [
      "2022-01-27 12:34:55,899 Featurizing sample 1000\n",
      "2022-01-27 12:34:59,091 Featurizing sample 2000\n",
      "2022-01-27 12:35:02,158 Featurizing sample 3000\n",
      "2022-01-27 12:35:02,822 Splitting data by scaffold\n"
     ]
    },
    {
     "name": "stdout",
     "output_type": "stream",
     "text": [
      "number of features: 1024\n"
     ]
    },
    {
     "name": "stderr",
     "output_type": "stream",
     "text": [
      "2022-01-27 12:35:04,845 Dataset split table saved to /home/pmoulik/OPRD1_sp22_train_valid_test_scaffold_44c3a001-2c2b-4940-8927-5ee9a4cb3558.csv\n",
      "2022-01-27 12:35:04,899 Wrote transformers to /home/pmoulik/RF_sp22/rdkit-raw/OPRD1_sp22/RF_ecfp_scaffold_regression/662c812e-778e-416a-aa62-9adfb8548a4a/transformers.pkl\n",
      "2022-01-27 12:35:04,901 Transforming response data\n",
      "2022-01-27 12:35:04,942 Transforming response data\n",
      "2022-01-27 12:35:04,953 Transforming response data\n",
      "2022-01-27 12:35:04,964 Fitting random forest model\n",
      "2022-01-27 12:35:05,878 Fold 0: training r2_score = 0.962, validation r2_score = 0.748, test r2_score = 0.697\n",
      "2022-01-27 12:35:06,048 Wrote model tarball to /home/pmoulik/RF_sp22/rdkit-raw/OPRD1_sp22_model_662c812e-778e-416a-aa62-9adfb8548a4a.tar.gz\n",
      "2022-01-27 12:35:06,091 Created a dataset hash 'e0ad2cf61651f72b9c351ac059c34b72' from dataset_key '/home/pmoulik/OPRD1_sp22.csv'\n",
      "2022-01-27 12:35:06,098 previously_split is set False; ignoring split_uuid passed as parameter\n",
      "2022-01-27 12:35:06,099 Attempting to load featurized dataset\n",
      "2022-01-27 12:35:06,109 Exception when trying to load featurized data:\n",
      "DynamicFeaturization doesn't support get_featurized_dset_name()\n",
      "2022-01-27 12:35:06,111 Featurized dataset not previously saved for dataset OPRD1_sp22, creating new\n",
      "2022-01-27 12:35:06,121 Featurizing sample 0\n"
     ]
    },
    {
     "name": "stdout",
     "output_type": "stream",
     "text": [
      "rf_estimators: 32, rf_max_depth: 128, rf_max_features: 128, valid_r2: 0.7475755432320391\n"
     ]
    },
    {
     "name": "stderr",
     "output_type": "stream",
     "text": [
      "2022-01-27 12:35:09,167 Featurizing sample 1000\n",
      "2022-01-27 12:35:12,327 Featurizing sample 2000\n",
      "2022-01-27 12:35:15,383 Featurizing sample 3000\n",
      "2022-01-27 12:35:16,033 Splitting data by scaffold\n"
     ]
    },
    {
     "name": "stdout",
     "output_type": "stream",
     "text": [
      "number of features: 1024\n"
     ]
    },
    {
     "name": "stderr",
     "output_type": "stream",
     "text": [
      "2022-01-27 12:35:18,013 Dataset split table saved to /home/pmoulik/OPRD1_sp22_train_valid_test_scaffold_fe31f039-2823-495f-9b77-656848e25825.csv\n",
      "2022-01-27 12:35:18,082 Wrote transformers to /home/pmoulik/RF_sp22/rdkit-raw/OPRD1_sp22/RF_ecfp_scaffold_regression/d806b552-bbe3-48fd-8fd2-752633a7d361/transformers.pkl\n",
      "2022-01-27 12:35:18,084 Transforming response data\n",
      "2022-01-27 12:35:18,119 Transforming response data\n",
      "2022-01-27 12:35:18,130 Transforming response data\n",
      "2022-01-27 12:35:18,139 Fitting random forest model\n",
      "2022-01-27 12:35:18,627 Fold 0: training r2_score = 0.874, validation r2_score = 0.690, test r2_score = 0.617\n",
      "2022-01-27 12:35:18,794 Wrote model tarball to /home/pmoulik/RF_sp22/rdkit-raw/OPRD1_sp22_model_d806b552-bbe3-48fd-8fd2-752633a7d361.tar.gz\n",
      "2022-01-27 12:35:18,837 Created a dataset hash 'e0ad2cf61651f72b9c351ac059c34b72' from dataset_key '/home/pmoulik/OPRD1_sp22.csv'\n",
      "2022-01-27 12:35:18,843 previously_split is set False; ignoring split_uuid passed as parameter\n",
      "2022-01-27 12:35:18,844 Attempting to load featurized dataset\n",
      "2022-01-27 12:35:18,854 Exception when trying to load featurized data:\n",
      "DynamicFeaturization doesn't support get_featurized_dset_name()\n",
      "2022-01-27 12:35:18,855 Featurized dataset not previously saved for dataset OPRD1_sp22, creating new\n",
      "2022-01-27 12:35:18,865 Featurizing sample 0\n"
     ]
    },
    {
     "name": "stdout",
     "output_type": "stream",
     "text": [
      "rf_estimators: 64, rf_max_depth: 16, rf_max_features: 16, valid_r2: 0.6896715080789853\n"
     ]
    },
    {
     "name": "stderr",
     "output_type": "stream",
     "text": [
      "2022-01-27 12:35:22,016 Featurizing sample 1000\n",
      "2022-01-27 12:35:25,084 Featurizing sample 2000\n",
      "2022-01-27 12:35:28,133 Featurizing sample 3000\n",
      "2022-01-27 12:35:28,790 Splitting data by scaffold\n"
     ]
    },
    {
     "name": "stdout",
     "output_type": "stream",
     "text": [
      "number of features: 1024\n"
     ]
    },
    {
     "name": "stderr",
     "output_type": "stream",
     "text": [
      "2022-01-27 12:35:30,889 Dataset split table saved to /home/pmoulik/OPRD1_sp22_train_valid_test_scaffold_4d397acf-59dc-487f-a914-a80bb2c462fb.csv\n",
      "2022-01-27 12:35:30,969 Wrote transformers to /home/pmoulik/RF_sp22/rdkit-raw/OPRD1_sp22/RF_ecfp_scaffold_regression/f7d60b09-4021-443d-8d55-1a29e57641d9/transformers.pkl\n",
      "2022-01-27 12:35:30,971 Transforming response data\n",
      "2022-01-27 12:35:31,008 Transforming response data\n",
      "2022-01-27 12:35:31,019 Transforming response data\n",
      "2022-01-27 12:35:31,030 Fitting random forest model\n",
      "2022-01-27 12:35:31,678 Fold 0: training r2_score = 0.914, validation r2_score = 0.726, test r2_score = 0.672\n",
      "2022-01-27 12:35:31,893 Wrote model tarball to /home/pmoulik/RF_sp22/rdkit-raw/OPRD1_sp22_model_f7d60b09-4021-443d-8d55-1a29e57641d9.tar.gz\n",
      "2022-01-27 12:35:31,936 Created a dataset hash 'e0ad2cf61651f72b9c351ac059c34b72' from dataset_key '/home/pmoulik/OPRD1_sp22.csv'\n",
      "2022-01-27 12:35:31,959 previously_split is set False; ignoring split_uuid passed as parameter\n",
      "2022-01-27 12:35:31,961 Attempting to load featurized dataset\n",
      "2022-01-27 12:35:31,971 Exception when trying to load featurized data:\n",
      "DynamicFeaturization doesn't support get_featurized_dset_name()\n",
      "2022-01-27 12:35:31,972 Featurized dataset not previously saved for dataset OPRD1_sp22, creating new\n",
      "2022-01-27 12:35:31,982 Featurizing sample 0\n"
     ]
    },
    {
     "name": "stdout",
     "output_type": "stream",
     "text": [
      "rf_estimators: 64, rf_max_depth: 16, rf_max_features: 32, valid_r2: 0.7262273168798501\n"
     ]
    },
    {
     "name": "stderr",
     "output_type": "stream",
     "text": [
      "2022-01-27 12:35:35,020 Featurizing sample 1000\n",
      "2022-01-27 12:35:38,082 Featurizing sample 2000\n",
      "2022-01-27 12:35:41,266 Featurizing sample 3000\n",
      "2022-01-27 12:35:41,962 Splitting data by scaffold\n"
     ]
    },
    {
     "name": "stdout",
     "output_type": "stream",
     "text": [
      "number of features: 1024\n"
     ]
    },
    {
     "name": "stderr",
     "output_type": "stream",
     "text": [
      "2022-01-27 12:35:43,982 Dataset split table saved to /home/pmoulik/OPRD1_sp22_train_valid_test_scaffold_5e8eb71e-d99c-4160-8239-30ec611607e7.csv\n",
      "2022-01-27 12:35:44,040 Wrote transformers to /home/pmoulik/RF_sp22/rdkit-raw/OPRD1_sp22/RF_ecfp_scaffold_regression/fcfbb9f6-cce6-4775-9d69-99d100332347/transformers.pkl\n",
      "2022-01-27 12:35:44,042 Transforming response data\n",
      "2022-01-27 12:35:44,083 Transforming response data\n",
      "2022-01-27 12:35:44,094 Transforming response data\n",
      "2022-01-27 12:35:44,105 Fitting random forest model\n",
      "2022-01-27 12:35:44,986 Fold 0: training r2_score = 0.928, validation r2_score = 0.738, test r2_score = 0.680\n",
      "2022-01-27 12:35:45,205 Wrote model tarball to /home/pmoulik/RF_sp22/rdkit-raw/OPRD1_sp22_model_fcfbb9f6-cce6-4775-9d69-99d100332347.tar.gz\n",
      "2022-01-27 12:35:45,248 Created a dataset hash 'e0ad2cf61651f72b9c351ac059c34b72' from dataset_key '/home/pmoulik/OPRD1_sp22.csv'\n",
      "2022-01-27 12:35:45,261 previously_split is set False; ignoring split_uuid passed as parameter\n",
      "2022-01-27 12:35:45,262 Attempting to load featurized dataset\n",
      "2022-01-27 12:35:45,272 Exception when trying to load featurized data:\n",
      "DynamicFeaturization doesn't support get_featurized_dset_name()\n",
      "2022-01-27 12:35:45,274 Featurized dataset not previously saved for dataset OPRD1_sp22, creating new\n",
      "2022-01-27 12:35:45,284 Featurizing sample 0\n"
     ]
    },
    {
     "name": "stdout",
     "output_type": "stream",
     "text": [
      "rf_estimators: 64, rf_max_depth: 16, rf_max_features: 64, valid_r2: 0.7379499526792157\n"
     ]
    },
    {
     "name": "stderr",
     "output_type": "stream",
     "text": [
      "2022-01-27 12:35:48,328 Featurizing sample 1000\n",
      "2022-01-27 12:35:51,388 Featurizing sample 2000\n",
      "2022-01-27 12:35:54,560 Featurizing sample 3000\n",
      "2022-01-27 12:35:55,211 Splitting data by scaffold\n"
     ]
    },
    {
     "name": "stdout",
     "output_type": "stream",
     "text": [
      "number of features: 1024\n"
     ]
    },
    {
     "name": "stderr",
     "output_type": "stream",
     "text": [
      "2022-01-27 12:35:57,196 Dataset split table saved to /home/pmoulik/OPRD1_sp22_train_valid_test_scaffold_49b4743a-2e70-480e-8318-9ad115757c18.csv\n",
      "2022-01-27 12:35:57,271 Wrote transformers to /home/pmoulik/RF_sp22/rdkit-raw/OPRD1_sp22/RF_ecfp_scaffold_regression/ea55de86-37b0-4506-b0de-1dfd96c8245f/transformers.pkl\n",
      "2022-01-27 12:35:57,273 Transforming response data\n",
      "2022-01-27 12:35:57,310 Transforming response data\n",
      "2022-01-27 12:35:57,321 Transforming response data\n",
      "2022-01-27 12:35:57,331 Fitting random forest model\n",
      "2022-01-27 12:35:58,654 Fold 0: training r2_score = 0.936, validation r2_score = 0.754, test r2_score = 0.691\n",
      "2022-01-27 12:35:58,849 Wrote model tarball to /home/pmoulik/RF_sp22/rdkit-raw/OPRD1_sp22_model_ea55de86-37b0-4506-b0de-1dfd96c8245f.tar.gz\n",
      "2022-01-27 12:35:58,892 Created a dataset hash 'e0ad2cf61651f72b9c351ac059c34b72' from dataset_key '/home/pmoulik/OPRD1_sp22.csv'\n",
      "2022-01-27 12:35:58,897 previously_split is set False; ignoring split_uuid passed as parameter\n",
      "2022-01-27 12:35:58,899 Attempting to load featurized dataset\n",
      "2022-01-27 12:35:58,908 Exception when trying to load featurized data:\n",
      "DynamicFeaturization doesn't support get_featurized_dset_name()\n",
      "2022-01-27 12:35:58,909 Featurized dataset not previously saved for dataset OPRD1_sp22, creating new\n",
      "2022-01-27 12:35:58,920 Featurizing sample 0\n"
     ]
    },
    {
     "name": "stdout",
     "output_type": "stream",
     "text": [
      "rf_estimators: 64, rf_max_depth: 16, rf_max_features: 128, valid_r2: 0.7542111462645726\n"
     ]
    },
    {
     "name": "stderr",
     "output_type": "stream",
     "text": [
      "2022-01-27 12:36:01,977 Featurizing sample 1000\n",
      "2022-01-27 12:36:05,179 Featurizing sample 2000\n",
      "2022-01-27 12:36:08,419 Featurizing sample 3000\n",
      "2022-01-27 12:36:09,080 Splitting data by scaffold\n"
     ]
    },
    {
     "name": "stdout",
     "output_type": "stream",
     "text": [
      "number of features: 1024\n"
     ]
    },
    {
     "name": "stderr",
     "output_type": "stream",
     "text": [
      "2022-01-27 12:36:11,078 Dataset split table saved to /home/pmoulik/OPRD1_sp22_train_valid_test_scaffold_8fe22950-6ddc-436b-b2f2-d7eab8c51d9d.csv\n",
      "2022-01-27 12:36:11,150 Wrote transformers to /home/pmoulik/RF_sp22/rdkit-raw/OPRD1_sp22/RF_ecfp_scaffold_regression/270a7e5c-4731-4137-88de-d9b3a5577f79/transformers.pkl\n",
      "2022-01-27 12:36:11,152 Transforming response data\n",
      "2022-01-27 12:36:11,190 Transforming response data\n",
      "2022-01-27 12:36:11,200 Transforming response data\n",
      "2022-01-27 12:36:11,210 Fitting random forest model\n",
      "2022-01-27 12:36:11,993 Fold 0: training r2_score = 0.957, validation r2_score = 0.731, test r2_score = 0.664\n",
      "2022-01-27 12:36:12,303 Wrote model tarball to /home/pmoulik/RF_sp22/rdkit-raw/OPRD1_sp22_model_270a7e5c-4731-4137-88de-d9b3a5577f79.tar.gz\n",
      "2022-01-27 12:36:12,347 Created a dataset hash 'e0ad2cf61651f72b9c351ac059c34b72' from dataset_key '/home/pmoulik/OPRD1_sp22.csv'\n",
      "2022-01-27 12:36:12,358 previously_split is set False; ignoring split_uuid passed as parameter\n",
      "2022-01-27 12:36:12,360 Attempting to load featurized dataset\n",
      "2022-01-27 12:36:12,370 Exception when trying to load featurized data:\n",
      "DynamicFeaturization doesn't support get_featurized_dset_name()\n",
      "2022-01-27 12:36:12,371 Featurized dataset not previously saved for dataset OPRD1_sp22, creating new\n",
      "2022-01-27 12:36:12,381 Featurizing sample 0\n"
     ]
    },
    {
     "name": "stdout",
     "output_type": "stream",
     "text": [
      "rf_estimators: 64, rf_max_depth: 32, rf_max_features: 16, valid_r2: 0.7305170225742412\n"
     ]
    },
    {
     "name": "stderr",
     "output_type": "stream",
     "text": [
      "2022-01-27 12:36:15,418 Featurizing sample 1000\n",
      "2022-01-27 12:36:18,583 Featurizing sample 2000\n",
      "2022-01-27 12:36:21,644 Featurizing sample 3000\n",
      "2022-01-27 12:36:22,304 Splitting data by scaffold\n"
     ]
    },
    {
     "name": "stdout",
     "output_type": "stream",
     "text": [
      "number of features: 1024\n"
     ]
    },
    {
     "name": "stderr",
     "output_type": "stream",
     "text": [
      "2022-01-27 12:36:24,295 Dataset split table saved to /home/pmoulik/OPRD1_sp22_train_valid_test_scaffold_dcf74515-1914-493c-bddd-be3ceb342fca.csv\n",
      "2022-01-27 12:36:24,363 Wrote transformers to /home/pmoulik/RF_sp22/rdkit-raw/OPRD1_sp22/RF_ecfp_scaffold_regression/9e9d6012-a75e-4cb8-807b-cd72d3df3b37/transformers.pkl\n",
      "2022-01-27 12:36:24,365 Transforming response data\n",
      "2022-01-27 12:36:24,401 Transforming response data\n",
      "2022-01-27 12:36:24,411 Transforming response data\n",
      "2022-01-27 12:36:24,421 Fitting random forest model\n",
      "2022-01-27 12:36:25,383 Fold 0: training r2_score = 0.960, validation r2_score = 0.744, test r2_score = 0.688\n",
      "2022-01-27 12:36:25,694 Wrote model tarball to /home/pmoulik/RF_sp22/rdkit-raw/OPRD1_sp22_model_9e9d6012-a75e-4cb8-807b-cd72d3df3b37.tar.gz\n",
      "2022-01-27 12:36:25,737 Created a dataset hash 'e0ad2cf61651f72b9c351ac059c34b72' from dataset_key '/home/pmoulik/OPRD1_sp22.csv'\n",
      "2022-01-27 12:36:25,749 previously_split is set False; ignoring split_uuid passed as parameter\n",
      "2022-01-27 12:36:25,750 Attempting to load featurized dataset\n",
      "2022-01-27 12:36:25,761 Exception when trying to load featurized data:\n",
      "DynamicFeaturization doesn't support get_featurized_dset_name()\n",
      "2022-01-27 12:36:25,762 Featurized dataset not previously saved for dataset OPRD1_sp22, creating new\n",
      "2022-01-27 12:36:25,772 Featurizing sample 0\n"
     ]
    },
    {
     "name": "stdout",
     "output_type": "stream",
     "text": [
      "rf_estimators: 64, rf_max_depth: 32, rf_max_features: 32, valid_r2: 0.7439376371918973\n"
     ]
    },
    {
     "name": "stderr",
     "output_type": "stream",
     "text": [
      "2022-01-27 12:36:28,925 Featurizing sample 1000\n",
      "2022-01-27 12:36:31,995 Featurizing sample 2000\n",
      "2022-01-27 12:36:35,049 Featurizing sample 3000\n",
      "2022-01-27 12:36:35,709 Splitting data by scaffold\n"
     ]
    },
    {
     "name": "stdout",
     "output_type": "stream",
     "text": [
      "number of features: 1024\n"
     ]
    },
    {
     "name": "stderr",
     "output_type": "stream",
     "text": [
      "2022-01-27 12:36:37,701 Dataset split table saved to /home/pmoulik/OPRD1_sp22_train_valid_test_scaffold_420c32d6-7c5a-4244-a8b9-1a1952470ea1.csv\n",
      "2022-01-27 12:36:37,775 Wrote transformers to /home/pmoulik/RF_sp22/rdkit-raw/OPRD1_sp22/RF_ecfp_scaffold_regression/4c4ef278-bb13-458c-8a2c-09f169177382/transformers.pkl\n",
      "2022-01-27 12:36:37,777 Transforming response data\n",
      "2022-01-27 12:36:37,812 Transforming response data\n",
      "2022-01-27 12:36:37,823 Transforming response data\n",
      "2022-01-27 12:36:37,833 Fitting random forest model\n",
      "2022-01-27 12:36:39,166 Fold 0: training r2_score = 0.961, validation r2_score = 0.750, test r2_score = 0.696\n",
      "2022-01-27 12:36:39,456 Wrote model tarball to /home/pmoulik/RF_sp22/rdkit-raw/OPRD1_sp22_model_4c4ef278-bb13-458c-8a2c-09f169177382.tar.gz\n",
      "2022-01-27 12:36:39,499 Created a dataset hash 'e0ad2cf61651f72b9c351ac059c34b72' from dataset_key '/home/pmoulik/OPRD1_sp22.csv'\n",
      "2022-01-27 12:36:39,505 previously_split is set False; ignoring split_uuid passed as parameter\n",
      "2022-01-27 12:36:39,507 Attempting to load featurized dataset\n",
      "2022-01-27 12:36:39,517 Exception when trying to load featurized data:\n",
      "DynamicFeaturization doesn't support get_featurized_dset_name()\n",
      "2022-01-27 12:36:39,519 Featurized dataset not previously saved for dataset OPRD1_sp22, creating new\n",
      "2022-01-27 12:36:39,530 Featurizing sample 0\n"
     ]
    },
    {
     "name": "stdout",
     "output_type": "stream",
     "text": [
      "rf_estimators: 64, rf_max_depth: 32, rf_max_features: 64, valid_r2: 0.7495877952786258\n"
     ]
    },
    {
     "name": "stderr",
     "output_type": "stream",
     "text": [
      "2022-01-27 12:36:42,578 Featurizing sample 1000\n",
      "2022-01-27 12:36:45,650 Featurizing sample 2000\n",
      "2022-01-27 12:36:48,709 Featurizing sample 3000\n",
      "2022-01-27 12:36:49,534 Splitting data by scaffold\n"
     ]
    },
    {
     "name": "stdout",
     "output_type": "stream",
     "text": [
      "number of features: 1024\n"
     ]
    },
    {
     "name": "stderr",
     "output_type": "stream",
     "text": [
      "2022-01-27 12:36:51,526 Dataset split table saved to /home/pmoulik/OPRD1_sp22_train_valid_test_scaffold_c7ba0760-f30b-46cb-9502-1abcb8048630.csv\n",
      "2022-01-27 12:36:51,593 Wrote transformers to /home/pmoulik/RF_sp22/rdkit-raw/OPRD1_sp22/RF_ecfp_scaffold_regression/2866bd8c-2aa4-4f23-8def-89297c3af200/transformers.pkl\n",
      "2022-01-27 12:36:51,595 Transforming response data\n",
      "2022-01-27 12:36:51,630 Transforming response data\n",
      "2022-01-27 12:36:51,640 Transforming response data\n",
      "2022-01-27 12:36:51,651 Fitting random forest model\n",
      "2022-01-27 12:36:53,383 Fold 0: training r2_score = 0.963, validation r2_score = 0.749, test r2_score = 0.696\n",
      "2022-01-27 12:36:53,672 Wrote model tarball to /home/pmoulik/RF_sp22/rdkit-raw/OPRD1_sp22_model_2866bd8c-2aa4-4f23-8def-89297c3af200.tar.gz\n",
      "2022-01-27 12:36:53,715 Created a dataset hash 'e0ad2cf61651f72b9c351ac059c34b72' from dataset_key '/home/pmoulik/OPRD1_sp22.csv'\n",
      "2022-01-27 12:36:53,721 previously_split is set False; ignoring split_uuid passed as parameter\n",
      "2022-01-27 12:36:53,723 Attempting to load featurized dataset\n",
      "2022-01-27 12:36:53,733 Exception when trying to load featurized data:\n",
      "DynamicFeaturization doesn't support get_featurized_dset_name()\n",
      "2022-01-27 12:36:53,734 Featurized dataset not previously saved for dataset OPRD1_sp22, creating new\n",
      "2022-01-27 12:36:53,745 Featurizing sample 0\n"
     ]
    },
    {
     "name": "stdout",
     "output_type": "stream",
     "text": [
      "rf_estimators: 64, rf_max_depth: 32, rf_max_features: 128, valid_r2: 0.7490135968525371\n"
     ]
    },
    {
     "name": "stderr",
     "output_type": "stream",
     "text": [
      "2022-01-27 12:36:56,782 Featurizing sample 1000\n",
      "2022-01-27 12:36:59,956 Featurizing sample 2000\n",
      "2022-01-27 12:37:03,012 Featurizing sample 3000\n",
      "2022-01-27 12:37:03,672 Splitting data by scaffold\n"
     ]
    },
    {
     "name": "stdout",
     "output_type": "stream",
     "text": [
      "number of features: 1024\n"
     ]
    },
    {
     "name": "stderr",
     "output_type": "stream",
     "text": [
      "2022-01-27 12:37:05,680 Dataset split table saved to /home/pmoulik/OPRD1_sp22_train_valid_test_scaffold_9b687271-b46e-424f-93ec-557f8426e4a7.csv\n",
      "2022-01-27 12:37:05,748 Wrote transformers to /home/pmoulik/RF_sp22/rdkit-raw/OPRD1_sp22/RF_ecfp_scaffold_regression/95cf184b-f4e3-4e5a-8a1a-6dea3043b112/transformers.pkl\n",
      "2022-01-27 12:37:05,750 Transforming response data\n",
      "2022-01-27 12:37:05,786 Transforming response data\n",
      "2022-01-27 12:37:05,797 Transforming response data\n",
      "2022-01-27 12:37:05,807 Fitting random forest model\n",
      "2022-01-27 12:37:06,683 Fold 0: training r2_score = 0.962, validation r2_score = 0.739, test r2_score = 0.678\n",
      "2022-01-27 12:37:07,011 Wrote model tarball to /home/pmoulik/RF_sp22/rdkit-raw/OPRD1_sp22_model_95cf184b-f4e3-4e5a-8a1a-6dea3043b112.tar.gz\n",
      "2022-01-27 12:37:07,060 Created a dataset hash 'e0ad2cf61651f72b9c351ac059c34b72' from dataset_key '/home/pmoulik/OPRD1_sp22.csv'\n",
      "2022-01-27 12:37:07,072 previously_split is set False; ignoring split_uuid passed as parameter\n",
      "2022-01-27 12:37:07,074 Attempting to load featurized dataset\n",
      "2022-01-27 12:37:07,084 Exception when trying to load featurized data:\n",
      "DynamicFeaturization doesn't support get_featurized_dset_name()\n",
      "2022-01-27 12:37:07,085 Featurized dataset not previously saved for dataset OPRD1_sp22, creating new\n",
      "2022-01-27 12:37:07,095 Featurizing sample 0\n"
     ]
    },
    {
     "name": "stdout",
     "output_type": "stream",
     "text": [
      "rf_estimators: 64, rf_max_depth: 64, rf_max_features: 16, valid_r2: 0.7394083538508823\n"
     ]
    },
    {
     "name": "stderr",
     "output_type": "stream",
     "text": [
      "2022-01-27 12:37:10,267 Featurizing sample 1000\n",
      "2022-01-27 12:37:13,325 Featurizing sample 2000\n",
      "2022-01-27 12:37:16,384 Featurizing sample 3000\n",
      "2022-01-27 12:37:17,039 Splitting data by scaffold\n"
     ]
    },
    {
     "name": "stdout",
     "output_type": "stream",
     "text": [
      "number of features: 1024\n"
     ]
    },
    {
     "name": "stderr",
     "output_type": "stream",
     "text": [
      "2022-01-27 12:37:19,014 Dataset split table saved to /home/pmoulik/OPRD1_sp22_train_valid_test_scaffold_7e995cd7-5984-4ae6-ba97-0948cb8a5178.csv\n",
      "2022-01-27 12:37:19,082 Wrote transformers to /home/pmoulik/RF_sp22/rdkit-raw/OPRD1_sp22/RF_ecfp_scaffold_regression/c0190458-ea0b-47ef-a6e3-139754f025d3/transformers.pkl\n",
      "2022-01-27 12:37:19,084 Transforming response data\n",
      "2022-01-27 12:37:19,120 Transforming response data\n",
      "2022-01-27 12:37:19,131 Transforming response data\n",
      "2022-01-27 12:37:19,141 Fitting random forest model\n",
      "2022-01-27 12:37:20,150 Fold 0: training r2_score = 0.963, validation r2_score = 0.738, test r2_score = 0.687\n",
      "2022-01-27 12:37:20,548 Wrote model tarball to /home/pmoulik/RF_sp22/rdkit-raw/OPRD1_sp22_model_c0190458-ea0b-47ef-a6e3-139754f025d3.tar.gz\n",
      "2022-01-27 12:37:20,591 Created a dataset hash 'e0ad2cf61651f72b9c351ac059c34b72' from dataset_key '/home/pmoulik/OPRD1_sp22.csv'\n",
      "2022-01-27 12:37:20,597 previously_split is set False; ignoring split_uuid passed as parameter\n",
      "2022-01-27 12:37:20,599 Attempting to load featurized dataset\n",
      "2022-01-27 12:37:20,608 Exception when trying to load featurized data:\n",
      "DynamicFeaturization doesn't support get_featurized_dset_name()\n",
      "2022-01-27 12:37:20,610 Featurized dataset not previously saved for dataset OPRD1_sp22, creating new\n",
      "2022-01-27 12:37:20,620 Featurizing sample 0\n"
     ]
    },
    {
     "name": "stdout",
     "output_type": "stream",
     "text": [
      "rf_estimators: 64, rf_max_depth: 64, rf_max_features: 32, valid_r2: 0.7381590089884713\n"
     ]
    },
    {
     "name": "stderr",
     "output_type": "stream",
     "text": [
      "2022-01-27 12:37:23,678 Featurizing sample 1000\n",
      "2022-01-27 12:37:26,740 Featurizing sample 2000\n",
      "2022-01-27 12:37:29,801 Featurizing sample 3000\n",
      "2022-01-27 12:37:30,456 Splitting data by scaffold\n"
     ]
    },
    {
     "name": "stdout",
     "output_type": "stream",
     "text": [
      "number of features: 1024\n"
     ]
    },
    {
     "name": "stderr",
     "output_type": "stream",
     "text": [
      "2022-01-27 12:37:32,544 Dataset split table saved to /home/pmoulik/OPRD1_sp22_train_valid_test_scaffold_9da45c1f-cd34-42f1-a989-7ffd43c55adf.csv\n",
      "2022-01-27 12:37:32,613 Wrote transformers to /home/pmoulik/RF_sp22/rdkit-raw/OPRD1_sp22/RF_ecfp_scaffold_regression/0e70bffa-e714-489d-ac9a-1bb19aaa76a7/transformers.pkl\n",
      "2022-01-27 12:37:32,615 Transforming response data\n",
      "2022-01-27 12:37:32,651 Transforming response data\n",
      "2022-01-27 12:37:32,662 Transforming response data\n",
      "2022-01-27 12:37:32,673 Fitting random forest model\n",
      "2022-01-27 12:37:33,945 Fold 0: training r2_score = 0.964, validation r2_score = 0.751, test r2_score = 0.700\n",
      "2022-01-27 12:37:34,260 Wrote model tarball to /home/pmoulik/RF_sp22/rdkit-raw/OPRD1_sp22_model_0e70bffa-e714-489d-ac9a-1bb19aaa76a7.tar.gz\n",
      "2022-01-27 12:37:34,304 Created a dataset hash 'e0ad2cf61651f72b9c351ac059c34b72' from dataset_key '/home/pmoulik/OPRD1_sp22.csv'\n",
      "2022-01-27 12:37:34,309 previously_split is set False; ignoring split_uuid passed as parameter\n",
      "2022-01-27 12:37:34,311 Attempting to load featurized dataset\n",
      "2022-01-27 12:37:34,321 Exception when trying to load featurized data:\n",
      "DynamicFeaturization doesn't support get_featurized_dset_name()\n",
      "2022-01-27 12:37:34,323 Featurized dataset not previously saved for dataset OPRD1_sp22, creating new\n",
      "2022-01-27 12:37:34,333 Featurizing sample 0\n"
     ]
    },
    {
     "name": "stdout",
     "output_type": "stream",
     "text": [
      "rf_estimators: 64, rf_max_depth: 64, rf_max_features: 64, valid_r2: 0.7507557800781504\n"
     ]
    },
    {
     "name": "stderr",
     "output_type": "stream",
     "text": [
      "2022-01-27 12:37:37,378 Featurizing sample 1000\n",
      "2022-01-27 12:37:40,444 Featurizing sample 2000\n",
      "2022-01-27 12:37:43,617 Featurizing sample 3000\n",
      "2022-01-27 12:37:44,279 Splitting data by scaffold\n"
     ]
    },
    {
     "name": "stdout",
     "output_type": "stream",
     "text": [
      "number of features: 1024\n"
     ]
    },
    {
     "name": "stderr",
     "output_type": "stream",
     "text": [
      "2022-01-27 12:37:46,267 Dataset split table saved to /home/pmoulik/OPRD1_sp22_train_valid_test_scaffold_a979ec95-fe4f-4100-ad3d-47cdb57d6955.csv\n",
      "2022-01-27 12:37:46,334 Wrote transformers to /home/pmoulik/RF_sp22/rdkit-raw/OPRD1_sp22/RF_ecfp_scaffold_regression/0ac533ed-66f0-4256-8bba-d618992822f1/transformers.pkl\n",
      "2022-01-27 12:37:46,336 Transforming response data\n",
      "2022-01-27 12:37:46,372 Transforming response data\n",
      "2022-01-27 12:37:46,383 Transforming response data\n",
      "2022-01-27 12:37:46,393 Fitting random forest model\n",
      "2022-01-27 12:37:48,169 Fold 0: training r2_score = 0.964, validation r2_score = 0.752, test r2_score = 0.697\n",
      "2022-01-27 12:37:48,500 Wrote model tarball to /home/pmoulik/RF_sp22/rdkit-raw/OPRD1_sp22_model_0ac533ed-66f0-4256-8bba-d618992822f1.tar.gz\n",
      "2022-01-27 12:37:48,543 Created a dataset hash 'e0ad2cf61651f72b9c351ac059c34b72' from dataset_key '/home/pmoulik/OPRD1_sp22.csv'\n",
      "2022-01-27 12:37:48,549 previously_split is set False; ignoring split_uuid passed as parameter\n",
      "2022-01-27 12:37:48,551 Attempting to load featurized dataset\n",
      "2022-01-27 12:37:48,561 Exception when trying to load featurized data:\n",
      "DynamicFeaturization doesn't support get_featurized_dset_name()\n",
      "2022-01-27 12:37:48,562 Featurized dataset not previously saved for dataset OPRD1_sp22, creating new\n",
      "2022-01-27 12:37:48,573 Featurizing sample 0\n"
     ]
    },
    {
     "name": "stdout",
     "output_type": "stream",
     "text": [
      "rf_estimators: 64, rf_max_depth: 64, rf_max_features: 128, valid_r2: 0.7519054908593066\n"
     ]
    },
    {
     "name": "stderr",
     "output_type": "stream",
     "text": [
      "2022-01-27 12:37:51,621 Featurizing sample 1000\n",
      "2022-01-27 12:37:54,842 Featurizing sample 2000\n",
      "2022-01-27 12:37:57,905 Featurizing sample 3000\n",
      "2022-01-27 12:37:58,567 Splitting data by scaffold\n"
     ]
    },
    {
     "name": "stdout",
     "output_type": "stream",
     "text": [
      "number of features: 1024\n"
     ]
    },
    {
     "name": "stderr",
     "output_type": "stream",
     "text": [
      "2022-01-27 12:38:00,544 Dataset split table saved to /home/pmoulik/OPRD1_sp22_train_valid_test_scaffold_7d9719dc-9457-4ee2-92d3-b6b12eddcbff.csv\n",
      "2022-01-27 12:38:00,611 Wrote transformers to /home/pmoulik/RF_sp22/rdkit-raw/OPRD1_sp22/RF_ecfp_scaffold_regression/ced15fdc-21d4-4706-bb14-00c3fc79cd9c/transformers.pkl\n",
      "2022-01-27 12:38:00,613 Transforming response data\n",
      "2022-01-27 12:38:00,647 Transforming response data\n",
      "2022-01-27 12:38:00,658 Transforming response data\n",
      "2022-01-27 12:38:00,669 Fitting random forest model\n",
      "2022-01-27 12:38:01,530 Fold 0: training r2_score = 0.962, validation r2_score = 0.737, test r2_score = 0.677\n",
      "2022-01-27 12:38:01,861 Wrote model tarball to /home/pmoulik/RF_sp22/rdkit-raw/OPRD1_sp22_model_ced15fdc-21d4-4706-bb14-00c3fc79cd9c.tar.gz\n",
      "2022-01-27 12:38:01,904 Created a dataset hash 'e0ad2cf61651f72b9c351ac059c34b72' from dataset_key '/home/pmoulik/OPRD1_sp22.csv'\n",
      "2022-01-27 12:38:01,910 previously_split is set False; ignoring split_uuid passed as parameter\n",
      "2022-01-27 12:38:01,912 Attempting to load featurized dataset\n",
      "2022-01-27 12:38:01,922 Exception when trying to load featurized data:\n",
      "DynamicFeaturization doesn't support get_featurized_dset_name()\n",
      "2022-01-27 12:38:01,923 Featurized dataset not previously saved for dataset OPRD1_sp22, creating new\n",
      "2022-01-27 12:38:01,933 Featurizing sample 0\n"
     ]
    },
    {
     "name": "stdout",
     "output_type": "stream",
     "text": [
      "rf_estimators: 64, rf_max_depth: 128, rf_max_features: 16, valid_r2: 0.7365408491126497\n"
     ]
    },
    {
     "name": "stderr",
     "output_type": "stream",
     "text": [
      "2022-01-27 12:38:05,073 Featurizing sample 1000\n",
      "2022-01-27 12:38:08,325 Featurizing sample 2000\n",
      "2022-01-27 12:38:11,376 Featurizing sample 3000\n",
      "2022-01-27 12:38:12,038 Splitting data by scaffold\n"
     ]
    },
    {
     "name": "stdout",
     "output_type": "stream",
     "text": [
      "number of features: 1024\n"
     ]
    },
    {
     "name": "stderr",
     "output_type": "stream",
     "text": [
      "2022-01-27 12:38:14,033 Dataset split table saved to /home/pmoulik/OPRD1_sp22_train_valid_test_scaffold_72a9d774-59eb-4fc1-b2a4-6c23829ac030.csv\n",
      "2022-01-27 12:38:14,101 Wrote transformers to /home/pmoulik/RF_sp22/rdkit-raw/OPRD1_sp22/RF_ecfp_scaffold_regression/15a62809-2760-4693-948e-2934d302d442/transformers.pkl\n",
      "2022-01-27 12:38:14,103 Transforming response data\n",
      "2022-01-27 12:38:14,139 Transforming response data\n",
      "2022-01-27 12:38:14,149 Transforming response data\n",
      "2022-01-27 12:38:14,159 Fitting random forest model\n",
      "2022-01-27 12:38:15,165 Fold 0: training r2_score = 0.963, validation r2_score = 0.738, test r2_score = 0.688\n",
      "2022-01-27 12:38:15,501 Wrote model tarball to /home/pmoulik/RF_sp22/rdkit-raw/OPRD1_sp22_model_15a62809-2760-4693-948e-2934d302d442.tar.gz\n",
      "2022-01-27 12:38:15,544 Created a dataset hash 'e0ad2cf61651f72b9c351ac059c34b72' from dataset_key '/home/pmoulik/OPRD1_sp22.csv'\n",
      "2022-01-27 12:38:15,550 previously_split is set False; ignoring split_uuid passed as parameter\n",
      "2022-01-27 12:38:15,551 Attempting to load featurized dataset\n",
      "2022-01-27 12:38:15,562 Exception when trying to load featurized data:\n",
      "DynamicFeaturization doesn't support get_featurized_dset_name()\n",
      "2022-01-27 12:38:15,563 Featurized dataset not previously saved for dataset OPRD1_sp22, creating new\n",
      "2022-01-27 12:38:15,574 Featurizing sample 0\n"
     ]
    },
    {
     "name": "stdout",
     "output_type": "stream",
     "text": [
      "rf_estimators: 64, rf_max_depth: 128, rf_max_features: 32, valid_r2: 0.7382468797717465\n"
     ]
    },
    {
     "name": "stderr",
     "output_type": "stream",
     "text": [
      "2022-01-27 12:38:18,729 Featurizing sample 1000\n",
      "2022-01-27 12:38:21,782 Featurizing sample 2000\n",
      "2022-01-27 12:38:24,836 Featurizing sample 3000\n",
      "2022-01-27 12:38:25,490 Splitting data by scaffold\n"
     ]
    },
    {
     "name": "stdout",
     "output_type": "stream",
     "text": [
      "number of features: 1024\n"
     ]
    },
    {
     "name": "stderr",
     "output_type": "stream",
     "text": [
      "2022-01-27 12:38:27,480 Dataset split table saved to /home/pmoulik/OPRD1_sp22_train_valid_test_scaffold_9ed081ce-7036-4a7c-af3b-edf47adf4bab.csv\n",
      "2022-01-27 12:38:27,547 Wrote transformers to /home/pmoulik/RF_sp22/rdkit-raw/OPRD1_sp22/RF_ecfp_scaffold_regression/6c98e457-15ad-43bf-920d-c7ffd48c64c3/transformers.pkl\n",
      "2022-01-27 12:38:27,549 Transforming response data\n",
      "2022-01-27 12:38:27,585 Transforming response data\n",
      "2022-01-27 12:38:27,596 Transforming response data\n",
      "2022-01-27 12:38:27,606 Fitting random forest model\n",
      "2022-01-27 12:38:28,987 Fold 0: training r2_score = 0.964, validation r2_score = 0.751, test r2_score = 0.701\n",
      "2022-01-27 12:38:29,303 Wrote model tarball to /home/pmoulik/RF_sp22/rdkit-raw/OPRD1_sp22_model_6c98e457-15ad-43bf-920d-c7ffd48c64c3.tar.gz\n",
      "2022-01-27 12:38:29,345 Created a dataset hash 'e0ad2cf61651f72b9c351ac059c34b72' from dataset_key '/home/pmoulik/OPRD1_sp22.csv'\n",
      "2022-01-27 12:38:29,350 previously_split is set False; ignoring split_uuid passed as parameter\n",
      "2022-01-27 12:38:29,352 Attempting to load featurized dataset\n",
      "2022-01-27 12:38:29,362 Exception when trying to load featurized data:\n",
      "DynamicFeaturization doesn't support get_featurized_dset_name()\n",
      "2022-01-27 12:38:29,364 Featurized dataset not previously saved for dataset OPRD1_sp22, creating new\n",
      "2022-01-27 12:38:29,375 Featurizing sample 0\n"
     ]
    },
    {
     "name": "stdout",
     "output_type": "stream",
     "text": [
      "rf_estimators: 64, rf_max_depth: 128, rf_max_features: 64, valid_r2: 0.7505228402366882\n"
     ]
    },
    {
     "name": "stderr",
     "output_type": "stream",
     "text": [
      "2022-01-27 12:38:32,414 Featurizing sample 1000\n",
      "2022-01-27 12:38:35,474 Featurizing sample 2000\n",
      "2022-01-27 12:38:38,647 Featurizing sample 3000\n",
      "2022-01-27 12:38:39,300 Splitting data by scaffold\n"
     ]
    },
    {
     "name": "stdout",
     "output_type": "stream",
     "text": [
      "number of features: 1024\n"
     ]
    },
    {
     "name": "stderr",
     "output_type": "stream",
     "text": [
      "2022-01-27 12:38:41,292 Dataset split table saved to /home/pmoulik/OPRD1_sp22_train_valid_test_scaffold_9f395ecc-4ccb-48d5-93cb-8983513a5dc1.csv\n",
      "2022-01-27 12:38:41,362 Wrote transformers to /home/pmoulik/RF_sp22/rdkit-raw/OPRD1_sp22/RF_ecfp_scaffold_regression/8f3286bc-3537-49e5-a561-cd200482b922/transformers.pkl\n",
      "2022-01-27 12:38:41,364 Transforming response data\n",
      "2022-01-27 12:38:41,400 Transforming response data\n",
      "2022-01-27 12:38:41,411 Transforming response data\n",
      "2022-01-27 12:38:41,421 Fitting random forest model\n",
      "2022-01-27 12:38:43,192 Fold 0: training r2_score = 0.964, validation r2_score = 0.752, test r2_score = 0.697\n",
      "2022-01-27 12:38:43,499 Wrote model tarball to /home/pmoulik/RF_sp22/rdkit-raw/OPRD1_sp22_model_8f3286bc-3537-49e5-a561-cd200482b922.tar.gz\n",
      "2022-01-27 12:38:43,540 Created a dataset hash 'e0ad2cf61651f72b9c351ac059c34b72' from dataset_key '/home/pmoulik/OPRD1_sp22.csv'\n",
      "2022-01-27 12:38:43,557 previously_split is set False; ignoring split_uuid passed as parameter\n",
      "2022-01-27 12:38:43,559 Attempting to load featurized dataset\n",
      "2022-01-27 12:38:43,570 Exception when trying to load featurized data:\n",
      "DynamicFeaturization doesn't support get_featurized_dset_name()\n",
      "2022-01-27 12:38:43,572 Featurized dataset not previously saved for dataset OPRD1_sp22, creating new\n",
      "2022-01-27 12:38:43,582 Featurizing sample 0\n"
     ]
    },
    {
     "name": "stdout",
     "output_type": "stream",
     "text": [
      "rf_estimators: 64, rf_max_depth: 128, rf_max_features: 128, valid_r2: 0.751612351405963\n"
     ]
    },
    {
     "name": "stderr",
     "output_type": "stream",
     "text": [
      "2022-01-27 12:38:46,626 Featurizing sample 1000\n",
      "2022-01-27 12:38:49,797 Featurizing sample 2000\n",
      "2022-01-27 12:38:52,847 Featurizing sample 3000\n",
      "2022-01-27 12:38:53,508 Splitting data by scaffold\n"
     ]
    },
    {
     "name": "stdout",
     "output_type": "stream",
     "text": [
      "number of features: 1024\n"
     ]
    },
    {
     "name": "stderr",
     "output_type": "stream",
     "text": [
      "2022-01-27 12:38:55,498 Dataset split table saved to /home/pmoulik/OPRD1_sp22_train_valid_test_scaffold_a71c8fb1-a5b6-4379-980c-eaa8464a02e2.csv\n",
      "2022-01-27 12:38:55,567 Wrote transformers to /home/pmoulik/RF_sp22/rdkit-raw/OPRD1_sp22/RF_ecfp_scaffold_regression/ef7ba80c-b763-4142-8037-f64d07345889/transformers.pkl\n",
      "2022-01-27 12:38:55,569 Transforming response data\n",
      "2022-01-27 12:38:55,606 Transforming response data\n",
      "2022-01-27 12:38:55,617 Transforming response data\n",
      "2022-01-27 12:38:55,627 Fitting random forest model\n",
      "2022-01-27 12:38:56,531 Fold 0: training r2_score = 0.877, validation r2_score = 0.687, test r2_score = 0.619\n",
      "2022-01-27 12:38:56,820 Wrote model tarball to /home/pmoulik/RF_sp22/rdkit-raw/OPRD1_sp22_model_ef7ba80c-b763-4142-8037-f64d07345889.tar.gz\n",
      "2022-01-27 12:38:56,862 Created a dataset hash 'e0ad2cf61651f72b9c351ac059c34b72' from dataset_key '/home/pmoulik/OPRD1_sp22.csv'\n",
      "2022-01-27 12:38:56,874 previously_split is set False; ignoring split_uuid passed as parameter\n",
      "2022-01-27 12:38:56,876 Attempting to load featurized dataset\n",
      "2022-01-27 12:38:56,886 Exception when trying to load featurized data:\n",
      "DynamicFeaturization doesn't support get_featurized_dset_name()\n",
      "2022-01-27 12:38:56,888 Featurized dataset not previously saved for dataset OPRD1_sp22, creating new\n",
      "2022-01-27 12:38:56,899 Featurizing sample 0\n"
     ]
    },
    {
     "name": "stdout",
     "output_type": "stream",
     "text": [
      "rf_estimators: 128, rf_max_depth: 16, rf_max_features: 16, valid_r2: 0.6870242937968534\n"
     ]
    },
    {
     "name": "stderr",
     "output_type": "stream",
     "text": [
      "2022-01-27 12:39:00,102 Featurizing sample 1000\n",
      "2022-01-27 12:39:03,166 Featurizing sample 2000\n",
      "2022-01-27 12:39:06,211 Featurizing sample 3000\n",
      "2022-01-27 12:39:06,876 Splitting data by scaffold\n"
     ]
    },
    {
     "name": "stdout",
     "output_type": "stream",
     "text": [
      "number of features: 1024\n"
     ]
    },
    {
     "name": "stderr",
     "output_type": "stream",
     "text": [
      "2022-01-27 12:39:08,873 Dataset split table saved to /home/pmoulik/OPRD1_sp22_train_valid_test_scaffold_76ea1987-8931-4469-a8f5-9f0d7ad4471a.csv\n",
      "2022-01-27 12:39:08,941 Wrote transformers to /home/pmoulik/RF_sp22/rdkit-raw/OPRD1_sp22/RF_ecfp_scaffold_regression/dbdba4f6-68dc-4cd1-a3de-b6b8e6368969/transformers.pkl\n",
      "2022-01-27 12:39:08,943 Transforming response data\n",
      "2022-01-27 12:39:08,980 Transforming response data\n",
      "2022-01-27 12:39:08,990 Transforming response data\n",
      "2022-01-27 12:39:09,000 Fitting random forest model\n",
      "2022-01-27 12:39:10,251 Fold 0: training r2_score = 0.915, validation r2_score = 0.727, test r2_score = 0.673\n",
      "2022-01-27 12:39:10,671 Wrote model tarball to /home/pmoulik/RF_sp22/rdkit-raw/OPRD1_sp22_model_dbdba4f6-68dc-4cd1-a3de-b6b8e6368969.tar.gz\n",
      "2022-01-27 12:39:10,720 Created a dataset hash 'e0ad2cf61651f72b9c351ac059c34b72' from dataset_key '/home/pmoulik/OPRD1_sp22.csv'\n",
      "2022-01-27 12:39:10,726 previously_split is set False; ignoring split_uuid passed as parameter\n",
      "2022-01-27 12:39:10,728 Attempting to load featurized dataset\n",
      "2022-01-27 12:39:10,737 Exception when trying to load featurized data:\n",
      "DynamicFeaturization doesn't support get_featurized_dset_name()\n",
      "2022-01-27 12:39:10,739 Featurized dataset not previously saved for dataset OPRD1_sp22, creating new\n",
      "2022-01-27 12:39:10,750 Featurizing sample 0\n"
     ]
    },
    {
     "name": "stdout",
     "output_type": "stream",
     "text": [
      "rf_estimators: 128, rf_max_depth: 16, rf_max_features: 32, valid_r2: 0.7273461446814077\n"
     ]
    },
    {
     "name": "stderr",
     "output_type": "stream",
     "text": [
      "2022-01-27 12:39:13,807 Featurizing sample 1000\n",
      "2022-01-27 12:39:16,883 Featurizing sample 2000\n",
      "2022-01-27 12:39:19,951 Featurizing sample 3000\n",
      "2022-01-27 12:39:20,607 Splitting data by scaffold\n"
     ]
    },
    {
     "name": "stdout",
     "output_type": "stream",
     "text": [
      "number of features: 1024\n"
     ]
    },
    {
     "name": "stderr",
     "output_type": "stream",
     "text": [
      "2022-01-27 12:39:22,731 Dataset split table saved to /home/pmoulik/OPRD1_sp22_train_valid_test_scaffold_fe01c681-5f06-4eb0-b0aa-c2901b054726.csv\n",
      "2022-01-27 12:39:22,799 Wrote transformers to /home/pmoulik/RF_sp22/rdkit-raw/OPRD1_sp22/RF_ecfp_scaffold_regression/0e612bbc-0917-4d9d-bee5-fc8527fc93a1/transformers.pkl\n",
      "2022-01-27 12:39:22,801 Transforming response data\n",
      "2022-01-27 12:39:22,837 Transforming response data\n",
      "2022-01-27 12:39:22,848 Transforming response data\n",
      "2022-01-27 12:39:22,859 Fitting random forest model\n",
      "2022-01-27 12:39:24,542 Fold 0: training r2_score = 0.929, validation r2_score = 0.742, test r2_score = 0.690\n",
      "2022-01-27 12:39:24,901 Wrote model tarball to /home/pmoulik/RF_sp22/rdkit-raw/OPRD1_sp22_model_0e612bbc-0917-4d9d-bee5-fc8527fc93a1.tar.gz\n",
      "2022-01-27 12:39:24,944 Created a dataset hash 'e0ad2cf61651f72b9c351ac059c34b72' from dataset_key '/home/pmoulik/OPRD1_sp22.csv'\n",
      "2022-01-27 12:39:24,951 previously_split is set False; ignoring split_uuid passed as parameter\n",
      "2022-01-27 12:39:24,952 Attempting to load featurized dataset\n",
      "2022-01-27 12:39:24,962 Exception when trying to load featurized data:\n",
      "DynamicFeaturization doesn't support get_featurized_dset_name()\n",
      "2022-01-27 12:39:24,964 Featurized dataset not previously saved for dataset OPRD1_sp22, creating new\n",
      "2022-01-27 12:39:24,975 Featurizing sample 0\n"
     ]
    },
    {
     "name": "stdout",
     "output_type": "stream",
     "text": [
      "rf_estimators: 128, rf_max_depth: 16, rf_max_features: 64, valid_r2: 0.7423826073126123\n"
     ]
    },
    {
     "name": "stderr",
     "output_type": "stream",
     "text": [
      "2022-01-27 12:39:28,020 Featurizing sample 1000\n",
      "2022-01-27 12:39:31,075 Featurizing sample 2000\n",
      "2022-01-27 12:39:34,246 Featurizing sample 3000\n",
      "2022-01-27 12:39:34,900 Splitting data by scaffold\n"
     ]
    },
    {
     "name": "stdout",
     "output_type": "stream",
     "text": [
      "number of features: 1024\n"
     ]
    },
    {
     "name": "stderr",
     "output_type": "stream",
     "text": [
      "2022-01-27 12:39:36,913 Dataset split table saved to /home/pmoulik/OPRD1_sp22_train_valid_test_scaffold_a53d6b94-7025-4f6e-85fa-cd8034468600.csv\n",
      "2022-01-27 12:39:36,967 Wrote transformers to /home/pmoulik/RF_sp22/rdkit-raw/OPRD1_sp22/RF_ecfp_scaffold_regression/9398d625-0a89-4b6e-88e6-f06cfed9a45d/transformers.pkl\n",
      "2022-01-27 12:39:36,969 Transforming response data\n",
      "2022-01-27 12:39:37,008 Transforming response data\n",
      "2022-01-27 12:39:37,019 Transforming response data\n",
      "2022-01-27 12:39:37,030 Fitting random forest model\n",
      "2022-01-27 12:39:39,596 Fold 0: training r2_score = 0.937, validation r2_score = 0.756, test r2_score = 0.693\n",
      "2022-01-27 12:39:40,165 Wrote model tarball to /home/pmoulik/RF_sp22/rdkit-raw/OPRD1_sp22_model_9398d625-0a89-4b6e-88e6-f06cfed9a45d.tar.gz\n",
      "2022-01-27 12:39:40,210 Created a dataset hash 'e0ad2cf61651f72b9c351ac059c34b72' from dataset_key '/home/pmoulik/OPRD1_sp22.csv'\n",
      "2022-01-27 12:39:40,217 previously_split is set False; ignoring split_uuid passed as parameter\n",
      "2022-01-27 12:39:40,219 Attempting to load featurized dataset\n",
      "2022-01-27 12:39:40,229 Exception when trying to load featurized data:\n",
      "DynamicFeaturization doesn't support get_featurized_dset_name()\n",
      "2022-01-27 12:39:40,231 Featurized dataset not previously saved for dataset OPRD1_sp22, creating new\n",
      "2022-01-27 12:39:40,242 Featurizing sample 0\n"
     ]
    },
    {
     "name": "stdout",
     "output_type": "stream",
     "text": [
      "rf_estimators: 128, rf_max_depth: 16, rf_max_features: 128, valid_r2: 0.7559906928759459\n"
     ]
    },
    {
     "name": "stderr",
     "output_type": "stream",
     "text": [
      "2022-01-27 12:39:43,389 Featurizing sample 1000\n",
      "2022-01-27 12:39:46,449 Featurizing sample 2000\n",
      "2022-01-27 12:39:49,504 Featurizing sample 3000\n",
      "2022-01-27 12:39:50,155 Splitting data by scaffold\n"
     ]
    },
    {
     "name": "stdout",
     "output_type": "stream",
     "text": [
      "number of features: 1024\n"
     ]
    },
    {
     "name": "stderr",
     "output_type": "stream",
     "text": [
      "2022-01-27 12:39:52,262 Dataset split table saved to /home/pmoulik/OPRD1_sp22_train_valid_test_scaffold_ccc3b020-1305-4a68-b5c6-b1ee16597734.csv\n",
      "2022-01-27 12:39:52,328 Wrote transformers to /home/pmoulik/RF_sp22/rdkit-raw/OPRD1_sp22/RF_ecfp_scaffold_regression/48de6f11-1468-4ba3-bce6-9d330d11b842/transformers.pkl\n",
      "2022-01-27 12:39:52,330 Transforming response data\n",
      "2022-01-27 12:39:52,371 Transforming response data\n",
      "2022-01-27 12:39:52,382 Transforming response data\n",
      "2022-01-27 12:39:52,393 Fitting random forest model\n",
      "2022-01-27 12:39:53,953 Fold 0: training r2_score = 0.959, validation r2_score = 0.735, test r2_score = 0.670\n",
      "2022-01-27 12:39:54,501 Wrote model tarball to /home/pmoulik/RF_sp22/rdkit-raw/OPRD1_sp22_model_48de6f11-1468-4ba3-bce6-9d330d11b842.tar.gz\n",
      "2022-01-27 12:39:54,544 Created a dataset hash 'e0ad2cf61651f72b9c351ac059c34b72' from dataset_key '/home/pmoulik/OPRD1_sp22.csv'\n",
      "2022-01-27 12:39:54,560 previously_split is set False; ignoring split_uuid passed as parameter\n",
      "2022-01-27 12:39:54,562 Attempting to load featurized dataset\n",
      "2022-01-27 12:39:54,573 Exception when trying to load featurized data:\n",
      "DynamicFeaturization doesn't support get_featurized_dset_name()\n",
      "2022-01-27 12:39:54,574 Featurized dataset not previously saved for dataset OPRD1_sp22, creating new\n",
      "2022-01-27 12:39:54,585 Featurizing sample 0\n"
     ]
    },
    {
     "name": "stdout",
     "output_type": "stream",
     "text": [
      "rf_estimators: 128, rf_max_depth: 32, rf_max_features: 16, valid_r2: 0.7352826911101047\n"
     ]
    },
    {
     "name": "stderr",
     "output_type": "stream",
     "text": [
      "2022-01-27 12:39:57,628 Featurizing sample 1000\n",
      "2022-01-27 12:40:00,693 Featurizing sample 2000\n",
      "2022-01-27 12:40:03,901 Featurizing sample 3000\n",
      "2022-01-27 12:40:04,553 Splitting data by scaffold\n"
     ]
    },
    {
     "name": "stdout",
     "output_type": "stream",
     "text": [
      "number of features: 1024\n"
     ]
    },
    {
     "name": "stderr",
     "output_type": "stream",
     "text": [
      "2022-01-27 12:40:06,561 Dataset split table saved to /home/pmoulik/OPRD1_sp22_train_valid_test_scaffold_d62ac06f-0b9d-42d1-9c10-db0f7610eb7e.csv\n",
      "2022-01-27 12:40:06,616 Wrote transformers to /home/pmoulik/RF_sp22/rdkit-raw/OPRD1_sp22/RF_ecfp_scaffold_regression/b020ab7f-0225-4aee-9113-5b467eac1d71/transformers.pkl\n",
      "2022-01-27 12:40:06,618 Transforming response data\n",
      "2022-01-27 12:40:06,659 Transforming response data\n",
      "2022-01-27 12:40:06,670 Transforming response data\n",
      "2022-01-27 12:40:06,680 Fitting random forest model\n",
      "2022-01-27 12:40:08,742 Fold 0: training r2_score = 0.961, validation r2_score = 0.747, test r2_score = 0.697\n",
      "2022-01-27 12:40:09,344 Wrote model tarball to /home/pmoulik/RF_sp22/rdkit-raw/OPRD1_sp22_model_b020ab7f-0225-4aee-9113-5b467eac1d71.tar.gz\n",
      "2022-01-27 12:40:09,386 Created a dataset hash 'e0ad2cf61651f72b9c351ac059c34b72' from dataset_key '/home/pmoulik/OPRD1_sp22.csv'\n",
      "2022-01-27 12:40:09,393 previously_split is set False; ignoring split_uuid passed as parameter\n",
      "2022-01-27 12:40:09,394 Attempting to load featurized dataset\n",
      "2022-01-27 12:40:09,404 Exception when trying to load featurized data:\n",
      "DynamicFeaturization doesn't support get_featurized_dset_name()\n",
      "2022-01-27 12:40:09,406 Featurized dataset not previously saved for dataset OPRD1_sp22, creating new\n",
      "2022-01-27 12:40:09,417 Featurizing sample 0\n"
     ]
    },
    {
     "name": "stdout",
     "output_type": "stream",
     "text": [
      "rf_estimators: 128, rf_max_depth: 32, rf_max_features: 32, valid_r2: 0.7472050067429543\n"
     ]
    },
    {
     "name": "stderr",
     "output_type": "stream",
     "text": [
      "2022-01-27 12:40:12,459 Featurizing sample 1000\n",
      "2022-01-27 12:40:15,530 Featurizing sample 2000\n",
      "2022-01-27 12:40:18,694 Featurizing sample 3000\n",
      "2022-01-27 12:40:19,350 Splitting data by scaffold\n"
     ]
    },
    {
     "name": "stdout",
     "output_type": "stream",
     "text": [
      "number of features: 1024\n"
     ]
    },
    {
     "name": "stderr",
     "output_type": "stream",
     "text": [
      "2022-01-27 12:40:21,353 Dataset split table saved to /home/pmoulik/OPRD1_sp22_train_valid_test_scaffold_1ca2dfd2-b86b-4d69-8de6-0718b615e22e.csv\n",
      "2022-01-27 12:40:21,414 Wrote transformers to /home/pmoulik/RF_sp22/rdkit-raw/OPRD1_sp22/RF_ecfp_scaffold_regression/8078d7e2-9c03-437f-8526-5d794ae40ba1/transformers.pkl\n",
      "2022-01-27 12:40:21,416 Transforming response data\n",
      "2022-01-27 12:40:21,457 Transforming response data\n",
      "2022-01-27 12:40:21,468 Transforming response data\n",
      "2022-01-27 12:40:21,478 Fitting random forest model\n",
      "2022-01-27 12:40:23,849 Fold 0: training r2_score = 0.963, validation r2_score = 0.754, test r2_score = 0.700\n",
      "2022-01-27 12:40:24,489 Wrote model tarball to /home/pmoulik/RF_sp22/rdkit-raw/OPRD1_sp22_model_8078d7e2-9c03-437f-8526-5d794ae40ba1.tar.gz\n",
      "2022-01-27 12:40:24,533 Created a dataset hash 'e0ad2cf61651f72b9c351ac059c34b72' from dataset_key '/home/pmoulik/OPRD1_sp22.csv'\n",
      "2022-01-27 12:40:24,545 previously_split is set False; ignoring split_uuid passed as parameter\n",
      "2022-01-27 12:40:24,547 Attempting to load featurized dataset\n",
      "2022-01-27 12:40:24,556 Exception when trying to load featurized data:\n",
      "DynamicFeaturization doesn't support get_featurized_dset_name()\n",
      "2022-01-27 12:40:24,558 Featurized dataset not previously saved for dataset OPRD1_sp22, creating new\n",
      "2022-01-27 12:40:24,568 Featurizing sample 0\n"
     ]
    },
    {
     "name": "stdout",
     "output_type": "stream",
     "text": [
      "rf_estimators: 128, rf_max_depth: 32, rf_max_features: 64, valid_r2: 0.7539417435853251\n"
     ]
    },
    {
     "name": "stderr",
     "output_type": "stream",
     "text": [
      "2022-01-27 12:40:27,614 Featurizing sample 1000\n",
      "2022-01-27 12:40:30,811 Featurizing sample 2000\n",
      "2022-01-27 12:40:33,870 Featurizing sample 3000\n",
      "2022-01-27 12:40:34,519 Splitting data by scaffold\n"
     ]
    },
    {
     "name": "stdout",
     "output_type": "stream",
     "text": [
      "number of features: 1024\n"
     ]
    },
    {
     "name": "stderr",
     "output_type": "stream",
     "text": [
      "2022-01-27 12:40:36,515 Dataset split table saved to /home/pmoulik/OPRD1_sp22_train_valid_test_scaffold_4fc23c9d-edc2-4753-8f14-09c05d92053a.csv\n",
      "2022-01-27 12:40:36,570 Wrote transformers to /home/pmoulik/RF_sp22/rdkit-raw/OPRD1_sp22/RF_ecfp_scaffold_regression/aaada80a-b151-48f2-b9e0-1e8c57792f3a/transformers.pkl\n",
      "2022-01-27 12:40:36,572 Transforming response data\n",
      "2022-01-27 12:40:36,612 Transforming response data\n",
      "2022-01-27 12:40:36,624 Transforming response data\n",
      "2022-01-27 12:40:36,634 Fitting random forest model\n",
      "2022-01-27 12:40:40,118 Fold 0: training r2_score = 0.964, validation r2_score = 0.752, test r2_score = 0.699\n",
      "2022-01-27 12:40:40,689 Wrote model tarball to /home/pmoulik/RF_sp22/rdkit-raw/OPRD1_sp22_model_aaada80a-b151-48f2-b9e0-1e8c57792f3a.tar.gz\n",
      "2022-01-27 12:40:40,730 Created a dataset hash 'e0ad2cf61651f72b9c351ac059c34b72' from dataset_key '/home/pmoulik/OPRD1_sp22.csv'\n",
      "2022-01-27 12:40:40,738 previously_split is set False; ignoring split_uuid passed as parameter\n",
      "2022-01-27 12:40:40,739 Attempting to load featurized dataset\n",
      "2022-01-27 12:40:40,749 Exception when trying to load featurized data:\n",
      "DynamicFeaturization doesn't support get_featurized_dset_name()\n",
      "2022-01-27 12:40:40,750 Featurized dataset not previously saved for dataset OPRD1_sp22, creating new\n",
      "2022-01-27 12:40:40,761 Featurizing sample 0\n"
     ]
    },
    {
     "name": "stdout",
     "output_type": "stream",
     "text": [
      "rf_estimators: 128, rf_max_depth: 32, rf_max_features: 128, valid_r2: 0.7523065871584355\n"
     ]
    },
    {
     "name": "stderr",
     "output_type": "stream",
     "text": [
      "2022-01-27 12:40:43,797 Featurizing sample 1000\n",
      "2022-01-27 12:40:46,870 Featurizing sample 2000\n",
      "2022-01-27 12:40:49,988 Featurizing sample 3000\n",
      "2022-01-27 12:40:50,675 Splitting data by scaffold\n"
     ]
    },
    {
     "name": "stdout",
     "output_type": "stream",
     "text": [
      "number of features: 1024\n"
     ]
    },
    {
     "name": "stderr",
     "output_type": "stream",
     "text": [
      "2022-01-27 12:40:52,674 Dataset split table saved to /home/pmoulik/OPRD1_sp22_train_valid_test_scaffold_faf3f963-0265-40ff-871d-f0bdbcf9ae7e.csv\n",
      "2022-01-27 12:40:52,733 Wrote transformers to /home/pmoulik/RF_sp22/rdkit-raw/OPRD1_sp22/RF_ecfp_scaffold_regression/3b5c6fec-7771-4c79-8b23-96c3792143cd/transformers.pkl\n",
      "2022-01-27 12:40:52,735 Transforming response data\n",
      "2022-01-27 12:40:52,775 Transforming response data\n",
      "2022-01-27 12:40:52,786 Transforming response data\n",
      "2022-01-27 12:40:52,796 Fitting random forest model\n",
      "2022-01-27 12:40:54,470 Fold 0: training r2_score = 0.964, validation r2_score = 0.741, test r2_score = 0.677\n",
      "2022-01-27 12:40:55,089 Wrote model tarball to /home/pmoulik/RF_sp22/rdkit-raw/OPRD1_sp22_model_3b5c6fec-7771-4c79-8b23-96c3792143cd.tar.gz\n",
      "2022-01-27 12:40:55,132 Created a dataset hash 'e0ad2cf61651f72b9c351ac059c34b72' from dataset_key '/home/pmoulik/OPRD1_sp22.csv'\n",
      "2022-01-27 12:40:55,139 previously_split is set False; ignoring split_uuid passed as parameter\n",
      "2022-01-27 12:40:55,140 Attempting to load featurized dataset\n",
      "2022-01-27 12:40:55,151 Exception when trying to load featurized data:\n",
      "DynamicFeaturization doesn't support get_featurized_dset_name()\n",
      "2022-01-27 12:40:55,152 Featurized dataset not previously saved for dataset OPRD1_sp22, creating new\n",
      "2022-01-27 12:40:55,164 Featurizing sample 0\n"
     ]
    },
    {
     "name": "stdout",
     "output_type": "stream",
     "text": [
      "rf_estimators: 128, rf_max_depth: 64, rf_max_features: 16, valid_r2: 0.7408731765689753\n"
     ]
    },
    {
     "name": "stderr",
     "output_type": "stream",
     "text": [
      "2022-01-27 12:40:58,205 Featurizing sample 1000\n",
      "2022-01-27 12:41:01,381 Featurizing sample 2000\n",
      "2022-01-27 12:41:04,446 Featurizing sample 3000\n",
      "2022-01-27 12:41:05,102 Splitting data by scaffold\n"
     ]
    },
    {
     "name": "stdout",
     "output_type": "stream",
     "text": [
      "number of features: 1024\n"
     ]
    },
    {
     "name": "stderr",
     "output_type": "stream",
     "text": [
      "2022-01-27 12:41:07,090 Dataset split table saved to /home/pmoulik/OPRD1_sp22_train_valid_test_scaffold_36a6e5e3-325c-452f-a5b1-ffa1418d319b.csv\n",
      "2022-01-27 12:41:07,150 Wrote transformers to /home/pmoulik/RF_sp22/rdkit-raw/OPRD1_sp22/RF_ecfp_scaffold_regression/cc081082-fdef-4b40-8558-38b6a4815f1d/transformers.pkl\n",
      "2022-01-27 12:41:07,152 Transforming response data\n",
      "2022-01-27 12:41:07,192 Transforming response data\n",
      "2022-01-27 12:41:07,203 Transforming response data\n",
      "2022-01-27 12:41:07,214 Fitting random forest model\n",
      "2022-01-27 12:41:09,164 Fold 0: training r2_score = 0.964, validation r2_score = 0.745, test r2_score = 0.693\n",
      "2022-01-27 12:41:09,773 Wrote model tarball to /home/pmoulik/RF_sp22/rdkit-raw/OPRD1_sp22_model_cc081082-fdef-4b40-8558-38b6a4815f1d.tar.gz\n",
      "2022-01-27 12:41:09,815 Created a dataset hash 'e0ad2cf61651f72b9c351ac059c34b72' from dataset_key '/home/pmoulik/OPRD1_sp22.csv'\n",
      "2022-01-27 12:41:09,821 previously_split is set False; ignoring split_uuid passed as parameter\n",
      "2022-01-27 12:41:09,823 Attempting to load featurized dataset\n",
      "2022-01-27 12:41:09,833 Exception when trying to load featurized data:\n",
      "DynamicFeaturization doesn't support get_featurized_dset_name()\n",
      "2022-01-27 12:41:09,835 Featurized dataset not previously saved for dataset OPRD1_sp22, creating new\n",
      "2022-01-27 12:41:09,845 Featurizing sample 0\n"
     ]
    },
    {
     "name": "stdout",
     "output_type": "stream",
     "text": [
      "rf_estimators: 128, rf_max_depth: 64, rf_max_features: 32, valid_r2: 0.744761955493282\n"
     ]
    },
    {
     "name": "stderr",
     "output_type": "stream",
     "text": [
      "2022-01-27 12:41:13,044 Featurizing sample 1000\n",
      "2022-01-27 12:41:16,115 Featurizing sample 2000\n",
      "2022-01-27 12:41:19,170 Featurizing sample 3000\n",
      "2022-01-27 12:41:19,827 Splitting data by scaffold\n"
     ]
    },
    {
     "name": "stdout",
     "output_type": "stream",
     "text": [
      "number of features: 1024\n"
     ]
    },
    {
     "name": "stderr",
     "output_type": "stream",
     "text": [
      "2022-01-27 12:41:21,941 Dataset split table saved to /home/pmoulik/OPRD1_sp22_train_valid_test_scaffold_6db2fefd-7163-46d6-adb7-cb04ad7048bb.csv\n",
      "2022-01-27 12:41:21,994 Wrote transformers to /home/pmoulik/RF_sp22/rdkit-raw/OPRD1_sp22/RF_ecfp_scaffold_regression/870a5a57-e4df-40ec-84e1-b03e110af5fe/transformers.pkl\n",
      "2022-01-27 12:41:21,996 Transforming response data\n",
      "2022-01-27 12:41:22,036 Transforming response data\n",
      "2022-01-27 12:41:22,047 Transforming response data\n",
      "2022-01-27 12:41:22,058 Fitting random forest model\n",
      "2022-01-27 12:41:24,517 Fold 0: training r2_score = 0.965, validation r2_score = 0.756, test r2_score = 0.699\n",
      "2022-01-27 12:41:25,111 Wrote model tarball to /home/pmoulik/RF_sp22/rdkit-raw/OPRD1_sp22_model_870a5a57-e4df-40ec-84e1-b03e110af5fe.tar.gz\n",
      "2022-01-27 12:41:25,153 Created a dataset hash 'e0ad2cf61651f72b9c351ac059c34b72' from dataset_key '/home/pmoulik/OPRD1_sp22.csv'\n",
      "2022-01-27 12:41:25,159 previously_split is set False; ignoring split_uuid passed as parameter\n",
      "2022-01-27 12:41:25,161 Attempting to load featurized dataset\n",
      "2022-01-27 12:41:25,172 Exception when trying to load featurized data:\n",
      "DynamicFeaturization doesn't support get_featurized_dset_name()\n",
      "2022-01-27 12:41:25,173 Featurized dataset not previously saved for dataset OPRD1_sp22, creating new\n",
      "2022-01-27 12:41:25,184 Featurizing sample 0\n"
     ]
    },
    {
     "name": "stdout",
     "output_type": "stream",
     "text": [
      "rf_estimators: 128, rf_max_depth: 64, rf_max_features: 64, valid_r2: 0.7556827291744588\n"
     ]
    },
    {
     "name": "stderr",
     "output_type": "stream",
     "text": [
      "2022-01-27 12:41:28,231 Featurizing sample 1000\n",
      "2022-01-27 12:41:31,293 Featurizing sample 2000\n",
      "2022-01-27 12:41:34,467 Featurizing sample 3000\n",
      "2022-01-27 12:41:35,121 Splitting data by scaffold\n"
     ]
    },
    {
     "name": "stdout",
     "output_type": "stream",
     "text": [
      "number of features: 1024\n"
     ]
    },
    {
     "name": "stderr",
     "output_type": "stream",
     "text": [
      "2022-01-27 12:41:37,123 Dataset split table saved to /home/pmoulik/OPRD1_sp22_train_valid_test_scaffold_59450c15-5b30-4fde-8b5e-d0aaef815386.csv\n",
      "2022-01-27 12:41:37,177 Wrote transformers to /home/pmoulik/RF_sp22/rdkit-raw/OPRD1_sp22/RF_ecfp_scaffold_regression/13f73c61-7891-4075-83b2-d30ff13ada46/transformers.pkl\n",
      "2022-01-27 12:41:37,179 Transforming response data\n",
      "2022-01-27 12:41:37,221 Transforming response data\n",
      "2022-01-27 12:41:37,231 Transforming response data\n",
      "2022-01-27 12:41:37,242 Fitting random forest model\n",
      "2022-01-27 12:41:40,721 Fold 0: training r2_score = 0.965, validation r2_score = 0.760, test r2_score = 0.702\n",
      "2022-01-27 12:41:41,288 Wrote model tarball to /home/pmoulik/RF_sp22/rdkit-raw/OPRD1_sp22_model_13f73c61-7891-4075-83b2-d30ff13ada46.tar.gz\n",
      "2022-01-27 12:41:41,328 Created a dataset hash 'e0ad2cf61651f72b9c351ac059c34b72' from dataset_key '/home/pmoulik/OPRD1_sp22.csv'\n",
      "2022-01-27 12:41:41,342 previously_split is set False; ignoring split_uuid passed as parameter\n",
      "2022-01-27 12:41:41,343 Attempting to load featurized dataset\n",
      "2022-01-27 12:41:41,354 Exception when trying to load featurized data:\n",
      "DynamicFeaturization doesn't support get_featurized_dset_name()\n",
      "2022-01-27 12:41:41,355 Featurized dataset not previously saved for dataset OPRD1_sp22, creating new\n",
      "2022-01-27 12:41:41,366 Featurizing sample 0\n"
     ]
    },
    {
     "name": "stdout",
     "output_type": "stream",
     "text": [
      "rf_estimators: 128, rf_max_depth: 64, rf_max_features: 128, valid_r2: 0.7600021473765164\n"
     ]
    },
    {
     "name": "stderr",
     "output_type": "stream",
     "text": [
      "2022-01-27 12:41:44,509 Featurizing sample 1000\n",
      "2022-01-27 12:41:47,574 Featurizing sample 2000\n",
      "2022-01-27 12:41:50,637 Featurizing sample 3000\n",
      "2022-01-27 12:41:51,293 Splitting data by scaffold\n"
     ]
    },
    {
     "name": "stdout",
     "output_type": "stream",
     "text": [
      "number of features: 1024\n"
     ]
    },
    {
     "name": "stderr",
     "output_type": "stream",
     "text": [
      "2022-01-27 12:41:53,402 Dataset split table saved to /home/pmoulik/OPRD1_sp22_train_valid_test_scaffold_3a9b8731-e8ec-4ae7-a66d-2e871cec683c.csv\n",
      "2022-01-27 12:41:53,457 Wrote transformers to /home/pmoulik/RF_sp22/rdkit-raw/OPRD1_sp22/RF_ecfp_scaffold_regression/9d3261c4-9710-4e19-ab3d-c6bd4ae24d0d/transformers.pkl\n",
      "2022-01-27 12:41:53,459 Transforming response data\n",
      "2022-01-27 12:41:53,500 Transforming response data\n",
      "2022-01-27 12:41:53,511 Transforming response data\n",
      "2022-01-27 12:41:53,521 Fitting random forest model\n",
      "2022-01-27 12:41:55,202 Fold 0: training r2_score = 0.963, validation r2_score = 0.739, test r2_score = 0.675\n",
      "2022-01-27 12:41:55,961 Wrote model tarball to /home/pmoulik/RF_sp22/rdkit-raw/OPRD1_sp22_model_9d3261c4-9710-4e19-ab3d-c6bd4ae24d0d.tar.gz\n",
      "2022-01-27 12:41:56,004 Created a dataset hash 'e0ad2cf61651f72b9c351ac059c34b72' from dataset_key '/home/pmoulik/OPRD1_sp22.csv'\n",
      "2022-01-27 12:41:56,019 previously_split is set False; ignoring split_uuid passed as parameter\n",
      "2022-01-27 12:41:56,021 Attempting to load featurized dataset\n",
      "2022-01-27 12:41:56,031 Exception when trying to load featurized data:\n",
      "DynamicFeaturization doesn't support get_featurized_dset_name()\n",
      "2022-01-27 12:41:56,033 Featurized dataset not previously saved for dataset OPRD1_sp22, creating new\n",
      "2022-01-27 12:41:56,043 Featurizing sample 0\n"
     ]
    },
    {
     "name": "stdout",
     "output_type": "stream",
     "text": [
      "rf_estimators: 128, rf_max_depth: 128, rf_max_features: 16, valid_r2: 0.7388629402327471\n"
     ]
    },
    {
     "name": "stderr",
     "output_type": "stream",
     "text": [
      "2022-01-27 12:41:59,097 Featurizing sample 1000\n",
      "2022-01-27 12:42:02,160 Featurizing sample 2000\n",
      "2022-01-27 12:42:05,319 Featurizing sample 3000\n",
      "2022-01-27 12:42:05,971 Splitting data by scaffold\n"
     ]
    },
    {
     "name": "stdout",
     "output_type": "stream",
     "text": [
      "number of features: 1024\n"
     ]
    },
    {
     "name": "stderr",
     "output_type": "stream",
     "text": [
      "2022-01-27 12:42:08,175 Dataset split table saved to /home/pmoulik/OPRD1_sp22_train_valid_test_scaffold_94a00143-ba01-4f69-a9e0-c0f2c1767c2b.csv\n",
      "2022-01-27 12:42:08,229 Wrote transformers to /home/pmoulik/RF_sp22/rdkit-raw/OPRD1_sp22/RF_ecfp_scaffold_regression/40f9aeb0-e5c6-4104-b708-af90a40ca0cb/transformers.pkl\n",
      "2022-01-27 12:42:08,231 Transforming response data\n",
      "2022-01-27 12:42:08,270 Transforming response data\n",
      "2022-01-27 12:42:08,281 Transforming response data\n",
      "2022-01-27 12:42:08,293 Fitting random forest model\n",
      "2022-01-27 12:42:10,235 Fold 0: training r2_score = 0.964, validation r2_score = 0.745, test r2_score = 0.694\n",
      "2022-01-27 12:42:10,849 Wrote model tarball to /home/pmoulik/RF_sp22/rdkit-raw/OPRD1_sp22_model_40f9aeb0-e5c6-4104-b708-af90a40ca0cb.tar.gz\n",
      "2022-01-27 12:42:10,892 Created a dataset hash 'e0ad2cf61651f72b9c351ac059c34b72' from dataset_key '/home/pmoulik/OPRD1_sp22.csv'\n",
      "2022-01-27 12:42:10,897 previously_split is set False; ignoring split_uuid passed as parameter\n",
      "2022-01-27 12:42:10,899 Attempting to load featurized dataset\n",
      "2022-01-27 12:42:10,909 Exception when trying to load featurized data:\n",
      "DynamicFeaturization doesn't support get_featurized_dset_name()\n",
      "2022-01-27 12:42:10,911 Featurized dataset not previously saved for dataset OPRD1_sp22, creating new\n",
      "2022-01-27 12:42:10,922 Featurizing sample 0\n"
     ]
    },
    {
     "name": "stdout",
     "output_type": "stream",
     "text": [
      "rf_estimators: 128, rf_max_depth: 128, rf_max_features: 32, valid_r2: 0.744745713597893\n"
     ]
    },
    {
     "name": "stderr",
     "output_type": "stream",
     "text": [
      "2022-01-27 12:42:13,972 Featurizing sample 1000\n",
      "2022-01-27 12:42:17,043 Featurizing sample 2000\n",
      "2022-01-27 12:42:20,276 Featurizing sample 3000\n",
      "2022-01-27 12:42:20,933 Splitting data by scaffold\n"
     ]
    },
    {
     "name": "stdout",
     "output_type": "stream",
     "text": [
      "number of features: 1024\n"
     ]
    },
    {
     "name": "stderr",
     "output_type": "stream",
     "text": [
      "2022-01-27 12:42:22,933 Dataset split table saved to /home/pmoulik/OPRD1_sp22_train_valid_test_scaffold_a4f65cfd-9185-44e9-a687-d662c52803c0.csv\n",
      "2022-01-27 12:42:22,986 Wrote transformers to /home/pmoulik/RF_sp22/rdkit-raw/OPRD1_sp22/RF_ecfp_scaffold_regression/97a58786-9c3b-42a3-943e-b49268fea910/transformers.pkl\n",
      "2022-01-27 12:42:22,988 Transforming response data\n",
      "2022-01-27 12:42:23,029 Transforming response data\n",
      "2022-01-27 12:42:23,039 Transforming response data\n",
      "2022-01-27 12:42:23,049 Fitting random forest model\n",
      "2022-01-27 12:42:25,507 Fold 0: training r2_score = 0.965, validation r2_score = 0.755, test r2_score = 0.698\n",
      "2022-01-27 12:42:26,112 Wrote model tarball to /home/pmoulik/RF_sp22/rdkit-raw/OPRD1_sp22_model_97a58786-9c3b-42a3-943e-b49268fea910.tar.gz\n",
      "2022-01-27 12:42:26,152 Created a dataset hash 'e0ad2cf61651f72b9c351ac059c34b72' from dataset_key '/home/pmoulik/OPRD1_sp22.csv'\n",
      "2022-01-27 12:42:26,171 previously_split is set False; ignoring split_uuid passed as parameter\n",
      "2022-01-27 12:42:26,173 Attempting to load featurized dataset\n",
      "2022-01-27 12:42:26,183 Exception when trying to load featurized data:\n",
      "DynamicFeaturization doesn't support get_featurized_dset_name()\n",
      "2022-01-27 12:42:26,185 Featurized dataset not previously saved for dataset OPRD1_sp22, creating new\n",
      "2022-01-27 12:42:26,195 Featurizing sample 0\n"
     ]
    },
    {
     "name": "stdout",
     "output_type": "stream",
     "text": [
      "rf_estimators: 128, rf_max_depth: 128, rf_max_features: 64, valid_r2: 0.755096656993143\n"
     ]
    },
    {
     "name": "stderr",
     "output_type": "stream",
     "text": [
      "2022-01-27 12:42:29,340 Featurizing sample 1000\n",
      "2022-01-27 12:42:32,410 Featurizing sample 2000\n",
      "2022-01-27 12:42:35,469 Featurizing sample 3000\n",
      "2022-01-27 12:42:36,124 Splitting data by scaffold\n"
     ]
    },
    {
     "name": "stdout",
     "output_type": "stream",
     "text": [
      "number of features: 1024\n"
     ]
    },
    {
     "name": "stderr",
     "output_type": "stream",
     "text": [
      "2022-01-27 12:42:38,124 Dataset split table saved to /home/pmoulik/OPRD1_sp22_train_valid_test_scaffold_6edc2c60-b2dc-4bf1-9bdb-6028bc16ad92.csv\n",
      "2022-01-27 12:42:38,184 Wrote transformers to /home/pmoulik/RF_sp22/rdkit-raw/OPRD1_sp22/RF_ecfp_scaffold_regression/5b9f14b7-8096-46b9-ad02-f94f6c4e2840/transformers.pkl\n",
      "2022-01-27 12:42:38,186 Transforming response data\n",
      "2022-01-27 12:42:38,226 Transforming response data\n",
      "2022-01-27 12:42:38,237 Transforming response data\n",
      "2022-01-27 12:42:38,248 Fitting random forest model\n",
      "2022-01-27 12:42:41,844 Fold 0: training r2_score = 0.965, validation r2_score = 0.759, test r2_score = 0.701\n",
      "2022-01-27 12:42:42,573 Wrote model tarball to /home/pmoulik/RF_sp22/rdkit-raw/OPRD1_sp22_model_5b9f14b7-8096-46b9-ad02-f94f6c4e2840.tar.gz\n"
     ]
    },
    {
     "name": "stdout",
     "output_type": "stream",
     "text": [
      "rf_estimators: 128, rf_max_depth: 128, rf_max_features: 128, valid_r2: 0.758992372925428\n"
     ]
    }
   ],
   "source": [
    "rfe_choices = [16, 32, 64, 128] # setting the options for our parameters \n",
    "rfd_choices = [16, 32, 64, 128]\n",
    "rff_choices = [16, 32, 64, 128]\n",
    "\n",
    "\n",
    "rfe_list = [] # estimators\n",
    "rfd_list = [] # depth\n",
    "rff_list = [] # features \n",
    "valid_r2_list = [] # creating a list for the valid r2 scores \n",
    "for rf_estimator in rfe_choices:\n",
    "    for rf_depth in rfd_choices:\n",
    "        for rf_feature in rff_choices:\n",
    "            params[\"rf_estimators\"] = rf_estimator # choosing an estimator from our parameter list (param_choice) \n",
    "            params[\"rf_max_depth\"] = rf_depth # choosing depth for the max depth\n",
    "            params[\"rf_max_features\"] = rf_feature # choosing a number for the max features \n",
    "            rfe_list.append(rf_estimator) # appending the chosen estimator to our estimator list\n",
    "            rfd_list.append(rf_depth) # appending the chosen depth to our depth list\n",
    "            rff_list.append(rf_feature) # appending the chosen feature to our feature list \n",
    "            tp = parse.wrapper(params) # wrapping using ATOM function\n",
    "            pl = mp.ModelPipeline(tp) # running through the model pipeline [from ATOM]\n",
    "            pl.train_model() # training our models based on these parameters \n",
    "            pred_data = pl.model_wrapper.get_perf_data(subset=\"valid\", epoch_label=\"best\") # grabbing best model\n",
    "            pred_results = pred_data.get_prediction_results() # predicting results from the best model\n",
    "            valid_r2 = pred_results['r2_score'] # extracting the r2 validation score from the best model\n",
    "            valid_r2_list.append(valid_r2) # appending the r2 score to our list \n",
    "            print(f\"rf_estimators: {rf_estimator}, rf_max_depth: {rf_depth}, rf_max_features: {rf_feature}, valid_r2: {valid_r2}\") # printing out the used estiamtors, depth, and features and the resulting r2 score"
   ]
  },
  {
   "cell_type": "code",
   "execution_count": 5,
   "id": "45a707d1-07af-40b1-ae35-9fff476ff344",
   "metadata": {
    "pycharm": {
     "name": "#%%\n"
    }
   },
   "outputs": [],
   "source": [
    "odir = '/home/pmoulik/RF_sp22/rdkit-raw/'"
   ]
  },
  {
   "cell_type": "code",
   "execution_count": 6,
   "id": "24969e2f-2ea9-4c3c-ba28-5695ff3e76ec",
   "metadata": {
    "pycharm": {
     "name": "#%%\n"
    }
   },
   "outputs": [
    {
     "name": "stdout",
     "output_type": "stream",
     "text": [
      "Found data for 130 models under /home/pmoulik/RF_sp22/rdkit-raw/\n"
     ]
    }
   ],
   "source": [
    "results_df = cm.get_filesystem_perf_results(odir, pred_type='regression')"
   ]
  },
  {
   "cell_type": "code",
   "execution_count": 7,
   "id": "20cef535-8810-4bc0-8442-7314464a2b34",
   "metadata": {
    "pycharm": {
     "name": "#%%\n"
    }
   },
   "outputs": [],
   "source": [
    "results_OPRD1 = results_df.loc[results_df['dataset_key'] == \"/home/pmoulik/OPRD1_sp22.csv\"]"
   ]
  },
  {
   "cell_type": "code",
   "execution_count": 8,
   "id": "e1d552ef-ac9f-49ad-b639-b6501af2a9dd",
   "metadata": {
    "pycharm": {
     "name": "#%%\n"
    }
   },
   "outputs": [
    {
     "data": {
      "text/html": [
       "<div>\n",
       "<style scoped>\n",
       "    .dataframe tbody tr th:only-of-type {\n",
       "        vertical-align: middle;\n",
       "    }\n",
       "\n",
       "    .dataframe tbody tr th {\n",
       "        vertical-align: top;\n",
       "    }\n",
       "\n",
       "    .dataframe thead th {\n",
       "        text-align: right;\n",
       "    }\n",
       "</style>\n",
       "<table border=\"1\" class=\"dataframe\">\n",
       "  <thead>\n",
       "    <tr style=\"text-align: right;\">\n",
       "      <th></th>\n",
       "      <th>model_uuid</th>\n",
       "      <th>model_path</th>\n",
       "      <th>ampl_version</th>\n",
       "      <th>model_type</th>\n",
       "      <th>dataset_key</th>\n",
       "      <th>featurizer</th>\n",
       "      <th>splitter</th>\n",
       "      <th>model_score_type</th>\n",
       "      <th>feature_transform_type</th>\n",
       "      <th>rf_estimators</th>\n",
       "      <th>...</th>\n",
       "      <th>train_mae_score</th>\n",
       "      <th>train_num_compounds</th>\n",
       "      <th>valid_r2_score</th>\n",
       "      <th>valid_rms_score</th>\n",
       "      <th>valid_mae_score</th>\n",
       "      <th>valid_num_compounds</th>\n",
       "      <th>test_r2_score</th>\n",
       "      <th>test_rms_score</th>\n",
       "      <th>test_mae_score</th>\n",
       "      <th>test_num_compounds</th>\n",
       "    </tr>\n",
       "  </thead>\n",
       "  <tbody>\n",
       "    <tr>\n",
       "      <th>109</th>\n",
       "      <td>13f73c61-7891-4075-83b2-d30ff13ada46</td>\n",
       "      <td>/home/pmoulik/RF_sp22/rdkit-raw/OPRD1_sp22_mod...</td>\n",
       "      <td>1.3.0</td>\n",
       "      <td>RF</td>\n",
       "      <td>/home/pmoulik/OPRD1_sp22.csv</td>\n",
       "      <td>ecfp</td>\n",
       "      <td>scaffold</td>\n",
       "      <td>r2</td>\n",
       "      <td>normalization</td>\n",
       "      <td>128</td>\n",
       "      <td>...</td>\n",
       "      <td>0.176619</td>\n",
       "      <td>2559</td>\n",
       "      <td>0.760002</td>\n",
       "      <td>0.717437</td>\n",
       "      <td>0.531295</td>\n",
       "      <td>320</td>\n",
       "      <td>0.702302</td>\n",
       "      <td>0.771359</td>\n",
       "      <td>0.576082</td>\n",
       "      <td>320</td>\n",
       "    </tr>\n",
       "    <tr>\n",
       "      <th>111</th>\n",
       "      <td>5b9f14b7-8096-46b9-ad02-f94f6c4e2840</td>\n",
       "      <td>/home/pmoulik/RF_sp22/rdkit-raw/OPRD1_sp22_mod...</td>\n",
       "      <td>1.3.0</td>\n",
       "      <td>RF</td>\n",
       "      <td>/home/pmoulik/OPRD1_sp22.csv</td>\n",
       "      <td>ecfp</td>\n",
       "      <td>scaffold</td>\n",
       "      <td>r2</td>\n",
       "      <td>normalization</td>\n",
       "      <td>128</td>\n",
       "      <td>...</td>\n",
       "      <td>0.176520</td>\n",
       "      <td>2559</td>\n",
       "      <td>0.758992</td>\n",
       "      <td>0.718945</td>\n",
       "      <td>0.531493</td>\n",
       "      <td>320</td>\n",
       "      <td>0.700897</td>\n",
       "      <td>0.773177</td>\n",
       "      <td>0.576700</td>\n",
       "      <td>320</td>\n",
       "    </tr>\n",
       "    <tr>\n",
       "      <th>98</th>\n",
       "      <td>9398d625-0a89-4b6e-88e6-f06cfed9a45d</td>\n",
       "      <td>/home/pmoulik/RF_sp22/rdkit-raw/OPRD1_sp22_mod...</td>\n",
       "      <td>1.3.0</td>\n",
       "      <td>RF</td>\n",
       "      <td>/home/pmoulik/OPRD1_sp22.csv</td>\n",
       "      <td>ecfp</td>\n",
       "      <td>scaffold</td>\n",
       "      <td>r2</td>\n",
       "      <td>normalization</td>\n",
       "      <td>128</td>\n",
       "      <td>...</td>\n",
       "      <td>0.266565</td>\n",
       "      <td>2559</td>\n",
       "      <td>0.755991</td>\n",
       "      <td>0.723408</td>\n",
       "      <td>0.545546</td>\n",
       "      <td>320</td>\n",
       "      <td>0.692935</td>\n",
       "      <td>0.783400</td>\n",
       "      <td>0.586484</td>\n",
       "      <td>320</td>\n",
       "    </tr>\n",
       "    <tr>\n",
       "      <th>127</th>\n",
       "      <td>870a5a57-e4df-40ec-84e1-b03e110af5fe</td>\n",
       "      <td>/home/pmoulik/RF_sp22/rdkit-raw/OPRD1_sp22_mod...</td>\n",
       "      <td>1.3.0</td>\n",
       "      <td>RF</td>\n",
       "      <td>/home/pmoulik/OPRD1_sp22.csv</td>\n",
       "      <td>ecfp</td>\n",
       "      <td>scaffold</td>\n",
       "      <td>r2</td>\n",
       "      <td>normalization</td>\n",
       "      <td>128</td>\n",
       "      <td>...</td>\n",
       "      <td>0.177622</td>\n",
       "      <td>2559</td>\n",
       "      <td>0.755683</td>\n",
       "      <td>0.723865</td>\n",
       "      <td>0.539714</td>\n",
       "      <td>320</td>\n",
       "      <td>0.699081</td>\n",
       "      <td>0.775521</td>\n",
       "      <td>0.579428</td>\n",
       "      <td>320</td>\n",
       "    </tr>\n",
       "    <tr>\n",
       "      <th>101</th>\n",
       "      <td>97a58786-9c3b-42a3-943e-b49268fea910</td>\n",
       "      <td>/home/pmoulik/RF_sp22/rdkit-raw/OPRD1_sp22_mod...</td>\n",
       "      <td>1.3.0</td>\n",
       "      <td>RF</td>\n",
       "      <td>/home/pmoulik/OPRD1_sp22.csv</td>\n",
       "      <td>ecfp</td>\n",
       "      <td>scaffold</td>\n",
       "      <td>r2</td>\n",
       "      <td>normalization</td>\n",
       "      <td>128</td>\n",
       "      <td>...</td>\n",
       "      <td>0.177656</td>\n",
       "      <td>2559</td>\n",
       "      <td>0.755097</td>\n",
       "      <td>0.724732</td>\n",
       "      <td>0.540837</td>\n",
       "      <td>320</td>\n",
       "      <td>0.698494</td>\n",
       "      <td>0.776276</td>\n",
       "      <td>0.579562</td>\n",
       "      <td>320</td>\n",
       "    </tr>\n",
       "    <tr>\n",
       "      <th>...</th>\n",
       "      <td>...</td>\n",
       "      <td>...</td>\n",
       "      <td>...</td>\n",
       "      <td>...</td>\n",
       "      <td>...</td>\n",
       "      <td>...</td>\n",
       "      <td>...</td>\n",
       "      <td>...</td>\n",
       "      <td>...</td>\n",
       "      <td>...</td>\n",
       "      <td>...</td>\n",
       "      <td>...</td>\n",
       "      <td>...</td>\n",
       "      <td>...</td>\n",
       "      <td>...</td>\n",
       "      <td>...</td>\n",
       "      <td>...</td>\n",
       "      <td>...</td>\n",
       "      <td>...</td>\n",
       "      <td>...</td>\n",
       "      <td>...</td>\n",
       "    </tr>\n",
       "    <tr>\n",
       "      <th>116</th>\n",
       "      <td>829c2357-7cb1-44fa-8862-2ba82718b799</td>\n",
       "      <td>/home/pmoulik/RF_sp22/rdkit-raw/OPRD1_sp22_mod...</td>\n",
       "      <td>1.3.0</td>\n",
       "      <td>RF</td>\n",
       "      <td>/home/pmoulik/OPRD1_sp22.csv</td>\n",
       "      <td>ecfp</td>\n",
       "      <td>scaffold</td>\n",
       "      <td>r2</td>\n",
       "      <td>normalization</td>\n",
       "      <td>16</td>\n",
       "      <td>...</td>\n",
       "      <td>0.292988</td>\n",
       "      <td>2559</td>\n",
       "      <td>0.714841</td>\n",
       "      <td>0.782030</td>\n",
       "      <td>0.590016</td>\n",
       "      <td>320</td>\n",
       "      <td>0.641784</td>\n",
       "      <td>0.846137</td>\n",
       "      <td>0.629644</td>\n",
       "      <td>320</td>\n",
       "    </tr>\n",
       "    <tr>\n",
       "      <th>73</th>\n",
       "      <td>d806b552-bbe3-48fd-8fd2-752633a7d361</td>\n",
       "      <td>/home/pmoulik/RF_sp22/rdkit-raw/OPRD1_sp22_mod...</td>\n",
       "      <td>1.3.0</td>\n",
       "      <td>RF</td>\n",
       "      <td>/home/pmoulik/OPRD1_sp22.csv</td>\n",
       "      <td>ecfp</td>\n",
       "      <td>scaffold</td>\n",
       "      <td>r2</td>\n",
       "      <td>normalization</td>\n",
       "      <td>64</td>\n",
       "      <td>...</td>\n",
       "      <td>0.393726</td>\n",
       "      <td>2559</td>\n",
       "      <td>0.689672</td>\n",
       "      <td>0.815814</td>\n",
       "      <td>0.645031</td>\n",
       "      <td>320</td>\n",
       "      <td>0.617067</td>\n",
       "      <td>0.874842</td>\n",
       "      <td>0.698975</td>\n",
       "      <td>320</td>\n",
       "    </tr>\n",
       "    <tr>\n",
       "      <th>85</th>\n",
       "      <td>ef7ba80c-b763-4142-8037-f64d07345889</td>\n",
       "      <td>/home/pmoulik/RF_sp22/rdkit-raw/OPRD1_sp22_mod...</td>\n",
       "      <td>1.3.0</td>\n",
       "      <td>RF</td>\n",
       "      <td>/home/pmoulik/OPRD1_sp22.csv</td>\n",
       "      <td>ecfp</td>\n",
       "      <td>scaffold</td>\n",
       "      <td>r2</td>\n",
       "      <td>normalization</td>\n",
       "      <td>128</td>\n",
       "      <td>...</td>\n",
       "      <td>0.389250</td>\n",
       "      <td>2559</td>\n",
       "      <td>0.687024</td>\n",
       "      <td>0.819286</td>\n",
       "      <td>0.643173</td>\n",
       "      <td>320</td>\n",
       "      <td>0.618935</td>\n",
       "      <td>0.872706</td>\n",
       "      <td>0.695611</td>\n",
       "      <td>320</td>\n",
       "    </tr>\n",
       "    <tr>\n",
       "      <th>78</th>\n",
       "      <td>7030867d-3856-4247-9220-961a37217b3f</td>\n",
       "      <td>/home/pmoulik/RF_sp22/rdkit-raw/OPRD1_sp22_mod...</td>\n",
       "      <td>1.3.0</td>\n",
       "      <td>RF</td>\n",
       "      <td>/home/pmoulik/OPRD1_sp22.csv</td>\n",
       "      <td>ecfp</td>\n",
       "      <td>scaffold</td>\n",
       "      <td>r2</td>\n",
       "      <td>normalization</td>\n",
       "      <td>32</td>\n",
       "      <td>...</td>\n",
       "      <td>0.390795</td>\n",
       "      <td>2559</td>\n",
       "      <td>0.685633</td>\n",
       "      <td>0.821105</td>\n",
       "      <td>0.651557</td>\n",
       "      <td>320</td>\n",
       "      <td>0.614706</td>\n",
       "      <td>0.877535</td>\n",
       "      <td>0.699058</td>\n",
       "      <td>320</td>\n",
       "    </tr>\n",
       "    <tr>\n",
       "      <th>67</th>\n",
       "      <td>343ad0e5-c5bc-49a8-aea7-b601e9f729ec</td>\n",
       "      <td>/home/pmoulik/RF_sp22/rdkit-raw/OPRD1_sp22_mod...</td>\n",
       "      <td>1.3.0</td>\n",
       "      <td>RF</td>\n",
       "      <td>/home/pmoulik/OPRD1_sp22.csv</td>\n",
       "      <td>ecfp</td>\n",
       "      <td>scaffold</td>\n",
       "      <td>r2</td>\n",
       "      <td>normalization</td>\n",
       "      <td>16</td>\n",
       "      <td>...</td>\n",
       "      <td>0.391103</td>\n",
       "      <td>2559</td>\n",
       "      <td>0.682616</td>\n",
       "      <td>0.825036</td>\n",
       "      <td>0.657098</td>\n",
       "      <td>320</td>\n",
       "      <td>0.616569</td>\n",
       "      <td>0.875411</td>\n",
       "      <td>0.687815</td>\n",
       "      <td>320</td>\n",
       "    </tr>\n",
       "  </tbody>\n",
       "</table>\n",
       "<p>65 rows × 34 columns</p>\n",
       "</div>"
      ],
      "text/plain": [
       "                               model_uuid  \\\n",
       "109  13f73c61-7891-4075-83b2-d30ff13ada46   \n",
       "111  5b9f14b7-8096-46b9-ad02-f94f6c4e2840   \n",
       "98   9398d625-0a89-4b6e-88e6-f06cfed9a45d   \n",
       "127  870a5a57-e4df-40ec-84e1-b03e110af5fe   \n",
       "101  97a58786-9c3b-42a3-943e-b49268fea910   \n",
       "..                                    ...   \n",
       "116  829c2357-7cb1-44fa-8862-2ba82718b799   \n",
       "73   d806b552-bbe3-48fd-8fd2-752633a7d361   \n",
       "85   ef7ba80c-b763-4142-8037-f64d07345889   \n",
       "78   7030867d-3856-4247-9220-961a37217b3f   \n",
       "67   343ad0e5-c5bc-49a8-aea7-b601e9f729ec   \n",
       "\n",
       "                                            model_path ampl_version  \\\n",
       "109  /home/pmoulik/RF_sp22/rdkit-raw/OPRD1_sp22_mod...        1.3.0   \n",
       "111  /home/pmoulik/RF_sp22/rdkit-raw/OPRD1_sp22_mod...        1.3.0   \n",
       "98   /home/pmoulik/RF_sp22/rdkit-raw/OPRD1_sp22_mod...        1.3.0   \n",
       "127  /home/pmoulik/RF_sp22/rdkit-raw/OPRD1_sp22_mod...        1.3.0   \n",
       "101  /home/pmoulik/RF_sp22/rdkit-raw/OPRD1_sp22_mod...        1.3.0   \n",
       "..                                                 ...          ...   \n",
       "116  /home/pmoulik/RF_sp22/rdkit-raw/OPRD1_sp22_mod...        1.3.0   \n",
       "73   /home/pmoulik/RF_sp22/rdkit-raw/OPRD1_sp22_mod...        1.3.0   \n",
       "85   /home/pmoulik/RF_sp22/rdkit-raw/OPRD1_sp22_mod...        1.3.0   \n",
       "78   /home/pmoulik/RF_sp22/rdkit-raw/OPRD1_sp22_mod...        1.3.0   \n",
       "67   /home/pmoulik/RF_sp22/rdkit-raw/OPRD1_sp22_mod...        1.3.0   \n",
       "\n",
       "    model_type                   dataset_key featurizer  splitter  \\\n",
       "109         RF  /home/pmoulik/OPRD1_sp22.csv       ecfp  scaffold   \n",
       "111         RF  /home/pmoulik/OPRD1_sp22.csv       ecfp  scaffold   \n",
       "98          RF  /home/pmoulik/OPRD1_sp22.csv       ecfp  scaffold   \n",
       "127         RF  /home/pmoulik/OPRD1_sp22.csv       ecfp  scaffold   \n",
       "101         RF  /home/pmoulik/OPRD1_sp22.csv       ecfp  scaffold   \n",
       "..         ...                           ...        ...       ...   \n",
       "116         RF  /home/pmoulik/OPRD1_sp22.csv       ecfp  scaffold   \n",
       "73          RF  /home/pmoulik/OPRD1_sp22.csv       ecfp  scaffold   \n",
       "85          RF  /home/pmoulik/OPRD1_sp22.csv       ecfp  scaffold   \n",
       "78          RF  /home/pmoulik/OPRD1_sp22.csv       ecfp  scaffold   \n",
       "67          RF  /home/pmoulik/OPRD1_sp22.csv       ecfp  scaffold   \n",
       "\n",
       "    model_score_type feature_transform_type  rf_estimators  ...  \\\n",
       "109               r2          normalization            128  ...   \n",
       "111               r2          normalization            128  ...   \n",
       "98                r2          normalization            128  ...   \n",
       "127               r2          normalization            128  ...   \n",
       "101               r2          normalization            128  ...   \n",
       "..               ...                    ...            ...  ...   \n",
       "116               r2          normalization             16  ...   \n",
       "73                r2          normalization             64  ...   \n",
       "85                r2          normalization            128  ...   \n",
       "78                r2          normalization             32  ...   \n",
       "67                r2          normalization             16  ...   \n",
       "\n",
       "     train_mae_score  train_num_compounds  valid_r2_score  valid_rms_score  \\\n",
       "109         0.176619                 2559        0.760002         0.717437   \n",
       "111         0.176520                 2559        0.758992         0.718945   \n",
       "98          0.266565                 2559        0.755991         0.723408   \n",
       "127         0.177622                 2559        0.755683         0.723865   \n",
       "101         0.177656                 2559        0.755097         0.724732   \n",
       "..               ...                  ...             ...              ...   \n",
       "116         0.292988                 2559        0.714841         0.782030   \n",
       "73          0.393726                 2559        0.689672         0.815814   \n",
       "85          0.389250                 2559        0.687024         0.819286   \n",
       "78          0.390795                 2559        0.685633         0.821105   \n",
       "67          0.391103                 2559        0.682616         0.825036   \n",
       "\n",
       "     valid_mae_score  valid_num_compounds  test_r2_score  test_rms_score  \\\n",
       "109         0.531295                  320       0.702302        0.771359   \n",
       "111         0.531493                  320       0.700897        0.773177   \n",
       "98          0.545546                  320       0.692935        0.783400   \n",
       "127         0.539714                  320       0.699081        0.775521   \n",
       "101         0.540837                  320       0.698494        0.776276   \n",
       "..               ...                  ...            ...             ...   \n",
       "116         0.590016                  320       0.641784        0.846137   \n",
       "73          0.645031                  320       0.617067        0.874842   \n",
       "85          0.643173                  320       0.618935        0.872706   \n",
       "78          0.651557                  320       0.614706        0.877535   \n",
       "67          0.657098                  320       0.616569        0.875411   \n",
       "\n",
       "     test_mae_score test_num_compounds  \n",
       "109        0.576082                320  \n",
       "111        0.576700                320  \n",
       "98         0.586484                320  \n",
       "127        0.579428                320  \n",
       "101        0.579562                320  \n",
       "..              ...                ...  \n",
       "116        0.629644                320  \n",
       "73         0.698975                320  \n",
       "85         0.695611                320  \n",
       "78         0.699058                320  \n",
       "67         0.687815                320  \n",
       "\n",
       "[65 rows x 34 columns]"
      ]
     },
     "execution_count": 8,
     "metadata": {},
     "output_type": "execute_result"
    }
   ],
   "source": [
    "results_OPRD1.sort_values([\"valid_r2_score\"], ascending=[False])"
   ]
  },
  {
   "cell_type": "code",
   "execution_count": null,
   "id": "3d56afef-4180-4887-ad38-6238cd9b364a",
   "metadata": {
    "pycharm": {
     "name": "#%%\n"
    }
   },
   "outputs": [],
   "source": []
  }
 ],
 "metadata": {
  "kernelspec": {
   "display_name": "llnl",
   "language": "python",
   "name": "tdm-brown-scratch-llnl"
  },
  "language_info": {
   "codemirror_mode": {
    "name": "ipython",
    "version": 3
   },
   "file_extension": ".py",
   "mimetype": "text/x-python",
   "name": "python",
   "nbconvert_exporter": "python",
   "pygments_lexer": "ipython3",
   "version": "3.9.6"
  }
 },
 "nbformat": 4,
 "nbformat_minor": 5
}